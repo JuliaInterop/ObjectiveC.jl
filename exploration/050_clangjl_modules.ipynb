{
 "cells": [
  {
   "attachments": {},
   "cell_type": "markdown",
   "metadata": {},
   "source": [
    "Test loading modules\n",
    "======================"
   ]
  },
  {
   "cell_type": "code",
   "execution_count": 1,
   "metadata": {},
   "outputs": [],
   "source": [
    "using Revise\n",
    "using Clang, Clang_jll"
   ]
  },
  {
   "cell_type": "code",
   "execution_count": 2,
   "metadata": {},
   "outputs": [
    {
     "data": {
      "text/plain": [
       "88299"
      ]
     },
     "metadata": {},
     "output_type": "display_data"
    }
   ],
   "source": [
    "## for attaching lldb\n",
    "getpid()"
   ]
  },
  {
   "cell_type": "code",
   "execution_count": 2,
   "metadata": {},
   "outputs": [
    {
     "data": {
      "text/plain": [
       "\"/Users/nehal/src/exploration/llvm-project/llvm/cmake-build-debug/lib/libclang.dylib\""
      ]
     },
     "metadata": {},
     "output_type": "display_data"
    }
   ],
   "source": [
    "## check custom libclang is loaded from LocalPreferences\n",
    "Clang_jll.libclang"
   ]
  },
  {
   "cell_type": "code",
   "execution_count": 3,
   "metadata": {},
   "outputs": [
    {
     "data": {
      "text/plain": [
       "\"/Applications/Xcode.app/Contents/Developer/Platforms/MacOSX.platform/Developer/SDKs/MacOSX.sdk\""
      ]
     },
     "metadata": {},
     "output_type": "display_data"
    }
   ],
   "source": [
    "sdk_dir = `xcrun --show-sdk-path` |> open |> readchomp |> String"
   ]
  },
  {
   "cell_type": "code",
   "execution_count": 4,
   "metadata": {},
   "outputs": [
    {
     "data": {
      "text/plain": [
       "Index(Ptr{Nothing} @0x000000029d9c9b90, 0, 1)"
      ]
     },
     "metadata": {},
     "output_type": "display_data"
    }
   ],
   "source": [
    "index = Index()"
   ]
  },
  {
   "attachments": {},
   "cell_type": "markdown",
   "metadata": {},
   "source": [
    "Load without modules, using umbrella header\n",
    "==========================================="
   ]
  },
  {
   "cell_type": "code",
   "execution_count": 5,
   "metadata": {},
   "outputs": [
    {
     "name": "stderr",
     "output_type": "stream",
     "text": [
      "clang version 13.0.1 (https://github.com/habemus-papadum/llvm-project.git 75e33f71c2dae584b13a7d1186ae0a038ba98838)\n",
      "Target: arm64-apple-darwin22.1.0\n",
      "Thread model: posix\n",
      "InstalledDir: \n",
      "ignoring nonexistent directory \"/Applications/Xcode.app/Contents/Developer/Platforms/MacOSX.platform/Developer/SDKs/MacOSX.sdk/usr/local/include\"\n",
      "ignoring nonexistent directory \"/Applications/Xcode.app/Contents/Developer/Platforms/MacOSX.platform/Developer/SDKs/MacOSX.sdk/Library/Frameworks\"\n",
      "#include \"...\" search starts here:\n",
      "#include <...> search starts here:\n",
      " /Users/nehal/.julia/artifacts/c9828f0ef0f967487ce376a3d8b4c8a646d38ace/lib/clang/13.0.1/include\n",
      " /Applications/Xcode.app/Contents/Developer/Platforms/MacOSX.platform/Developer/SDKs/MacOSX.sdk/usr/include\n",
      " /Applications/Xcode.app/Contents/Developer/Platforms/MacOSX.platform/Developer/SDKs/MacOSX.sdk/System/Library/Frameworks (framework directory)\n",
      "End of search list.\n"
     ]
    },
    {
     "data": {
      "text/plain": [
       "TranslationUnit(Ptr{Clang.LibClang.CXTranslationUnitImpl} @0x000000011ff98df0, Index(Ptr{Nothing} @0x000000029d9c9b90, 0, 1))"
      ]
     },
     "metadata": {},
     "output_type": "display_data"
    }
   ],
   "source": [
    "args = [\n",
    "    \"-x\",\"objective-c\",\n",
    "    \"-isysroot\", sdk_dir,\n",
    "    # \"-fmodules\", \n",
    "    # \"-fmodules-cache-path=cache\",\n",
    "    # \"-fimplicit-module-maps\",\n",
    "    # #\"-fmodules-validate-system-headers\", \n",
    "    \"-fblocks\", \n",
    "    \"-fregister-global-dtors-with-atexit\",\n",
    "    \"-fgnuc-version=4.2.1\", \n",
    "    \"-fobjc-runtime=macosx-13.0.0\", \n",
    "    \"-fobjc-exceptions\", \n",
    "    \"-fexceptions\",\n",
    "    \"-fmax-type-align=16\",\n",
    "    \"-fcommon\", \n",
    "    \"-resource-dir\",\n",
    "    \"/Users/nehal/.julia/artifacts/c9828f0ef0f967487ce376a3d8b4c8a646d38ace/lib/clang/13.0.1\",\n",
    "    \"-DNS_FORMAT_ARGUMENT(A)=\",\n",
    "    \"-D__GCC_HAVE_DWARF2_CFI_ASM=1\",\n",
    "    \"-v\",\n",
    "    ]\n",
    "\n",
    "    \"\"\"\n",
    "    A bit of explanation on what is going on.\n",
    "    In Xcode 13 RC localizedAttributedStringForKey:value:table: method got NS_FORMAT_ARGUMENT(1) macro attribute. Previously, this attribute was applicable only to functions that return a C string, CFString or NSString. Recently, Apple added support in Clang for another type, NSAttributedString. Clang that ships with Kotlin/Native does not have this patch and fails to process localizedAttributedStringForKey:value:table: declaration.\n",
    "    What this workaround does is it makes NS_FORMAT_ARGUMENT(1) a no-op. It is perfectly fine in this case since cinterop does not take this attribute into account anyway.\n",
    "    https://github.com/apple/llvm-project/commit/2de0a18a8949f0235fb3a08dcc55ff3aa7d969e7\n",
    "    \n",
    "    \"\"\"\n",
    "\n",
    "trans_unit = Clang.parse_header(index, \"050_import.h\", args)"
   ]
  },
  {
   "cell_type": "code",
   "execution_count": 6,
   "metadata": {},
   "outputs": [
    {
     "data": {
      "text/plain": [
       "15539-element Vector{CLCursor}:\n",
       " CLCursor (CLObjCClassRef) Protocol\n",
       " CLCursor (CLTypedefDecl) __int8_t\n",
       " CLCursor (CLTypedefDecl) __uint8_t\n",
       " CLCursor (CLTypedefDecl) __int16_t\n",
       " CLCursor (CLTypedefDecl) __uint16_t\n",
       " CLCursor (CLTypedefDecl) __int32_t\n",
       " CLCursor (CLTypedefDecl) __uint32_t\n",
       " CLCursor (CLTypedefDecl) __int64_t\n",
       " CLCursor (CLTypedefDecl) __uint64_t\n",
       " CLCursor (CLTypedefDecl) __darwin_intptr_t\n",
       " ⋮\n",
       " CLCursor (CLObjCClassRef) NSXPCConnection\n",
       " CLCursor (CLObjCInterfaceDecl) NSUserScriptTask\n",
       " CLCursor (CLTypedefDecl) NSUserScriptTaskCompletionHandler\n",
       " CLCursor (CLObjCInterfaceDecl) NSUserUnixTask\n",
       " CLCursor (CLTypedefDecl) NSUserUnixTaskCompletionHandler\n",
       " CLCursor (CLObjCInterfaceDecl) NSUserAppleScriptTask\n",
       " CLCursor (CLTypedefDecl) NSUserAppleScriptTaskCompletionHandler\n",
       " CLCursor (CLObjCInterfaceDecl) NSUserAutomatorTask\n",
       " CLCursor (CLTypedefDecl) NSUserAutomatorTaskCompletionHandler"
      ]
     },
     "metadata": {},
     "output_type": "display_data"
    }
   ],
   "source": [
    "trans_unit |> Clang.getTranslationUnitCursor |> children"
   ]
  },
  {
   "attachments": {},
   "cell_type": "markdown",
   "metadata": {},
   "source": [
    "Load with modules from Libclang\n",
    "=================================\n",
    "Fails, TODO debug why?"
   ]
  },
  {
   "cell_type": "code",
   "execution_count": 7,
   "metadata": {},
   "outputs": [
    {
     "name": "stderr",
     "output_type": "stream",
     "text": [
      "clang version 13.0.1 (https://github.com/habemus-papadum/llvm-project.git 75e33f71c2dae584b13a7d1186ae0a038ba98838)\n",
      "Target: arm64-apple-darwin22.1.0\n",
      "Thread model: posix\n",
      "InstalledDir: \n",
      "ignoring nonexistent directory \"/Applications/Xcode.app/Contents/Developer/Platforms/MacOSX.platform/Developer/SDKs/MacOSX.sdk/usr/local/include\"\n",
      "ignoring nonexistent directory \"/Applications/Xcode.app/Contents/Developer/Platforms/MacOSX.platform/Developer/SDKs/MacOSX.sdk/Library/Frameworks\"\n",
      "#include \"...\" search starts here:\n",
      "#include <...> search starts here:\n",
      " /Users/nehal/.julia/artifacts/c9828f0ef0f967487ce376a3d8b4c8a646d38ace/lib/clang/13.0.1/include\n",
      " /Applications/Xcode.app/Contents/Developer/Platforms/MacOSX.platform/Developer/SDKs/MacOSX.sdk/usr/include\n",
      " /Applications/Xcode.app/Contents/Developer/Platforms/MacOSX.platform/Developer/SDKs/MacOSX.sdk/System/Library/Frameworks (framework directory)\n",
      "End of search list.\n",
      "clang -cc1 version 13.0.1 based upon LLVM 13.0.1 default target arm64-apple-darwin22.1.0\n",
      "ignoring nonexistent directory \"/Applications/Xcode.app/Contents/Developer/Platforms/MacOSX.platform/Developer/SDKs/MacOSX.sdk/usr/local/include\"\n",
      "ignoring nonexistent directory \"/Applications/Xcode.app/Contents/Developer/Platforms/MacOSX.platform/Developer/SDKs/MacOSX.sdk/Library/Frameworks\"\n",
      "#include \"...\" search starts here:\n",
      "#include <...> search starts here:\n",
      " /Users/nehal/.julia/artifacts/c9828f0ef0f967487ce376a3d8b4c8a646d38ace/lib/clang/13.0.1/include\n",
      " /Applications/Xcode.app/Contents/Developer/Platforms/MacOSX.platform/Developer/SDKs/MacOSX.sdk/usr/include\n",
      " /Applications/Xcode.app/Contents/Developer/Platforms/MacOSX.platform/Developer/SDKs/MacOSX.sdk/System/Library/Frameworks (framework directory)\n",
      "End of search list.\n",
      "clang -cc1 version 13.0.1 based upon LLVM 13.0.1 default target arm64-apple-darwin22.1.0\n",
      "ignoring nonexistent directory \"/Applications/Xcode.app/Contents/Developer/Platforms/MacOSX.platform/Developer/SDKs/MacOSX.sdk/usr/local/include\"\n",
      "ignoring nonexistent directory \"/Applications/Xcode.app/Contents/Developer/Platforms/MacOSX.platform/Developer/SDKs/MacOSX.sdk/Library/Frameworks\"\n",
      "#include \"...\" search starts here:\n",
      "#include <...> search starts here:\n",
      " /Users/nehal/.julia/artifacts/c9828f0ef0f967487ce376a3d8b4c8a646d38ace/lib/clang/13.0.1/include\n",
      " /Applications/Xcode.app/Contents/Developer/Platforms/MacOSX.platform/Developer/SDKs/MacOSX.sdk/usr/include\n",
      " /Applications/Xcode.app/Contents/Developer/Platforms/MacOSX.platform/Developer/SDKs/MacOSX.sdk/System/Library/Frameworks (framework directory)\n",
      "End of search list.\n",
      "clang -cc1 version 13.0.1 based upon LLVM 13.0.1 default target arm64-apple-darwin22.1.0\n",
      "ignoring nonexistent directory \"/Applications/Xcode.app/Contents/Developer/Platforms/MacOSX.platform/Developer/SDKs/MacOSX.sdk/usr/local/include\"\n",
      "ignoring nonexistent directory \"/Applications/Xcode.app/Contents/Developer/Platforms/MacOSX.platform/Developer/SDKs/MacOSX.sdk/Library/Frameworks\"\n",
      "#include \"...\" search starts here:\n",
      "#include <...> search starts here:\n",
      " /Users/nehal/.julia/artifacts/c9828f0ef0f967487ce376a3d8b4c8a646d38ace/lib/clang/13.0.1/include\n",
      " /Applications/Xcode.app/Contents/Developer/Platforms/MacOSX.platform/Developer/SDKs/MacOSX.sdk/usr/include\n",
      " /Applications/Xcode.app/Contents/Developer/Platforms/MacOSX.platform/Developer/SDKs/MacOSX.sdk/System/Library/Frameworks (framework directory)\n",
      "End of search list.\n",
      "clang -cc1 version 13.0.1 based upon LLVM 13.0.1 default target arm64-apple-darwin22.1.0\n",
      "ignoring nonexistent directory \"/Applications/Xcode.app/Contents/Developer/Platforms/MacOSX.platform/Developer/SDKs/MacOSX.sdk/usr/local/include\"\n",
      "ignoring nonexistent directory \"/Applications/Xcode.app/Contents/Developer/Platforms/MacOSX.platform/Developer/SDKs/MacOSX.sdk/Library/Frameworks\"\n",
      "#include \"...\" search starts here:\n",
      "#include <...> search starts here:\n",
      " /Users/nehal/.julia/artifacts/c9828f0ef0f967487ce376a3d8b4c8a646d38ace/lib/clang/13.0.1/include\n",
      " /Applications/Xcode.app/Contents/Developer/Platforms/MacOSX.platform/Developer/SDKs/MacOSX.sdk/usr/include\n",
      " /Applications/Xcode.app/Contents/Developer/Platforms/MacOSX.platform/Developer/SDKs/MacOSX.sdk/System/Library/Frameworks (framework directory)\n",
      "End of search list.\n",
      "clang -cc1 version 13.0.1 based upon LLVM 13.0.1 default target arm64-apple-darwin22.1.0\n",
      "ignoring nonexistent directory \"/Applications/Xcode.app/Contents/Developer/Platforms/MacOSX.platform/Developer/SDKs/MacOSX.sdk/usr/local/include\"\n",
      "ignoring nonexistent directory \"/Applications/Xcode.app/Contents/Developer/Platforms/MacOSX.platform/Developer/SDKs/MacOSX.sdk/Library/Frameworks\"\n",
      "#include \"...\" search starts here:\n",
      "#include <...> search starts here:\n",
      " /Users/nehal/.julia/artifacts/c9828f0ef0f967487ce376a3d8b4c8a646d38ace/lib/clang/13.0.1/include\n",
      " /Applications/Xcode.app/Contents/Developer/Platforms/MacOSX.platform/Developer/SDKs/MacOSX.sdk/usr/include\n",
      " /Applications/Xcode.app/Contents/Developer/Platforms/MacOSX.platform/Developer/SDKs/MacOSX.sdk/System/Library/Frameworks (framework directory)\n",
      "End of search list.\n",
      "clang -cc1 version 13.0.1 based upon LLVM 13.0.1 default target arm64-apple-darwin22.1.0\n",
      "ignoring nonexistent directory \"/Applications/Xcode.app/Contents/Developer/Platforms/MacOSX.platform/Developer/SDKs/MacOSX.sdk/usr/local/include\"\n",
      "ignoring nonexistent directory \"/Applications/Xcode.app/Contents/Developer/Platforms/MacOSX.platform/Developer/SDKs/MacOSX.sdk/Library/Frameworks\"\n",
      "#include \"...\" search starts here:\n",
      "#include <...> search starts here:\n",
      " /Users/nehal/.julia/artifacts/c9828f0ef0f967487ce376a3d8b4c8a646d38ace/lib/clang/13.0.1/include\n",
      " /Applications/Xcode.app/Contents/Developer/Platforms/MacOSX.platform/Developer/SDKs/MacOSX.sdk/usr/include\n",
      " /Applications/Xcode.app/Contents/Developer/Platforms/MacOSX.platform/Developer/SDKs/MacOSX.sdk/System/Library/Frameworks (framework directory)\n",
      "End of search list.\n",
      "clang -cc1 version 13.0.1 based upon LLVM 13.0.1 default target arm64-apple-darwin22.1.0\n",
      "ignoring nonexistent directory \"/Applications/Xcode.app/Contents/Developer/Platforms/MacOSX.platform/Developer/SDKs/MacOSX.sdk/usr/local/include\"\n",
      "ignoring nonexistent directory \"/Applications/Xcode.app/Contents/Developer/Platforms/MacOSX.platform/Developer/SDKs/MacOSX.sdk/Library/Frameworks\"\n",
      "#include \"...\" search starts here:\n",
      "#include <...> search starts here:\n",
      " /Users/nehal/.julia/artifacts/c9828f0ef0f967487ce376a3d8b4c8a646d38ace/lib/clang/13.0.1/include\n",
      " /Applications/Xcode.app/Contents/Developer/Platforms/MacOSX.platform/Developer/SDKs/MacOSX.sdk/usr/include\n",
      " /Applications/Xcode.app/Contents/Developer/Platforms/MacOSX.platform/Developer/SDKs/MacOSX.sdk/System/Library/Frameworks (framework directory)\n",
      "End of search list.\n",
      "clang -cc1 version 13.0.1 based upon LLVM 13.0.1 default target arm64-apple-darwin22.1.0\n",
      "ignoring nonexistent directory \"/Applications/Xcode.app/Contents/Developer/Platforms/MacOSX.platform/Developer/SDKs/MacOSX.sdk/usr/local/include\"\n",
      "ignoring nonexistent directory \"/Applications/Xcode.app/Contents/Developer/Platforms/MacOSX.platform/Developer/SDKs/MacOSX.sdk/Library/Frameworks\"\n",
      "#include \"...\" search starts here:\n",
      "#include <...> search starts here:\n",
      " /Users/nehal/.julia/artifacts/c9828f0ef0f967487ce376a3d8b4c8a646d38ace/lib/clang/13.0.1/include\n",
      " /Applications/Xcode.app/Contents/Developer/Platforms/MacOSX.platform/Developer/SDKs/MacOSX.sdk/usr/include\n",
      " /Applications/Xcode.app/Contents/Developer/Platforms/MacOSX.platform/Developer/SDKs/MacOSX.sdk/System/Library/Frameworks (framework directory)\n",
      "End of search list.\n",
      "clang -cc1 version 13.0.1 based upon LLVM 13.0.1 default target arm64-apple-darwin22.1.0\n",
      "ignoring nonexistent directory \"/Applications/Xcode.app/Contents/Developer/Platforms/MacOSX.platform/Developer/SDKs/MacOSX.sdk/usr/local/include\"\n",
      "ignoring nonexistent directory \"/Applications/Xcode.app/Contents/Developer/Platforms/MacOSX.platform/Developer/SDKs/MacOSX.sdk/Library/Frameworks\"\n",
      "#include \"...\" search starts here:\n",
      "#include <...> search starts here:\n",
      " /Users/nehal/.julia/artifacts/c9828f0ef0f967487ce376a3d8b4c8a646d38ace/lib/clang/13.0.1/include\n",
      " /Applications/Xcode.app/Contents/Developer/Platforms/MacOSX.platform/Developer/SDKs/MacOSX.sdk/usr/include\n",
      " /Applications/Xcode.app/Contents/Developer/Platforms/MacOSX.platform/Developer/SDKs/MacOSX.sdk/System/Library/Frameworks (framework directory)\n",
      "End of search list.\n",
      "clang -cc1 version 13.0.1 based upon LLVM 13.0.1 default target arm64-apple-darwin22.1.0\n",
      "ignoring nonexistent directory \"/Applications/Xcode.app/Contents/Developer/Platforms/MacOSX.platform/Developer/SDKs/MacOSX.sdk/usr/local/include\"\n",
      "ignoring nonexistent directory \"/Applications/Xcode.app/Contents/Developer/Platforms/MacOSX.platform/Developer/SDKs/MacOSX.sdk/Library/Frameworks\"\n",
      "#include \"...\" search starts here:\n",
      "#include <...> search starts here:\n",
      " /Users/nehal/.julia/artifacts/c9828f0ef0f967487ce376a3d8b4c8a646d38ace/lib/clang/13.0.1/include\n",
      " /Applications/Xcode.app/Contents/Developer/Platforms/MacOSX.platform/Developer/SDKs/MacOSX.sdk/usr/include\n",
      " /Applications/Xcode.app/Contents/Developer/Platforms/MacOSX.platform/Developer/SDKs/MacOSX.sdk/System/Library/Frameworks (framework directory)\n",
      "End of search list.\n",
      "clang -cc1 version 13.0.1 based upon LLVM 13.0.1 default target arm64-apple-darwin22.1.0\n",
      "ignoring nonexistent directory \"/Applications/Xcode.app/Contents/Developer/Platforms/MacOSX.platform/Developer/SDKs/MacOSX.sdk/usr/local/include\"\n",
      "ignoring nonexistent directory \"/Applications/Xcode.app/Contents/Developer/Platforms/MacOSX.platform/Developer/SDKs/MacOSX.sdk/Library/Frameworks\"\n",
      "#include \"...\" search starts here:\n",
      "#include <...> search starts here:\n",
      " /Users/nehal/.julia/artifacts/c9828f0ef0f967487ce376a3d8b4c8a646d38ace/lib/clang/13.0.1/include\n",
      " /Applications/Xcode.app/Contents/Developer/Platforms/MacOSX.platform/Developer/SDKs/MacOSX.sdk/usr/include\n",
      " /Applications/Xcode.app/Contents/Developer/Platforms/MacOSX.platform/Developer/SDKs/MacOSX.sdk/System/Library/Frameworks (framework directory)\n",
      "End of search list.\n",
      "clang -cc1 version 13.0.1 based upon LLVM 13.0.1 default target arm64-apple-darwin22.1.0\n",
      "ignoring nonexistent directory \"/Applications/Xcode.app/Contents/Developer/Platforms/MacOSX.platform/Developer/SDKs/MacOSX.sdk/usr/local/include\"\n",
      "ignoring nonexistent directory \"/Applications/Xcode.app/Contents/Developer/Platforms/MacOSX.platform/Developer/SDKs/MacOSX.sdk/Library/Frameworks\"\n",
      "#include \"...\" search starts here:\n",
      "#include <...> search starts here:\n",
      " /Users/nehal/.julia/artifacts/c9828f0ef0f967487ce376a3d8b4c8a646d38ace/lib/clang/13.0.1/include\n",
      " /Applications/Xcode.app/Contents/Developer/Platforms/MacOSX.platform/Developer/SDKs/MacOSX.sdk/usr/include\n",
      " /Applications/Xcode.app/Contents/Developer/Platforms/MacOSX.platform/Developer/SDKs/MacOSX.sdk/System/Library/Frameworks (framework directory)\n",
      "End of search list.\n",
      "clang -cc1 version 13.0.1 based upon LLVM 13.0.1 default target arm64-apple-darwin22.1.0\n",
      "ignoring nonexistent directory \"/Applications/Xcode.app/Contents/Developer/Platforms/MacOSX.platform/Developer/SDKs/MacOSX.sdk/usr/local/include\"\n",
      "ignoring nonexistent directory \"/Applications/Xcode.app/Contents/Developer/Platforms/MacOSX.platform/Developer/SDKs/MacOSX.sdk/Library/Frameworks\"\n",
      "#include \"...\" search starts here:\n",
      "#include <...> search starts here:\n",
      " /Users/nehal/.julia/artifacts/c9828f0ef0f967487ce376a3d8b4c8a646d38ace/lib/clang/13.0.1/include\n",
      " /Applications/Xcode.app/Contents/Developer/Platforms/MacOSX.platform/Developer/SDKs/MacOSX.sdk/usr/include\n",
      " /Applications/Xcode.app/Contents/Developer/Platforms/MacOSX.platform/Developer/SDKs/MacOSX.sdk/System/Library/Frameworks (framework directory)\n",
      "End of search list.\n",
      "clang -cc1 version 13.0.1 based upon LLVM 13.0.1 default target arm64-apple-darwin22.1.0\n",
      "ignoring nonexistent directory \"/Applications/Xcode.app/Contents/Developer/Platforms/MacOSX.platform/Developer/SDKs/MacOSX.sdk/usr/local/include\"\n",
      "ignoring nonexistent directory \"/Applications/Xcode.app/Contents/Developer/Platforms/MacOSX.platform/Developer/SDKs/MacOSX.sdk/Library/Frameworks\"\n",
      "#include \"...\" search starts here:\n",
      "#include <...> search starts here:\n",
      " /Users/nehal/.julia/artifacts/c9828f0ef0f967487ce376a3d8b4c8a646d38ace/lib/clang/13.0.1/include\n",
      " /Applications/Xcode.app/Contents/Developer/Platforms/MacOSX.platform/Developer/SDKs/MacOSX.sdk/usr/include\n",
      " /Applications/Xcode.app/Contents/Developer/Platforms/MacOSX.platform/Developer/SDKs/MacOSX.sdk/System/Library/Frameworks (framework directory)\n",
      "End of search list.\n",
      "clang -cc1 version 13.0.1 based upon LLVM 13.0.1 default target arm64-apple-darwin22.1.0\n",
      "ignoring nonexistent directory \"/Applications/Xcode.app/Contents/Developer/Platforms/MacOSX.platform/Developer/SDKs/MacOSX.sdk/usr/local/include\"\n",
      "ignoring nonexistent directory \"/Applications/Xcode.app/Contents/Developer/Platforms/MacOSX.platform/Developer/SDKs/MacOSX.sdk/Library/Frameworks\"\n",
      "#include \"...\" search starts here:\n",
      "#include <...> search starts here:\n",
      " /Users/nehal/.julia/artifacts/c9828f0ef0f967487ce376a3d8b4c8a646d38ace/lib/clang/13.0.1/include\n",
      " /Applications/Xcode.app/Contents/Developer/Platforms/MacOSX.platform/Developer/SDKs/MacOSX.sdk/usr/include\n",
      " /Applications/Xcode.app/Contents/Developer/Platforms/MacOSX.platform/Developer/SDKs/MacOSX.sdk/System/Library/Frameworks (framework directory)\n",
      "End of search list.\n",
      "clang -cc1 version 13.0.1 based upon LLVM 13.0.1 default target arm64-apple-darwin22.1.0\n",
      "ignoring nonexistent directory \"/Applications/Xcode.app/Contents/Developer/Platforms/MacOSX.platform/Developer/SDKs/MacOSX.sdk/usr/local/include\"\n",
      "ignoring nonexistent directory \"/Applications/Xcode.app/Contents/Developer/Platforms/MacOSX.platform/Developer/SDKs/MacOSX.sdk/Library/Frameworks\"\n",
      "#include \"...\" search starts here:\n",
      "#include <...> search starts here:\n",
      " /Users/nehal/.julia/artifacts/c9828f0ef0f967487ce376a3d8b4c8a646d38ace/lib/clang/13.0.1/include\n",
      " /Applications/Xcode.app/Contents/Developer/Platforms/MacOSX.platform/Developer/SDKs/MacOSX.sdk/usr/include\n",
      " /Applications/Xcode.app/Contents/Developer/Platforms/MacOSX.platform/Developer/SDKs/MacOSX.sdk/System/Library/Frameworks (framework directory)\n",
      "End of search list.\n",
      "050_import.h:1:9: fatal error: could not build module 'Foundation'\n"
     ]
    },
    {
     "data": {
      "text/plain": [
       "TranslationUnit(Ptr{Clang.LibClang.CXTranslationUnitImpl} @0x000000029dbbd460, Index(Ptr{Nothing} @0x000000029d9c9b90, 0, 1))"
      ]
     },
     "metadata": {},
     "output_type": "display_data"
    }
   ],
   "source": [
    "args = [\n",
    "    \"-x\",\"objective-c\",\n",
    "    \"-isysroot\", sdk_dir,\n",
    "    \"-fmodules\", \n",
    "    \"-fmodules-cache-path=cache\",\n",
    "    \"-fimplicit-module-maps\",\n",
    "    \"-fmodules-validate-system-headers\", \n",
    "    \"-fblocks\", \n",
    "    \"-fregister-global-dtors-with-atexit\",\n",
    "    \"-fgnuc-version=4.2.1\", \n",
    "    \"-fobjc-runtime=macosx-13.0.0\", \n",
    "    \"-fobjc-exceptions\", \n",
    "    \"-fexceptions\",\n",
    "    \"-fmax-type-align=16\",\n",
    "    \"-fcommon\", \n",
    "    \"-resource-dir\",\n",
    "    \"/Users/nehal/.julia/artifacts/c9828f0ef0f967487ce376a3d8b4c8a646d38ace/lib/clang/13.0.1\",\n",
    "    \"-DNS_FORMAT_ARGUMENT(A)=\",\n",
    "    \"-D__GCC_HAVE_DWARF2_CFI_ASM=1\",\n",
    "    \"-v\",\n",
    "    ]\n",
    "\n",
    "    \"\"\"\n",
    "    A bit of explanation on what is going on.\n",
    "    In Xcode 13 RC localizedAttributedStringForKey:value:table: method got NS_FORMAT_ARGUMENT(1) macro attribute. Previously, this attribute was applicable only to functions that return a C string, CFString or NSString. Recently, Apple added support in Clang for another type, NSAttributedString. Clang that ships with Kotlin/Native does not have this patch and fails to process localizedAttributedStringForKey:value:table: declaration.\n",
    "    What this workaround does is it makes NS_FORMAT_ARGUMENT(1) a no-op. It is perfectly fine in this case since cinterop does not take this attribute into account anyway.\n",
    "    https://github.com/apple/llvm-project/commit/2de0a18a8949f0235fb3a08dcc55ff3aa7d969e7\n",
    "    \n",
    "    \"\"\"\n",
    "\n",
    "trans_unit = Clang.parse_header(index, \"050_import.h\", args)"
   ]
  },
  {
   "attachments": {},
   "cell_type": "markdown",
   "metadata": {},
   "source": [
    "Precompiled Headers\n",
    "=======================\n",
    "- Try creating pch via clang and then loading via libclang (to work around module building problems) \n",
    "   "
   ]
  },
  {
   "attachments": {},
   "cell_type": "markdown",
   "metadata": {},
   "source": [
    "## Digression\n",
    "---------------\n",
    "Using even slightly mismatched clang and libclang cuases problems (e.g. same version but different git describe)"
   ]
  },
  {
   "cell_type": "code",
   "execution_count": 8,
   "metadata": {},
   "outputs": [],
   "source": [
    "run(`$(clang()) -x objective-c 050_import.h -emit-ast -o test.pch -fmodules -isysroot $sdk_dir \"-DNS_FORMAT_ARGUMENT(A)=\"`);\n",
    "nothing\n",
    "#clang -x objective-c 050_import.h -emit-ast -o test.pch -fmodules"
   ]
  },
  {
   "cell_type": "code",
   "execution_count": 9,
   "metadata": {},
   "outputs": [
    {
     "data": {
      "text/plain": [
       "Ptr{Clang.LibClang.CXTranslationUnitImpl} @0x0000000000000000"
      ]
     },
     "metadata": {},
     "output_type": "display_data"
    }
   ],
   "source": [
    "ptr = Clang.clang_createTranslationUnit(index, \"test.pch\")\n",
    "## fails -- Using a custom built libclang but jll clang has version mismatch due to git hash being different -- need to lldb to see this, there is flag that disables this\n",
    "## level of version compatibility checking but not sure how to pass it to libclang"
   ]
  },
  {
   "attachments": {},
   "cell_type": "markdown",
   "metadata": {},
   "source": [
    "## Try clang from same build as libclang\n",
    "First using a non-module header from last time"
   ]
  },
  {
   "cell_type": "code",
   "execution_count": 10,
   "metadata": {},
   "outputs": [],
   "source": [
    "myclang = \"/Users/nehal/src/exploration/llvm-project/llvm/cmake-build-debug/bin/clang\"\n",
    "run(`$(myclang) -x c 048_testa.h -emit-ast -o testa.pch -isysroot $sdk_dir`);"
   ]
  },
  {
   "cell_type": "code",
   "execution_count": 11,
   "metadata": {},
   "outputs": [
    {
     "data": {
      "text/plain": [
       "Ptr{Clang.LibClang.CXTranslationUnitImpl} @0x000000011fd17110"
      ]
     },
     "metadata": {},
     "output_type": "display_data"
    }
   ],
   "source": [
    "ptr = Clang.clang_createTranslationUnit(index, \"testa.pch\")"
   ]
  },
  {
   "cell_type": "code",
   "execution_count": 12,
   "metadata": {},
   "outputs": [],
   "source": [
    "## works!"
   ]
  },
  {
   "cell_type": "code",
   "execution_count": 13,
   "metadata": {},
   "outputs": [
    {
     "data": {
      "text/plain": [
       "TranslationUnit(Ptr{Clang.LibClang.CXTranslationUnitImpl} @0x000000029dcd1660, Index(Ptr{Nothing} @0x000000029d9c9b90, 0, 1))"
      ]
     },
     "metadata": {},
     "output_type": "display_data"
    }
   ],
   "source": [
    "tu = load_ast(index, \"testa.pch\")"
   ]
  },
  {
   "cell_type": "code",
   "execution_count": 14,
   "metadata": {},
   "outputs": [
    {
     "name": "stdout",
     "output_type": "stream",
     "text": [
      "CLCursor (CLFunctionDecl) c()\t/Users/nehal/src/ObjectiveC.jl/exploration/048_testc.h\n",
      "CLCursor (CLFunctionDecl) b()\t/Users/nehal/src/ObjectiveC.jl/exploration/048_testb.h\n",
      "CLCursor (CLStructDecl) \t/Users/nehal/src/ObjectiveC.jl/exploration/048_testa.h\n"
     ]
    },
    {
     "name": "stdout",
     "output_type": "stream",
     "text": [
      "CLCursor (CLTypedefDecl) Bar\t/Users/nehal/src/ObjectiveC.jl/exploration/048_testa.h\n"
     ]
    }
   ],
   "source": [
    "for c in tu |> Clang.getTranslationUnitCursor |> children\n",
    "    println(\"$(c)\\t$(get_filename(c))\")\n",
    "end"
   ]
  },
  {
   "attachments": {},
   "cell_type": "markdown",
   "metadata": {},
   "source": [
    "Now Back to focusing on Modules\n",
    "================================"
   ]
  },
  {
   "attachments": {},
   "cell_type": "markdown",
   "metadata": {},
   "source": [
    "PCH with Modules, using legacy `#import`\n",
    "======================"
   ]
  },
  {
   "cell_type": "code",
   "execution_count": 15,
   "metadata": {},
   "outputs": [],
   "source": [
    "# pch with modules, #import\n",
    "run(`$(myclang) -x objective-c 050_import.h -emit-ast -o import.pch -fmodules -isysroot $sdk_dir \"-DNS_FORMAT_ARGUMENT(A)=\"`);"
   ]
  },
  {
   "cell_type": "code",
   "execution_count": 16,
   "metadata": {},
   "outputs": [
    {
     "name": "stdout",
     "output_type": "stream",
     "text": [
      "CLCursor (CLObjCClassRef) Protocol\t\n",
      "CLCursor (CLTypedefDecl) max_align_t\t/Users/nehal/src/exploration/llvm-project/llvm/cmake-build-debug/lib/clang/13.0.1/include/__stddef_max_align_t.h\n",
      "CLCursor (CLFunctionDecl) cacosf(_Complex float)\t/Applications/Xcode.app/Contents/Developer/Platforms/MacOSX.platform/Developer/SDKs/MacOSX.sdk/usr/include/complex.h\n",
      "CLCursor (CLFunctionDecl) cacos(_Complex double)\t/Applications/Xcode.app/Contents/Developer/Platforms/MacOSX.platform/Developer/SDKs/MacOSX.sdk/usr/include/complex.h\n",
      "CLCursor (CLFunctionDecl) cacosl(_Complex long double)\t/Applications/Xcode.app/Contents/Developer/Platforms/MacOSX.platform/Developer/SDKs/MacOSX.sdk/usr/include/complex.h\n",
      "CLCursor (CLFunctionDecl) casinf(_Complex float)\t/Applications/Xcode.app/Contents/Developer/Platforms/MacOSX.platform/Developer/SDKs/MacOSX.sdk/usr/include/complex.h\n",
      "CLCursor (CLFunctionDecl) casin(_Complex double)\t/Applications/Xcode.app/Contents/Developer/Platforms/MacOSX.platform/Developer/SDKs/MacOSX.sdk/usr/include/complex.h\n",
      "CLCursor (CLFunctionDecl) casinl(_Complex long double)\t/Applications/Xcode.app/Contents/Developer/Platforms/MacOSX.platform/Developer/SDKs/MacOSX.sdk/usr/include/complex.h\n",
      "CLCursor (CLFunctionDecl) catanf(_Complex float)\t/Applications/Xcode.app/Contents/Developer/Platforms/MacOSX.platform/Developer/SDKs/MacOSX.sdk/usr/include/complex.h\n",
      "CLCursor (CLFunctionDecl) catan(_Complex double)\t/Applications/Xcode.app/Contents/Developer/Platforms/MacOSX.platform/Developer/SDKs/MacOSX.sdk/usr/include/complex.h\n"
     ]
    }
   ],
   "source": [
    "for c in load_ast(index, \"import.pch\") |> Clang.getTranslationUnitCursor |> children |> x -> Iterators.take(x,10)\n",
    "    println(\"$(c)\\t$(get_filename(c))\")\n",
    "end"
   ]
  },
  {
   "attachments": {},
   "cell_type": "markdown",
   "metadata": {},
   "source": [
    "PCH with Modules, using `@import`\n",
    "======================"
   ]
  },
  {
   "cell_type": "code",
   "execution_count": 17,
   "metadata": {},
   "outputs": [],
   "source": [
    "# pch with modules, @import\n",
    "run(`$(myclang) -x objective-c 050_import_module.h -emit-ast -o import_module.pch -fmodules -isysroot $sdk_dir \"-DNS_FORMAT_ARGUMENT(A)=\"`);"
   ]
  },
  {
   "cell_type": "code",
   "execution_count": 18,
   "metadata": {},
   "outputs": [
    {
     "name": "stdout",
     "output_type": "stream",
     "text": [
      "CLCursor (CLObjCClassRef) Protocol\t\n",
      "CLCursor (CLTypedefDecl) max_align_t\t/Users/nehal/src/exploration/llvm-project/llvm/cmake-build-debug/lib/clang/13.0.1/include/__stddef_max_align_t.h\n",
      "CLCursor (CLFunctionDecl) cacosf(_Complex float)\t/Applications/Xcode.app/Contents/Developer/Platforms/MacOSX.platform/Developer/SDKs/MacOSX.sdk/usr/include/complex.h\n",
      "CLCursor (CLFunctionDecl) cacos(_Complex double)\t/Applications/Xcode.app/Contents/Developer/Platforms/MacOSX.platform/Developer/SDKs/MacOSX.sdk/usr/include/complex.h\n",
      "CLCursor (CLFunctionDecl) cacosl(_Complex long double)\t/Applications/Xcode.app/Contents/Developer/Platforms/MacOSX.platform/Developer/SDKs/MacOSX.sdk/usr/include/complex.h\n",
      "CLCursor (CLFunctionDecl) casinf(_Complex float)\t/Applications/Xcode.app/Contents/Developer/Platforms/MacOSX.platform/Developer/SDKs/MacOSX.sdk/usr/include/complex.h\n",
      "CLCursor (CLFunctionDecl) casin(_Complex double)\t/Applications/Xcode.app/Contents/Developer/Platforms/MacOSX.platform/Developer/SDKs/MacOSX.sdk/usr/include/complex.h\n",
      "CLCursor (CLFunctionDecl) casinl(_Complex long double)\t/Applications/Xcode.app/Contents/Developer/Platforms/MacOSX.platform/Developer/SDKs/MacOSX.sdk/usr/include/complex.h\n",
      "CLCursor (CLFunctionDecl) catanf(_Complex float)\t/Applications/Xcode.app/Contents/Developer/Platforms/MacOSX.platform/Developer/SDKs/MacOSX.sdk/usr/include/complex.h\n",
      "CLCursor (CLFunctionDecl) catan(_Complex double)\t/Applications/Xcode.app/Contents/Developer/Platforms/MacOSX.platform/Developer/SDKs/MacOSX.sdk/usr/include/complex.h\n"
     ]
    }
   ],
   "source": [
    "for c in load_ast(index, \"import_module.pch\") |> Clang.getTranslationUnitCursor |> children |> x -> Iterators.take(x,10)\n",
    "    println(\"$(c)\\t$(get_filename(c))\")\n",
    "end"
   ]
  },
  {
   "cell_type": "code",
   "execution_count": 19,
   "metadata": {},
   "outputs": [
    {
     "data": {
      "text/plain": [
       "CLCursor (CLFunctionDecl) cacosf(_Complex float)"
      ]
     },
     "metadata": {},
     "output_type": "display_data"
    }
   ],
   "source": [
    "tu = load_ast(index, \"import_module.pch\")\n",
    "toplevel =  tu |> Clang.getTranslationUnitCursor |> children |> collect \n",
    "cu = toplevel[3]\n"
   ]
  },
  {
   "attachments": {},
   "cell_type": "markdown",
   "metadata": {},
   "source": [
    "Module Names\n",
    "======================="
   ]
  },
  {
   "cell_type": "code",
   "execution_count": 21,
   "metadata": {},
   "outputs": [
    {
     "ename": "ErrorException",
     "evalue": "cannot assign a value to variable Clang.file from module Main",
     "output_type": "error",
     "traceback": [
      "cannot assign a value to variable Clang.file from module Main\n",
      "\n",
      "Stacktrace:\n",
      " [1] top-level scope\n",
      "   @ ~/src/ObjectiveC.jl/exploration/050_clangjl_modules.ipynb:2"
     ]
    }
   ],
   "source": [
    "## modules\n",
    "file = Ref{Clang.CXFile}(C_NULL)\n",
    "location = Clang.clang_getCursorLocation(cu)\n",
    "Clang.clang_getExpansionLocation(location, file, Ref{Cuint}(0), Ref{Cuint}(0), Ref{Cuint}(0))\n",
    "mptr = Clang.clang_getModuleForFile(tu, file[])\n",
    "cxstr = Clang.clang_Module_getFullName(mptr)\n",
    "ptr = Clang.clang_getCString(cxstr)\n",
    "s = ptr == C_NULL ? \"\" : unsafe_string(ptr)\n",
    "Clang.clang_disposeString(cxstr)\n",
    "s"
   ]
  },
  {
   "cell_type": "code",
   "execution_count": 20,
   "metadata": {},
   "outputs": [
    {
     "name": "stdout",
     "output_type": "stream",
     "text": [
      "(file, file2) = (Clang.file, Base.RefValue{Ptr{Nothing}}(Ptr{Nothing} @0x0000000102e2a0e0))\n"
     ]
    },
    {
     "ename": "UndefVarError",
     "evalue": "UndefVarError: mptr not defined",
     "output_type": "error",
     "traceback": [
      "UndefVarError: mptr not defined\n",
      "\n",
      "Stacktrace:\n",
      " [1] top-level scope\n",
      "   @ show.jl:1047"
     ]
    }
   ],
   "source": [
    "cu2 = toplevel[3]\n",
    "file2 = Ref{Clang.CXFile}(C_NULL)\n",
    "location2 = Clang.clang_getCursorLocation(cu2)\n",
    "Clang.clang_getExpansionLocation(location2, file2, Ref{Cuint}(0), Ref{Cuint}(0), Ref{Cuint}(0))\n",
    "mptr2 = Clang.clang_getModuleForFile(tu, file2[])\n",
    "@show file, file2\n",
    "@show mptr, mptr2"
   ]
  },
  {
   "cell_type": "code",
   "execution_count": 25,
   "metadata": {},
   "outputs": [
    {
     "data": {
      "text/plain": [
       "\"clang version 13.0.1 (https://github.com/habemus-papadum/llvm-project.git 75e33f71c2dae584b13a7d1186ae0a038ba98838)\""
      ]
     },
     "metadata": {},
     "output_type": "display_data"
    }
   ],
   "source": [
    "Clang.version()"
   ]
  },
  {
   "cell_type": "code",
   "execution_count": 12,
   "metadata": {},
   "outputs": [
    {
     "data": {
      "text/plain": [
       "v\"13.0.1\""
      ]
     },
     "metadata": {},
     "output_type": "display_data"
    }
   ],
   "source": [
    "Base.libllvm_version"
   ]
  }
 ],
 "metadata": {
  "kernelspec": {
   "display_name": "Julia 1.8.5",
   "language": "julia",
   "name": "julia-1.8"
  },
  "language_info": {
   "file_extension": ".jl",
   "mimetype": "application/julia",
   "name": "julia",
   "version": "1.8.5"
  },
  "orig_nbformat": 4
 },
 "nbformat": 4,
 "nbformat_minor": 2
}
