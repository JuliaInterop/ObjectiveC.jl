{
 "cells": [
  {
   "attachments": {},
   "cell_type": "markdown",
   "metadata": {},
   "source": [
    "Explore `modulemap` files in the SDK. \n",
    "=====================================\n",
    "- These should be the root sources for Julia Package generaton\n",
    "- References\n",
    "  - https://clang.llvm.org/docs/Modules.html\n",
    "  - https://clang.llvm.org/docs/Modules.html#module-map-language\n",
    "  - https://github.com/daltonclaybrook/Clangler"
   ]
  },
  {
   "attachments": {},
   "cell_type": "markdown",
   "metadata": {},
   "source": [
    "## Find the SDK directory"
   ]
  },
  {
   "cell_type": "code",
   "execution_count": 7,
   "metadata": {},
   "outputs": [
    {
     "data": {
      "text/plain": [
       "\"/Applications/Xcode.app/Contents/Developer/Platforms/MacOSX.platform/Developer/SDKs/MacOSX.sdk\""
      ]
     },
     "metadata": {},
     "output_type": "display_data"
    }
   ],
   "source": [
    "sdk_dir = `xcrun --show-sdk-path` |> open |> readchomp "
   ]
  },
  {
   "cell_type": "code",
   "execution_count": 21,
   "metadata": {},
   "outputs": [
    {
     "data": {
      "text/plain": [
       "head (generic function with 3 methods)"
      ]
     },
     "metadata": {},
     "output_type": "display_data"
    }
   ],
   "source": [
    "using .Iterators\n",
    "Base.filter(f) = x -> filter(f, x)\n",
    "(r::Regex)(s) = occursin(r, s)\n",
    "head(n::Int=10)  = x->take(x,n)\n",
    "head(x) = head()(x)"
   ]
  },
  {
   "cell_type": "code",
   "execution_count": 14,
   "metadata": {},
   "outputs": [
    {
     "data": {
      "text/plain": [
       "1-element Vector{String}:\n",
       " \"a\""
      ]
     },
     "metadata": {},
     "output_type": "display_data"
    }
   ],
   "source": [
    "[\"a\", \"b\"] |> filter(r\"a\") |> collect"
   ]
  },
  {
   "cell_type": "code",
   "execution_count": 27,
   "metadata": {},
   "outputs": [
    {
     "data": {
      "text/plain": [
       "312-element Vector{String}:\n",
       " \"/Applications/Xcode.app/Content\" ⋯ 74 bytes ⋯ \"e/CommonCrypto/module.modulemap\"\n",
       " \"/Applications/Xcode.app/Content\" ⋯ 68 bytes ⋯ \"include/c++/v1/module.modulemap\"\n",
       " \"/Applications/Xcode.app/Content\" ⋯ 58 bytes ⋯ \"X.sdk/usr/include/xpc.modulemap\"\n",
       " \"/Applications/Xcode.app/Content\" ⋯ 67 bytes ⋯ \"/include/sys__pthread.modulemap\"\n",
       " \"/Applications/Xcode.app/Content\" ⋯ 59 bytes ⋯ \".sdk/usr/include/uuid.modulemap\"\n",
       " \"/Applications/Xcode.app/Content\" ⋯ 61 bytes ⋯ \"dk/usr/include/secure.modulemap\"\n",
       " \"/Applications/Xcode.app/Content\" ⋯ 63 bytes ⋯ \"/usr/include/editline.modulemap\"\n",
       " \"/Applications/Xcode.app/Content\" ⋯ 68 bytes ⋯ \"include/libxml/module.modulemap\"\n",
       " \"/Applications/Xcode.app/Content\" ⋯ 69 bytes ⋯ \"nclude/libxslt/module.modulemap\"\n",
       " \"/Applications/Xcode.app/Content\" ⋯ 69 bytes ⋯ \"nclude/unicode/module.modulemap\"\n",
       " ⋮\n",
       " \"/Applications/Xcode.app/Content\" ⋯ 150 bytes ⋯ \"ons/A/Modules/module.modulemap\"\n",
       " \"/Applications/Xcode.app/Content\" ⋯ 175 bytes ⋯ \"ons/A/Modules/module.modulemap\"\n",
       " \"/Applications/Xcode.app/Content\" ⋯ 166 bytes ⋯ \"ons/A/Modules/module.modulemap\"\n",
       " \"/Applications/Xcode.app/Content\" ⋯ 158 bytes ⋯ \"ons/A/Modules/module.modulemap\"\n",
       " \"/Applications/Xcode.app/Content\" ⋯ 140 bytes ⋯ \"ons/A/Modules/module.modulemap\"\n",
       " \"/Applications/Xcode.app/Content\" ⋯ 132 bytes ⋯ \"ons/A/Modules/module.modulemap\"\n",
       " \"/Applications/Xcode.app/Content\" ⋯ 157 bytes ⋯ \"ons/A/Modules/module.modulemap\"\n",
       " \"/Applications/Xcode.app/Content\" ⋯ 148 bytes ⋯ \"ons/A/Modules/module.modulemap\"\n",
       " \"/Applications/Xcode.app/Content\" ⋯ 140 bytes ⋯ \"ons/A/Modules/module.modulemap\""
      ]
     },
     "metadata": {},
     "output_type": "display_data"
    }
   ],
   "source": [
    "modulemaps = `find $sdk_dir -name \"*.modulemap\"` |> open |> readlines |> collect"
   ]
  },
  {
   "cell_type": "code",
   "execution_count": 39,
   "metadata": {},
   "outputs": [
    {
     "name": "stdout",
     "output_type": "stream",
     "text": [
      "module EditLine [system] {\n",
      "  header \"histedit.h\"\n",
      "  export *\n",
      "\n",
      "  explicit module readline {\n",
      "    header \"editline/readline.h\"\n",
      "    export *\n",
      "  }\n",
      "\n",
      "  link \"edit\"\n",
      "}\n"
     ]
    }
   ],
   "source": [
    "modulemaps |> filter(r\"editline\") |> only |> open |> readlines .|> println;"
   ]
  },
  {
   "cell_type": "code",
   "execution_count": 42,
   "metadata": {},
   "outputs": [
    {
     "name": "stdout",
     "output_type": "stream",
     "text": [
      "framework module AppKit [extern_c] [system] {\n",
      "  umbrella header \"AppKit.h\"\n",
      "\n",
      "  export *\n",
      "  module * { export * }\n",
      "\n",
      "  explicit module NSNibConnector {\n",
      "    header \"NSNibConnector.h\"\n",
      "    export *\n",
      "  }\n",
      "\n",
      "  explicit module NSNibControlConnector {\n",
      "    header \"NSNibControlConnector.h\"\n",
      "    export *\n",
      "  }\n",
      "  \n",
      "  explicit module NSNibOutletConnector {\n",
      "    header \"NSNibOutletConnector.h\"\n",
      "    export *\n",
      "  }\n",
      "\n",
      "  // Use <Foundation/NSFileWrapper.h>.\n",
      "  exclude header \"NSFileWrapper.h\"\n",
      "  \n",
      "  // Use <Foundation/NSSpellServer.h>.\n",
      "  exclude header \"NSSpellServer.h\"\n",
      "}\n"
     ]
    }
   ],
   "source": [
    "modulemaps |> filter(r\"AppKit\") |> only |> open |> readlines .|> println;"
   ]
  },
  {
   "cell_type": "code",
   "execution_count": 44,
   "metadata": {},
   "outputs": [
    {
     "name": "stdout",
     "output_type": "stream",
     "text": [
      "framework module Metal [system] {\n",
      "  umbrella header \"Metal.h\"\n",
      "  export *\n",
      "  module * { export * }\n",
      "}\n",
      "\n"
     ]
    }
   ],
   "source": [
    "modulemaps |> filter(r\"Metal\\.framework\") |> only |> open |> readlines .|> println;"
   ]
  },
  {
   "cell_type": "code",
   "execution_count": 50,
   "metadata": {},
   "outputs": [
    {
     "name": "stdout",
     "output_type": "stream",
     "text": [
      "framework module Foundation [extern_c] [system] {\n",
      "    umbrella header \"Foundation.h\"\n",
      "    \n",
      "    export *\n",
      "    module * {\n",
      "        export *\n",
      "    }\n",
      "    \n",
      "    \n",
      "    explicit module NSDebug {\n",
      "        header \"NSDebug.h\"\n",
      "        export *\n",
      "    }\n",
      "    \n",
      "    // Use NSItemProvider.h\n",
      "    exclude header \"NSItemProviderReadingWriting.h\"\n",
      "}\n",
      "\n"
     ]
    }
   ],
   "source": [
    "modulemaps |> filter(r\"/Foundation\\.framework\")  |> only |> open |> readlines .|> println;"
   ]
  },
  {
   "cell_type": "code",
   "execution_count": null,
   "metadata": {},
   "outputs": [],
   "source": []
  }
 ],
 "metadata": {
  "kernelspec": {
   "display_name": "Julia 1.8.5",
   "language": "julia",
   "name": "julia-1.8"
  },
  "language_info": {
   "file_extension": ".jl",
   "mimetype": "application/julia",
   "name": "julia",
   "version": "1.8.5"
  },
  "orig_nbformat": 4
 },
 "nbformat": 4,
 "nbformat_minor": 2
}
