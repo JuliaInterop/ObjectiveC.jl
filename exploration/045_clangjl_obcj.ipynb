{
 "cells": [
  {
   "cell_type": "code",
   "execution_count": 1,
   "metadata": {},
   "outputs": [],
   "source": [
    "using Revise\n",
    "using Clang, Clang_jll"
   ]
  },
  {
   "cell_type": "code",
   "execution_count": 2,
   "metadata": {},
   "outputs": [
    {
     "data": {
      "text/plain": [
       "\"/Applications/Xcode.app/Contents/Developer/Platforms/MacOSX.platform/Developer/SDKs/MacOSX.sdk\""
      ]
     },
     "metadata": {},
     "output_type": "display_data"
    }
   ],
   "source": [
    "sdk_dir = `xcrun --show-sdk-path` |> open |> readchomp |> String"
   ]
  },
  {
   "cell_type": "code",
   "execution_count": 3,
   "metadata": {},
   "outputs": [
    {
     "data": {
      "text/plain": [
       "Index(Ptr{Nothing} @0x000000016074b590, 0, 1)"
      ]
     },
     "metadata": {},
     "output_type": "display_data"
    }
   ],
   "source": [
    "index = Index()"
   ]
  },
  {
   "cell_type": "code",
   "execution_count": 4,
   "metadata": {},
   "outputs": [
    {
     "data": {
      "text/plain": [
       "TranslationUnit(Ptr{Clang.LibClang.CXTranslationUnitImpl} @0x0000000115cb5390, Index(Ptr{Nothing} @0x000000016074b590, 0, 1))"
      ]
     },
     "metadata": {},
     "output_type": "display_data"
    }
   ],
   "source": [
    "trans_unit = Clang.parse_header(index, \"045_test.h\", [\"-x\",\"objective-c\",\"-fmodules\", \"-isysroot\", sdk_dir])"
   ]
  },
  {
   "cell_type": "code",
   "execution_count": 5,
   "metadata": {},
   "outputs": [
    {
     "data": {
      "text/plain": [
       "CLCursor (CLTranslationUnit) 045_test.h"
      ]
     },
     "metadata": {},
     "output_type": "display_data"
    }
   ],
   "source": [
    "root_cursor = Clang.getTranslationUnitCursor(trans_unit)"
   ]
  },
  {
   "cell_type": "code",
   "execution_count": 6,
   "metadata": {},
   "outputs": [
    {
     "name": "stdout",
     "output_type": "stream",
     "text": [
      " CLTranslationUnit 045_test.h\n",
      "   CLObjCClassRef Protocol\n",
      "   CLStructDecl \n",
      "      CLFieldDecl a CLInt int a\n",
      "      CLFieldDecl a CLInt int b\n",
      "   CLTypedefDecl Bar\n",
      "     CLStructDecl \n",
      "        CLFieldDecl a CLInt int a\n",
      "        CLFieldDecl a CLInt int b\n",
      "   CLFunctionDecl m1(Bar)\n"
     ]
    },
    {
     "name": "stdout",
     "output_type": "stream",
     "text": [
      "      CLParmDecl a CLTypedef Bar in\n",
      "     CLCompoundStmt \n",
      "       CLReturnStmt \n",
      "         CLBinaryOperator \n",
      "           CLUnexposedExpr a\n",
      "             CLMemberRefExpr a\n",
      "               CLDeclRefExpr in\n",
      "           CLUnexposedExpr b\n",
      "             CLMemberRefExpr b\n",
      "               CLDeclRefExpr in\n",
      "   CLFunctionDecl m2(Bar)\n"
     ]
    },
    {
     "name": "stdout",
     "output_type": "stream",
     "text": [
      "     CLTypeRef Bar\n",
      "      CLParmDecl a CLTypedef Bar in\n",
      "     CLCompoundStmt \n",
      "       CLCompoundAssignOperator \n",
      "         CLMemberRefExpr a\n",
      "           CLDeclRefExpr in\n",
      "         CLIntegerLiteral \n",
      "       CLCompoundAssignOperator \n",
      "         CLMemberRefExpr b\n",
      "           CLDeclRefExpr in\n",
      "         CLIntegerLiteral \n",
      "       CLReturnStmt \n",
      "         CLUnexposedExpr in\n",
      "           CLDeclRefExpr in\n",
      "   CLObjCClassRef SomeClass\n",
      "   CLObjCProtocolRef SomeProtocol\n",
      "   CLObjCInterfaceDecl Foo\n",
      "     CLObjCInstanceMethodDecl m0:\n",
      "        CLParmDecl a CLInt int x\n",
      "     CLObjCInstanceMethodDecl m1:\n",
      "        CLParmDecl a CLTypedef Bar x\n",
      "     CLObjCInstanceMethodDecl m2:\n",
      "       CLTypeRef Bar\n",
      "        CLParmDecl a CLTypedef Bar x\n",
      "   CLObjCImplementationDecl Foo\n",
      "     CLObjCInstanceMethodDecl m0:\n",
      "        CLParmDecl a CLInt int x\n",
      "       CLCompoundStmt \n",
      "         CLReturnStmt \n",
      "           CLBinaryOperator \n",
      "             CLIntegerLiteral \n",
      "             CLUnexposedExpr x\n",
      "               CLDeclRefExpr x\n",
      "     CLObjCInstanceMethodDecl m1:\n",
      "        CLParmDecl a CLTypedef Bar x\n",
      "       CLCompoundStmt \n",
      "         CLReturnStmt \n",
      "           CLBinaryOperator \n",
      "             CLUnexposedExpr a\n",
      "               CLMemberRefExpr a\n",
      "                 CLDeclRefExpr x\n",
      "             CLUnexposedExpr b\n",
      "               CLMemberRefExpr b\n",
      "                 CLDeclRefExpr x\n",
      "     CLObjCInstanceMethodDecl m2:\n",
      "       CLTypeRef Bar\n",
      "        CLParmDecl a CLTypedef Bar x\n",
      "       CLCompoundStmt \n",
      "         CLCompoundAssignOperator \n",
      "           CLMemberRefExpr a\n",
      "             CLDeclRefExpr x\n",
      "           CLIntegerLiteral \n",
      "         CLCompoundAssignOperator \n",
      "           CLMemberRefExpr b\n",
      "             CLDeclRefExpr x\n",
      "           CLIntegerLiteral \n",
      "         CLReturnStmt \n",
      "           CLUnexposedExpr x\n",
      "             CLDeclRefExpr x\n"
     ]
    }
   ],
   "source": [
    "dumpobj(root_cursor)"
   ]
  }
 ],
 "metadata": {
  "kernelspec": {
   "display_name": "Julia 1.8.5",
   "language": "julia",
   "name": "julia-1.8"
  },
  "language_info": {
   "file_extension": ".jl",
   "mimetype": "application/julia",
   "name": "julia",
   "version": "1.8.5"
  },
  "orig_nbformat": 4
 },
 "nbformat": 4,
 "nbformat_minor": 2
}
