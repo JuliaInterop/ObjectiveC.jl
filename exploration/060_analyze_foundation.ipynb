{
 "cells": [
  {
   "attachments": {},
   "cell_type": "markdown",
   "metadata": {},
   "source": [
    "Analyze the Contents of the Foundation Framework\n",
    "=============================================\n",
    "- Test file `@import Foundation;`\n",
    "- How many headers?\n",
    "- How many modules?\n",
    "- How many AST Nodes\n",
    "- Timing"
   ]
  },
  {
   "cell_type": "code",
   "execution_count": 1,
   "metadata": {},
   "outputs": [],
   "source": [
    "using Clang, Clang_jll, DataFrames, DataFrameMacros, Revise"
   ]
  },
  {
   "cell_type": "code",
   "execution_count": 2,
   "metadata": {},
   "outputs": [
    {
     "name": "stdout",
     "output_type": "stream",
     "text": [
      "Clang_jll.libclang_path = \"/Users/nehal/.julia/artifacts/c9828f0ef0f967487ce376a3d8b4c8a646d38ace/lib/libclang.dylib\"\n",
      "sdk_dir = ((`xcrun --show-sdk-path` |> open) |> readchomp) |> String = \"/Applications/Xcode.app/Contents/Developer/Platforms/MacOSX.platform/Developer/SDKs/MacOSX.sdk\"\n",
      "clang() = setenv(`/Users/nehal/.julia/artifacts/c9828f0ef0f967487ce376a3d8b4c8a646d38ace/tools/clang`,[\"EDITOR=code\", \"PATH=/Users/nehal/.julia/artifacts/c9828f0ef0f967487ce376a3d8b4c8a646d38ace/tools:/Users/nehal/.juliaup/bin:/Users/nehal/micromamba/condabin:/Users/nehal/bin:/opt/homebrew/bin:/opt/homebrew/sbin:/usr/local/bin:/System/Cryptexes/App/usr/bin:/usr/bin:/bin:/usr/sbin:/sbin:/usr/local/go/bin:/usr/local/MacGPG2/bin:/usr/local/share/dotnet:~/.dotnet/tools:/Library/Apple/usr/bin:/Library/Frameworks/Mono.framework/Versions/Current/Commands:/Users/nehal/Library/Application Support/JetBrains/Toolbox/scripts:/opt/homebrew/opt/fzf/bin\", \"VSCODE_NLS_CONFIG={\\\"locale\\\":\\\"en-us\\\",\\\"availableLanguages\\\":{},\\\"_languagePackSupport\\\":true}\", \"MANPATH=/opt/homebrew/share/man::\", \"STARSHIP_SESSION_KEY=1452913012141543\", \"USER=nehal\", \"VSCODE_L10N_BUNDLE_LOCATION=\", \"SHELL=/bin/zsh\", \"TMPDIR=/var/folders/wr/5n6v6bvj6mxdxjcg5_5ss1ph0000gn/T/\", \"HOMEBREW_CELLAR=/opt/homebrew/Cellar\", \"STARSHIP_SHELL=zsh\", \"CONDA_SHLVL=0\", \"CONDA_EXE=/Users/nehal/miniconda3/bin/conda\", \"HOME=/Users/nehal\", \"XPC_FLAGS=0x0\", \"ELECTRON_RUN_AS_NODE=1\", \"VSCODE_CODE_CACHE_PATH=/Users/nehal/Library/Application Support/Code/CachedData/ee2b180d582a7f601fa6ecfdad8d9fd269ab1884\", \"XPC_SERVICE_NAME=application.com.microsoft.VSCode.19873263.19873269\", \"HOMEBREW_PREFIX=/opt/homebrew\", \"CONDA_PYTHON_EXE=/Users/nehal/miniconda3/bin/python\", \"DYLD_FALLBACK_LIBRARY_PATH=/Users/nehal/.julia/juliaup/julia-1.8.5+0.aarch64.apple.darwin14/lib/julia:/Users/nehal/.julia/juliaup/julia-1.8.5+0.aarch64.apple.darwin14/bin/../lib/julia:/Users/nehal/.julia/juliaup/julia-1.8.5+0.aarch64.apple.darwin14/bin/../lib:/Users/nehal/lib:/usr/local/lib:/lib:/usr/lib\", \"__CF_USER_TEXT_ENCODING=0x1F5:0x0:0x0\", \"VSCODE_PID=58846\", \"__CFBundleIdentifier=com.microsoft.VSCode\", \"VSCODE_IPC_HOOK=/Users/nehal/Library/Application Support/Code/1.76-main.sock\", \"APPLICATION_INSIGHTS_NO_DIAGNOSTIC_CHANNEL=1\", \"LOGNAME=nehal\", \"SHLVL=0\", \"OLDPWD=/\", \"SSH_AUTH_SOCK=/private/tmp/com.apple.launchd.EK0Dv8YCbX/Listeners\", \"INFOPATH=/opt/homebrew/share/info:\", \"_=/Applications/Visual Studio Code.app/Contents/MacOS/Electron\", \"HOMEBREW_REPOSITORY=/opt/homebrew\", \"VSCODE_CRASH_REPORTER_PROCESS_TYPE=extensionHost\", \"JULIA_NUM_THREADS=10\", \"VSCODE_CWD=/\", \"COMMAND_MODE=unix2003\", \"VSCODE_HANDLES_UNCAUGHT_ERRORS=true\", \"PWD=/\", \"VSCODE_AMD_ENTRYPOINT=vs/workbench/api/node/extensionHostProcess\", \"ORIGINAL_XDG_CURRENT_DESKTOP=undefined\", \"MAMBA_EXE=/opt/homebrew/bin/micromamba\", \"MallocNanoZone=0\", \"MAMBA_ROOT_PREFIX=/Users/nehal/micromamba\"])\n"
     ]
    }
   ],
   "source": [
    "@show Clang_jll.libclang_path\n",
    "@show sdk_dir = `xcrun --show-sdk-path` |> open |> readchomp |> String\n",
    "@show clang()\n",
    "nothing "
   ]
  },
  {
   "cell_type": "code",
   "execution_count": 30,
   "metadata": {},
   "outputs": [
    {
     "data": {
      "text/plain": [
       "\"/Applications/Xcode.app/Contents/Developer/Platforms/MacOSX.platform/Developer/SDKs/MacOSX.sdk\""
      ]
     },
     "metadata": {},
     "output_type": "display_data"
    }
   ],
   "source": [
    "sdk_dir"
   ]
  },
  {
   "cell_type": "code",
   "execution_count": 3,
   "metadata": {},
   "outputs": [
    {
     "data": {
      "text/plain": [
       "Process(setenv(`\u001b[4m/Users/nehal/.julia/artifacts/c9828f0ef0f967487ce376a3d8b4c8a646d38ace/tools/clang\u001b[24m \u001b[4m-x\u001b[24m \u001b[4mobjective-c\u001b[24m \u001b[4m050_import_module.h\u001b[24m \u001b[4m-emit-ast\u001b[24m \u001b[4m-o\u001b[24m \u001b[4mFoundation.pch\u001b[24m \u001b[4m-fmodules\u001b[24m \u001b[4m-isysroot\u001b[24m \u001b[4m/Applications/Xcode.app/Contents/Developer/Platforms/MacOSX.platform/Developer/SDKs/MacOSX.sdk\u001b[24m \u001b[4m'-DNS_FORMAT_ARGUMENT(A)='\u001b[24m`,[\"EDITOR=code\", \"PATH=/Users/nehal/.julia/artifacts/c9828f0ef0f967487ce376a3d8b4c8a646d38ace/tools:/Users/nehal/.juliaup/bin:/Users/nehal/micromamba/condabin:/Users/nehal/bin:/opt/homebrew/bin:/opt/homebrew/sbin:/usr/local/bin:/System/Cryptexes/App/usr/bin:/usr/bin:/bin:/usr/sbin:/sbin:/usr/local/go/bin:/usr/local/MacGPG2/bin:/usr/local/share/dotnet:~/.dotnet/tools:/Library/Apple/usr/bin:/Library/Frameworks/Mono.framework/Versions/Current/Commands:/Users/nehal/Library/Application Support/JetBrains/Toolbox/scripts:/opt/homebrew/opt/fzf/bin\", \"VSCODE_NLS_CONFIG={\\\"locale\\\":\\\"en-us\\\",\\\"availableLanguages\\\":{},\\\"_languagePackSupport\\\":true}\", \"MANPATH=/opt/homebrew/share/man::\", \"STARSHIP_SESSION_KEY=1452913012141543\", \"USER=nehal\", \"VSCODE_L10N_BUNDLE_LOCATION=\", \"SHELL=/bin/zsh\", \"TMPDIR=/var/folders/wr/5n6v6bvj6mxdxjcg5_5ss1ph0000gn/T/\", \"HOMEBREW_CELLAR=/opt/homebrew/Cellar\"  …  \"JULIA_NUM_THREADS=10\", \"VSCODE_CWD=/\", \"COMMAND_MODE=unix2003\", \"VSCODE_HANDLES_UNCAUGHT_ERRORS=true\", \"PWD=/\", \"VSCODE_AMD_ENTRYPOINT=vs/workbench/api/node/extensionHostProcess\", \"ORIGINAL_XDG_CURRENT_DESKTOP=undefined\", \"MAMBA_EXE=/opt/homebrew/bin/micromamba\", \"MallocNanoZone=0\", \"MAMBA_ROOT_PREFIX=/Users/nehal/micromamba\"]), ProcessExited(0))"
      ]
     },
     "metadata": {},
     "output_type": "display_data"
    }
   ],
   "source": [
    "run(`$(clang()) -x objective-c 050_import_module.h -emit-ast -o Foundation.pch -fmodules -isysroot $sdk_dir \"-DNS_FORMAT_ARGUMENT(A)=\"`)"
   ]
  },
  {
   "cell_type": "code",
   "execution_count": 4,
   "metadata": {},
   "outputs": [
    {
     "data": {
      "text/plain": [
       "TranslationUnit(Ptr{Clang.LibClang.CXTranslationUnitImpl} @0x0000000165714c10, Index(Ptr{Nothing} @0x00000001387540f0, 0, 1))"
      ]
     },
     "metadata": {},
     "output_type": "display_data"
    }
   ],
   "source": [
    "index = Index()\n",
    "tu = Clang.load_ast(index,\"Foundation.pch\")"
   ]
  },
  {
   "cell_type": "code",
   "execution_count": 5,
   "metadata": {},
   "outputs": [
    {
     "name": "stdout",
     "output_type": "stream",
     "text": [
      "size(toplevel) = (22297,)\n"
     ]
    },
    {
     "data": {
      "text/plain": [
       "(22297,)"
      ]
     },
     "metadata": {},
     "output_type": "display_data"
    }
   ],
   "source": [
    "toplevel =  tu |> Clang.getTranslationUnitCursor |> children |> collect\n",
    "@show size(toplevel)"
   ]
  },
  {
   "cell_type": "code",
   "execution_count": 6,
   "metadata": {},
   "outputs": [
    {
     "name": "stdout",
     "output_type": "stream",
     "text": [
      "cu = toplevel[3] = CLCursor (CLFunctionDecl) cacosf(_Complex float)\n",
      "f = file(cu) = CLFile (\"/Applications/Xcode.app/Contents/Developer/Platforms/MacOSX.platform/Developer/SDKs/MacOSX.sdk/usr/include/complex.h\")\n",
      "m = get_module(tu, f) = CLModule (Darwin.C.complex)\n",
      "ast_file(m) = CLFile (\"/var/folders/wr/5n6v6bvj6mxdxjcg5_5ss1ph0000gn/C/clang/ModuleCache/2SUK4F9IFS0OK/Darwin-1IVCWVLR6MT9T.pcm\")\n",
      "parent_module(m) = CLModule (Darwin.C)\n",
      "toplevel_headers(tu, m) = CLFile[CLFile (\"/Applications/Xcode.app/Contents/Developer/Platforms/MacOSX.platform/Developer/SDKs/MacOSX.sdk/usr/include/complex.h\")]\n",
      "toplevel_headers(tu, parent_module(m)) = CLFile[]\n",
      "is_system(m) = true\n"
     ]
    }
   ],
   "source": [
    "@show cu = toplevel[3]\n",
    "@show f = file(cu)\n",
    "@show m = get_module(tu, f)\n",
    "@show ast_file(m)\n",
    "@show parent_module(m)\n",
    "@show toplevel_headers(tu, m)\n",
    "@show toplevel_headers(tu, parent_module(m))\n",
    "@show is_system(m)\n",
    "nothing"
   ]
  },
  {
   "cell_type": "code",
   "execution_count": 7,
   "metadata": {},
   "outputs": [
    {
     "data": {
      "text/plain": [
       "CLModule (Darwin)"
      ]
     },
     "metadata": {},
     "output_type": "display_data"
    }
   ],
   "source": [
    "toplevel_module(m)"
   ]
  },
  {
   "cell_type": "code",
   "execution_count": 10,
   "metadata": {},
   "outputs": [
    {
     "data": {
      "text/html": [
       "<div><div style = \"float: left;\"><span>22297×1 DataFrame</span></div><div style = \"float: right;\"><span style = \"font-style: italic;\">22272 rows omitted</span></div><div style = \"clear: both;\"></div></div><div class = \"data-frame\" style = \"overflow-x: scroll;\"><table class = \"data-frame\" style = \"margin-bottom: 6px;\"><thead><tr class = \"header\"><th class = \"rowNumber\" style = \"font-weight: bold; text-align: right;\">Row</th><th style = \"text-align: left;\">cursor</th></tr><tr class = \"subheader headerLastRow\"><th class = \"rowNumber\" style = \"font-weight: bold; text-align: right;\"></th><th title = \"CLCursor\" style = \"text-align: left;\">CLCursor</th></tr></thead><tbody><tr><td class = \"rowNumber\" style = \"font-weight: bold; text-align: right;\">1</td><td style = \"text-align: left;\">CLCursor (CLObjCClassRef) Protocol</td></tr><tr><td class = \"rowNumber\" style = \"font-weight: bold; text-align: right;\">2</td><td style = \"text-align: left;\">CLCursor (CLTypedefDecl) max_align_t</td></tr><tr><td class = \"rowNumber\" style = \"font-weight: bold; text-align: right;\">3</td><td style = \"text-align: left;\">CLCursor (CLFunctionDecl) cacosf(_Complex float)</td></tr><tr><td class = \"rowNumber\" style = \"font-weight: bold; text-align: right;\">4</td><td style = \"text-align: left;\">CLCursor (CLFunctionDecl) cacos(_Complex double)</td></tr><tr><td class = \"rowNumber\" style = \"font-weight: bold; text-align: right;\">5</td><td style = \"text-align: left;\">CLCursor (CLFunctionDecl) cacosl(_Complex long double)</td></tr><tr><td class = \"rowNumber\" style = \"font-weight: bold; text-align: right;\">6</td><td style = \"text-align: left;\">CLCursor (CLFunctionDecl) casinf(_Complex float)</td></tr><tr><td class = \"rowNumber\" style = \"font-weight: bold; text-align: right;\">7</td><td style = \"text-align: left;\">CLCursor (CLFunctionDecl) casin(_Complex double)</td></tr><tr><td class = \"rowNumber\" style = \"font-weight: bold; text-align: right;\">8</td><td style = \"text-align: left;\">CLCursor (CLFunctionDecl) casinl(_Complex long double)</td></tr><tr><td class = \"rowNumber\" style = \"font-weight: bold; text-align: right;\">9</td><td style = \"text-align: left;\">CLCursor (CLFunctionDecl) catanf(_Complex float)</td></tr><tr><td class = \"rowNumber\" style = \"font-weight: bold; text-align: right;\">10</td><td style = \"text-align: left;\">CLCursor (CLFunctionDecl) catan(_Complex double)</td></tr><tr><td class = \"rowNumber\" style = \"font-weight: bold; text-align: right;\">11</td><td style = \"text-align: left;\">CLCursor (CLFunctionDecl) catanl(_Complex long double)</td></tr><tr><td class = \"rowNumber\" style = \"font-weight: bold; text-align: right;\">12</td><td style = \"text-align: left;\">CLCursor (CLFunctionDecl) ccosf(_Complex float)</td></tr><tr><td class = \"rowNumber\" style = \"font-weight: bold; text-align: right;\">13</td><td style = \"text-align: left;\">CLCursor (CLFunctionDecl) ccos(_Complex double)</td></tr><tr><td style = \"text-align: right;\">&vellip;</td><td style = \"text-align: right;\">&vellip;</td></tr><tr><td class = \"rowNumber\" style = \"font-weight: bold; text-align: right;\">22286</td><td style = \"text-align: left;\">CLCursor (CLTypedefDecl) NSUserAutomatorTaskCompletionHandler</td></tr><tr><td class = \"rowNumber\" style = \"font-weight: bold; text-align: right;\">22287</td><td style = \"text-align: left;\">CLCursor (CLVarDecl) NSDebugEnabled</td></tr><tr><td class = \"rowNumber\" style = \"font-weight: bold; text-align: right;\">22288</td><td style = \"text-align: left;\">CLCursor (CLVarDecl) NSZombieEnabled</td></tr><tr><td class = \"rowNumber\" style = \"font-weight: bold; text-align: right;\">22289</td><td style = \"text-align: left;\">CLCursor (CLVarDecl) NSDeallocateZombies</td></tr><tr><td class = \"rowNumber\" style = \"font-weight: bold; text-align: right;\">22290</td><td style = \"text-align: left;\">CLCursor (CLFunctionDecl) NSIsFreedObject(id)</td></tr><tr><td class = \"rowNumber\" style = \"font-weight: bold; text-align: right;\">22291</td><td style = \"text-align: left;\">CLCursor (CLFunctionDecl) NSFrameAddress(NSUInteger)</td></tr><tr><td class = \"rowNumber\" style = \"font-weight: bold; text-align: right;\">22292</td><td style = \"text-align: left;\">CLCursor (CLFunctionDecl) NSReturnAddress(NSUInteger)</td></tr><tr><td class = \"rowNumber\" style = \"font-weight: bold; text-align: right;\">22293</td><td style = \"text-align: left;\">CLCursor (CLFunctionDecl) NSCountFrames()</td></tr><tr><td class = \"rowNumber\" style = \"font-weight: bold; text-align: right;\">22294</td><td style = \"text-align: left;\">CLCursor (CLObjCCategoryDecl) NSAutoreleasePoolDebugging</td></tr><tr><td class = \"rowNumber\" style = \"font-weight: bold; text-align: right;\">22295</td><td style = \"text-align: left;\">CLCursor (CLVarDecl) NSKeepAllocationStatistics</td></tr><tr><td class = \"rowNumber\" style = \"font-weight: bold; text-align: right;\">22296</td><td style = \"text-align: left;\">CLCursor (CLFunctionDecl) NSRecordAllocationEvent(int, id)</td></tr><tr><td class = \"rowNumber\" style = \"font-weight: bold; text-align: right;\">22297</td><td style = \"text-align: left;\">CLCursor (CLModuleImportDecl) Foundation</td></tr></tbody></table></div>"
      ],
      "text/latex": [
       "\\begin{tabular}{r|c}\n",
       "\t& cursor\\\\\n",
       "\t\\hline\n",
       "\t& CLCursor\\\\\n",
       "\t\\hline\n",
       "\t1 & CLCursor (CLObjCClassRef) Protocol \\\\\n",
       "\t2 & CLCursor (CLTypedefDecl) max\\_align\\_t \\\\\n",
       "\t3 & CLCursor (CLFunctionDecl) cacosf(\\_Complex float) \\\\\n",
       "\t4 & CLCursor (CLFunctionDecl) cacos(\\_Complex double) \\\\\n",
       "\t5 & CLCursor (CLFunctionDecl) cacosl(\\_Complex long double) \\\\\n",
       "\t6 & CLCursor (CLFunctionDecl) casinf(\\_Complex float) \\\\\n",
       "\t7 & CLCursor (CLFunctionDecl) casin(\\_Complex double) \\\\\n",
       "\t8 & CLCursor (CLFunctionDecl) casinl(\\_Complex long double) \\\\\n",
       "\t9 & CLCursor (CLFunctionDecl) catanf(\\_Complex float) \\\\\n",
       "\t10 & CLCursor (CLFunctionDecl) catan(\\_Complex double) \\\\\n",
       "\t11 & CLCursor (CLFunctionDecl) catanl(\\_Complex long double) \\\\\n",
       "\t12 & CLCursor (CLFunctionDecl) ccosf(\\_Complex float) \\\\\n",
       "\t13 & CLCursor (CLFunctionDecl) ccos(\\_Complex double) \\\\\n",
       "\t14 & CLCursor (CLFunctionDecl) ccosl(\\_Complex long double) \\\\\n",
       "\t15 & CLCursor (CLFunctionDecl) csinf(\\_Complex float) \\\\\n",
       "\t16 & CLCursor (CLFunctionDecl) csin(\\_Complex double) \\\\\n",
       "\t17 & CLCursor (CLFunctionDecl) csinl(\\_Complex long double) \\\\\n",
       "\t18 & CLCursor (CLFunctionDecl) ctanf(\\_Complex float) \\\\\n",
       "\t19 & CLCursor (CLFunctionDecl) ctan(\\_Complex double) \\\\\n",
       "\t20 & CLCursor (CLFunctionDecl) ctanl(\\_Complex long double) \\\\\n",
       "\t21 & CLCursor (CLFunctionDecl) cacoshf(\\_Complex float) \\\\\n",
       "\t22 & CLCursor (CLFunctionDecl) cacosh(\\_Complex double) \\\\\n",
       "\t23 & CLCursor (CLFunctionDecl) cacoshl(\\_Complex long double) \\\\\n",
       "\t24 & CLCursor (CLFunctionDecl) casinhf(\\_Complex float) \\\\\n",
       "\t$\\dots$ & $\\dots$ \\\\\n",
       "\\end{tabular}\n"
      ],
      "text/plain": [
       "\u001b[1m22297×1 DataFrame\u001b[0m\n",
       "\u001b[1m   Row \u001b[0m│\u001b[1m cursor                            \u001b[0m\n",
       "       │\u001b[90m CLCursor                          \u001b[0m\n",
       "───────┼───────────────────────────────────\n",
       "     1 │ CLCursor (CLObjCClassRef) Protoc…\n",
       "     2 │ CLCursor (CLTypedefDecl) max_ali…\n",
       "     3 │ CLCursor (CLFunctionDecl) cacosf…\n",
       "     4 │ CLCursor (CLFunctionDecl) cacos(…\n",
       "     5 │ CLCursor (CLFunctionDecl) cacosl…\n",
       "     6 │ CLCursor (CLFunctionDecl) casinf…\n",
       "     7 │ CLCursor (CLFunctionDecl) casin(…\n",
       "     8 │ CLCursor (CLFunctionDecl) casinl…\n",
       "   ⋮   │                 ⋮\n",
       " 22291 │ CLCursor (CLFunctionDecl) NSFram…\n",
       " 22292 │ CLCursor (CLFunctionDecl) NSRetu…\n",
       " 22293 │ CLCursor (CLFunctionDecl) NSCoun…\n",
       " 22294 │ CLCursor (CLObjCCategoryDecl) NS…\n",
       " 22295 │ CLCursor (CLVarDecl) NSKeepAlloc…\n",
       " 22296 │ CLCursor (CLFunctionDecl) NSReco…\n",
       " 22297 │ CLCursor (CLModuleImportDecl) Fo…\n",
       "\u001b[36m                         22282 rows omitted\u001b[0m"
      ]
     },
     "metadata": {},
     "output_type": "display_data"
    }
   ],
   "source": [
    "df = DataFrame()\n",
    "df.cursor = toplevel\n",
    "df"
   ]
  },
  {
   "cell_type": "code",
   "execution_count": 11,
   "metadata": {},
   "outputs": [
    {
     "data": {
      "text/html": [
       "<div><div style = \"float: left;\"><span>22297×2 DataFrame</span></div><div style = \"float: right;\"><span style = \"font-style: italic;\">22272 rows omitted</span></div><div style = \"clear: both;\"></div></div><div class = \"data-frame\" style = \"overflow-x: scroll;\"><table class = \"data-frame\" style = \"margin-bottom: 6px;\"><thead><tr class = \"header\"><th class = \"rowNumber\" style = \"font-weight: bold; text-align: right;\">Row</th><th style = \"text-align: left;\">cursor</th><th style = \"text-align: left;\">file</th></tr><tr class = \"subheader headerLastRow\"><th class = \"rowNumber\" style = \"font-weight: bold; text-align: right;\"></th><th title = \"CLCursor\" style = \"text-align: left;\">CLCursor</th><th title = \"String\" style = \"text-align: left;\">String</th></tr></thead><tbody><tr><td class = \"rowNumber\" style = \"font-weight: bold; text-align: right;\">1</td><td style = \"text-align: left;\">CLCursor (CLObjCClassRef) Protocol</td><td style = \"text-align: left;\"></td></tr><tr><td class = \"rowNumber\" style = \"font-weight: bold; text-align: right;\">2</td><td style = \"text-align: left;\">CLCursor (CLTypedefDecl) max_align_t</td><td style = \"text-align: left;\">/Users/nehal/.julia/artifacts/c9828f0ef0f967487ce376a3d8b4c8a646d38ace/lib/clang/13.0.1/include/__stddef_max_align_t.h</td></tr><tr><td class = \"rowNumber\" style = \"font-weight: bold; text-align: right;\">3</td><td style = \"text-align: left;\">CLCursor (CLFunctionDecl) cacosf(_Complex float)</td><td style = \"text-align: left;\">/Applications/Xcode.app/Contents/Developer/Platforms/MacOSX.platform/Developer/SDKs/MacOSX.sdk/usr/include/complex.h</td></tr><tr><td class = \"rowNumber\" style = \"font-weight: bold; text-align: right;\">4</td><td style = \"text-align: left;\">CLCursor (CLFunctionDecl) cacos(_Complex double)</td><td style = \"text-align: left;\">/Applications/Xcode.app/Contents/Developer/Platforms/MacOSX.platform/Developer/SDKs/MacOSX.sdk/usr/include/complex.h</td></tr><tr><td class = \"rowNumber\" style = \"font-weight: bold; text-align: right;\">5</td><td style = \"text-align: left;\">CLCursor (CLFunctionDecl) cacosl(_Complex long double)</td><td style = \"text-align: left;\">/Applications/Xcode.app/Contents/Developer/Platforms/MacOSX.platform/Developer/SDKs/MacOSX.sdk/usr/include/complex.h</td></tr><tr><td class = \"rowNumber\" style = \"font-weight: bold; text-align: right;\">6</td><td style = \"text-align: left;\">CLCursor (CLFunctionDecl) casinf(_Complex float)</td><td style = \"text-align: left;\">/Applications/Xcode.app/Contents/Developer/Platforms/MacOSX.platform/Developer/SDKs/MacOSX.sdk/usr/include/complex.h</td></tr><tr><td class = \"rowNumber\" style = \"font-weight: bold; text-align: right;\">7</td><td style = \"text-align: left;\">CLCursor (CLFunctionDecl) casin(_Complex double)</td><td style = \"text-align: left;\">/Applications/Xcode.app/Contents/Developer/Platforms/MacOSX.platform/Developer/SDKs/MacOSX.sdk/usr/include/complex.h</td></tr><tr><td class = \"rowNumber\" style = \"font-weight: bold; text-align: right;\">8</td><td style = \"text-align: left;\">CLCursor (CLFunctionDecl) casinl(_Complex long double)</td><td style = \"text-align: left;\">/Applications/Xcode.app/Contents/Developer/Platforms/MacOSX.platform/Developer/SDKs/MacOSX.sdk/usr/include/complex.h</td></tr><tr><td class = \"rowNumber\" style = \"font-weight: bold; text-align: right;\">9</td><td style = \"text-align: left;\">CLCursor (CLFunctionDecl) catanf(_Complex float)</td><td style = \"text-align: left;\">/Applications/Xcode.app/Contents/Developer/Platforms/MacOSX.platform/Developer/SDKs/MacOSX.sdk/usr/include/complex.h</td></tr><tr><td class = \"rowNumber\" style = \"font-weight: bold; text-align: right;\">10</td><td style = \"text-align: left;\">CLCursor (CLFunctionDecl) catan(_Complex double)</td><td style = \"text-align: left;\">/Applications/Xcode.app/Contents/Developer/Platforms/MacOSX.platform/Developer/SDKs/MacOSX.sdk/usr/include/complex.h</td></tr><tr><td class = \"rowNumber\" style = \"font-weight: bold; text-align: right;\">11</td><td style = \"text-align: left;\">CLCursor (CLFunctionDecl) catanl(_Complex long double)</td><td style = \"text-align: left;\">/Applications/Xcode.app/Contents/Developer/Platforms/MacOSX.platform/Developer/SDKs/MacOSX.sdk/usr/include/complex.h</td></tr><tr><td class = \"rowNumber\" style = \"font-weight: bold; text-align: right;\">12</td><td style = \"text-align: left;\">CLCursor (CLFunctionDecl) ccosf(_Complex float)</td><td style = \"text-align: left;\">/Applications/Xcode.app/Contents/Developer/Platforms/MacOSX.platform/Developer/SDKs/MacOSX.sdk/usr/include/complex.h</td></tr><tr><td class = \"rowNumber\" style = \"font-weight: bold; text-align: right;\">13</td><td style = \"text-align: left;\">CLCursor (CLFunctionDecl) ccos(_Complex double)</td><td style = \"text-align: left;\">/Applications/Xcode.app/Contents/Developer/Platforms/MacOSX.platform/Developer/SDKs/MacOSX.sdk/usr/include/complex.h</td></tr><tr><td style = \"text-align: right;\">&vellip;</td><td style = \"text-align: right;\">&vellip;</td><td style = \"text-align: right;\">&vellip;</td></tr><tr><td class = \"rowNumber\" style = \"font-weight: bold; text-align: right;\">22286</td><td style = \"text-align: left;\">CLCursor (CLTypedefDecl) NSUserAutomatorTaskCompletionHandler</td><td style = \"text-align: left;\">/Applications/Xcode.app/Contents/Developer/Platforms/MacOSX.platform/Developer/SDKs/MacOSX.sdk/System/Library/Frameworks/Foundation.framework/Headers/NSUserScriptTask.h</td></tr><tr><td class = \"rowNumber\" style = \"font-weight: bold; text-align: right;\">22287</td><td style = \"text-align: left;\">CLCursor (CLVarDecl) NSDebugEnabled</td><td style = \"text-align: left;\">/Applications/Xcode.app/Contents/Developer/Platforms/MacOSX.platform/Developer/SDKs/MacOSX.sdk/System/Library/Frameworks/Foundation.framework/Headers/NSDebug.h</td></tr><tr><td class = \"rowNumber\" style = \"font-weight: bold; text-align: right;\">22288</td><td style = \"text-align: left;\">CLCursor (CLVarDecl) NSZombieEnabled</td><td style = \"text-align: left;\">/Applications/Xcode.app/Contents/Developer/Platforms/MacOSX.platform/Developer/SDKs/MacOSX.sdk/System/Library/Frameworks/Foundation.framework/Headers/NSDebug.h</td></tr><tr><td class = \"rowNumber\" style = \"font-weight: bold; text-align: right;\">22289</td><td style = \"text-align: left;\">CLCursor (CLVarDecl) NSDeallocateZombies</td><td style = \"text-align: left;\">/Applications/Xcode.app/Contents/Developer/Platforms/MacOSX.platform/Developer/SDKs/MacOSX.sdk/System/Library/Frameworks/Foundation.framework/Headers/NSDebug.h</td></tr><tr><td class = \"rowNumber\" style = \"font-weight: bold; text-align: right;\">22290</td><td style = \"text-align: left;\">CLCursor (CLFunctionDecl) NSIsFreedObject(id)</td><td style = \"text-align: left;\">/Applications/Xcode.app/Contents/Developer/Platforms/MacOSX.platform/Developer/SDKs/MacOSX.sdk/System/Library/Frameworks/Foundation.framework/Headers/NSDebug.h</td></tr><tr><td class = \"rowNumber\" style = \"font-weight: bold; text-align: right;\">22291</td><td style = \"text-align: left;\">CLCursor (CLFunctionDecl) NSFrameAddress(NSUInteger)</td><td style = \"text-align: left;\">/Applications/Xcode.app/Contents/Developer/Platforms/MacOSX.platform/Developer/SDKs/MacOSX.sdk/System/Library/Frameworks/Foundation.framework/Headers/NSDebug.h</td></tr><tr><td class = \"rowNumber\" style = \"font-weight: bold; text-align: right;\">22292</td><td style = \"text-align: left;\">CLCursor (CLFunctionDecl) NSReturnAddress(NSUInteger)</td><td style = \"text-align: left;\">/Applications/Xcode.app/Contents/Developer/Platforms/MacOSX.platform/Developer/SDKs/MacOSX.sdk/System/Library/Frameworks/Foundation.framework/Headers/NSDebug.h</td></tr><tr><td class = \"rowNumber\" style = \"font-weight: bold; text-align: right;\">22293</td><td style = \"text-align: left;\">CLCursor (CLFunctionDecl) NSCountFrames()</td><td style = \"text-align: left;\">/Applications/Xcode.app/Contents/Developer/Platforms/MacOSX.platform/Developer/SDKs/MacOSX.sdk/System/Library/Frameworks/Foundation.framework/Headers/NSDebug.h</td></tr><tr><td class = \"rowNumber\" style = \"font-weight: bold; text-align: right;\">22294</td><td style = \"text-align: left;\">CLCursor (CLObjCCategoryDecl) NSAutoreleasePoolDebugging</td><td style = \"text-align: left;\">/Applications/Xcode.app/Contents/Developer/Platforms/MacOSX.platform/Developer/SDKs/MacOSX.sdk/System/Library/Frameworks/Foundation.framework/Headers/NSDebug.h</td></tr><tr><td class = \"rowNumber\" style = \"font-weight: bold; text-align: right;\">22295</td><td style = \"text-align: left;\">CLCursor (CLVarDecl) NSKeepAllocationStatistics</td><td style = \"text-align: left;\">/Applications/Xcode.app/Contents/Developer/Platforms/MacOSX.platform/Developer/SDKs/MacOSX.sdk/System/Library/Frameworks/Foundation.framework/Headers/NSDebug.h</td></tr><tr><td class = \"rowNumber\" style = \"font-weight: bold; text-align: right;\">22296</td><td style = \"text-align: left;\">CLCursor (CLFunctionDecl) NSRecordAllocationEvent(int, id)</td><td style = \"text-align: left;\">/Applications/Xcode.app/Contents/Developer/Platforms/MacOSX.platform/Developer/SDKs/MacOSX.sdk/System/Library/Frameworks/Foundation.framework/Headers/NSDebug.h</td></tr><tr><td class = \"rowNumber\" style = \"font-weight: bold; text-align: right;\">22297</td><td style = \"text-align: left;\">CLCursor (CLModuleImportDecl) Foundation</td><td style = \"text-align: left;\">/Users/nehal/src/ObjectiveC.jl/exploration/050_import_module.h</td></tr></tbody></table></div>"
      ],
      "text/latex": [
       "\\begin{tabular}{r|cc}\n",
       "\t& cursor & file\\\\\n",
       "\t\\hline\n",
       "\t& CLCursor & String\\\\\n",
       "\t\\hline\n",
       "\t1 & CLCursor (CLObjCClassRef) Protocol &  \\\\\n",
       "\t2 & CLCursor (CLTypedefDecl) max\\_align\\_t & /Users/nehal/.julia/artifacts/c9828f0ef0f967487ce376a3d8b4c8a646d38ace/lib/clang/13.0.1/include/\\_\\_stddef\\_max\\_align\\_t.h \\\\\n",
       "\t3 & CLCursor (CLFunctionDecl) cacosf(\\_Complex float) & /Applications/Xcode.app/Contents/Developer/Platforms/MacOSX.platform/Developer/SDKs/MacOSX.sdk/usr/include/complex.h \\\\\n",
       "\t4 & CLCursor (CLFunctionDecl) cacos(\\_Complex double) & /Applications/Xcode.app/Contents/Developer/Platforms/MacOSX.platform/Developer/SDKs/MacOSX.sdk/usr/include/complex.h \\\\\n",
       "\t5 & CLCursor (CLFunctionDecl) cacosl(\\_Complex long double) & /Applications/Xcode.app/Contents/Developer/Platforms/MacOSX.platform/Developer/SDKs/MacOSX.sdk/usr/include/complex.h \\\\\n",
       "\t6 & CLCursor (CLFunctionDecl) casinf(\\_Complex float) & /Applications/Xcode.app/Contents/Developer/Platforms/MacOSX.platform/Developer/SDKs/MacOSX.sdk/usr/include/complex.h \\\\\n",
       "\t7 & CLCursor (CLFunctionDecl) casin(\\_Complex double) & /Applications/Xcode.app/Contents/Developer/Platforms/MacOSX.platform/Developer/SDKs/MacOSX.sdk/usr/include/complex.h \\\\\n",
       "\t8 & CLCursor (CLFunctionDecl) casinl(\\_Complex long double) & /Applications/Xcode.app/Contents/Developer/Platforms/MacOSX.platform/Developer/SDKs/MacOSX.sdk/usr/include/complex.h \\\\\n",
       "\t9 & CLCursor (CLFunctionDecl) catanf(\\_Complex float) & /Applications/Xcode.app/Contents/Developer/Platforms/MacOSX.platform/Developer/SDKs/MacOSX.sdk/usr/include/complex.h \\\\\n",
       "\t10 & CLCursor (CLFunctionDecl) catan(\\_Complex double) & /Applications/Xcode.app/Contents/Developer/Platforms/MacOSX.platform/Developer/SDKs/MacOSX.sdk/usr/include/complex.h \\\\\n",
       "\t11 & CLCursor (CLFunctionDecl) catanl(\\_Complex long double) & /Applications/Xcode.app/Contents/Developer/Platforms/MacOSX.platform/Developer/SDKs/MacOSX.sdk/usr/include/complex.h \\\\\n",
       "\t12 & CLCursor (CLFunctionDecl) ccosf(\\_Complex float) & /Applications/Xcode.app/Contents/Developer/Platforms/MacOSX.platform/Developer/SDKs/MacOSX.sdk/usr/include/complex.h \\\\\n",
       "\t13 & CLCursor (CLFunctionDecl) ccos(\\_Complex double) & /Applications/Xcode.app/Contents/Developer/Platforms/MacOSX.platform/Developer/SDKs/MacOSX.sdk/usr/include/complex.h \\\\\n",
       "\t14 & CLCursor (CLFunctionDecl) ccosl(\\_Complex long double) & /Applications/Xcode.app/Contents/Developer/Platforms/MacOSX.platform/Developer/SDKs/MacOSX.sdk/usr/include/complex.h \\\\\n",
       "\t15 & CLCursor (CLFunctionDecl) csinf(\\_Complex float) & /Applications/Xcode.app/Contents/Developer/Platforms/MacOSX.platform/Developer/SDKs/MacOSX.sdk/usr/include/complex.h \\\\\n",
       "\t16 & CLCursor (CLFunctionDecl) csin(\\_Complex double) & /Applications/Xcode.app/Contents/Developer/Platforms/MacOSX.platform/Developer/SDKs/MacOSX.sdk/usr/include/complex.h \\\\\n",
       "\t17 & CLCursor (CLFunctionDecl) csinl(\\_Complex long double) & /Applications/Xcode.app/Contents/Developer/Platforms/MacOSX.platform/Developer/SDKs/MacOSX.sdk/usr/include/complex.h \\\\\n",
       "\t18 & CLCursor (CLFunctionDecl) ctanf(\\_Complex float) & /Applications/Xcode.app/Contents/Developer/Platforms/MacOSX.platform/Developer/SDKs/MacOSX.sdk/usr/include/complex.h \\\\\n",
       "\t19 & CLCursor (CLFunctionDecl) ctan(\\_Complex double) & /Applications/Xcode.app/Contents/Developer/Platforms/MacOSX.platform/Developer/SDKs/MacOSX.sdk/usr/include/complex.h \\\\\n",
       "\t20 & CLCursor (CLFunctionDecl) ctanl(\\_Complex long double) & /Applications/Xcode.app/Contents/Developer/Platforms/MacOSX.platform/Developer/SDKs/MacOSX.sdk/usr/include/complex.h \\\\\n",
       "\t21 & CLCursor (CLFunctionDecl) cacoshf(\\_Complex float) & /Applications/Xcode.app/Contents/Developer/Platforms/MacOSX.platform/Developer/SDKs/MacOSX.sdk/usr/include/complex.h \\\\\n",
       "\t22 & CLCursor (CLFunctionDecl) cacosh(\\_Complex double) & /Applications/Xcode.app/Contents/Developer/Platforms/MacOSX.platform/Developer/SDKs/MacOSX.sdk/usr/include/complex.h \\\\\n",
       "\t23 & CLCursor (CLFunctionDecl) cacoshl(\\_Complex long double) & /Applications/Xcode.app/Contents/Developer/Platforms/MacOSX.platform/Developer/SDKs/MacOSX.sdk/usr/include/complex.h \\\\\n",
       "\t24 & CLCursor (CLFunctionDecl) casinhf(\\_Complex float) & /Applications/Xcode.app/Contents/Developer/Platforms/MacOSX.platform/Developer/SDKs/MacOSX.sdk/usr/include/complex.h \\\\\n",
       "\t$\\dots$ & $\\dots$ & $\\dots$ \\\\\n",
       "\\end{tabular}\n"
      ],
      "text/plain": [
       "\u001b[1m22297×2 DataFrame\u001b[0m\n",
       "\u001b[1m   Row \u001b[0m│\u001b[1m cursor                            \u001b[0m\u001b[1m file                              \u001b[0m\n",
       "       │\u001b[90m CLCursor                          \u001b[0m\u001b[90m String                            \u001b[0m\n",
       "───────┼──────────────────────────────────────────────────────────────────────\n",
       "     1 │ CLCursor (CLObjCClassRef) Protoc…\n",
       "     2 │ CLCursor (CLTypedefDecl) max_ali…  /Users/nehal/.julia/artifacts/c9…\n",
       "     3 │ CLCursor (CLFunctionDecl) cacosf…  /Applications/Xcode.app/Contents…\n",
       "     4 │ CLCursor (CLFunctionDecl) cacos(…  /Applications/Xcode.app/Contents…\n",
       "     5 │ CLCursor (CLFunctionDecl) cacosl…  /Applications/Xcode.app/Contents…\n",
       "     6 │ CLCursor (CLFunctionDecl) casinf…  /Applications/Xcode.app/Contents…\n",
       "     7 │ CLCursor (CLFunctionDecl) casin(…  /Applications/Xcode.app/Contents…\n",
       "     8 │ CLCursor (CLFunctionDecl) casinl…  /Applications/Xcode.app/Contents…\n",
       "   ⋮   │                 ⋮                                  ⋮\n",
       " 22291 │ CLCursor (CLFunctionDecl) NSFram…  /Applications/Xcode.app/Contents…\n",
       " 22292 │ CLCursor (CLFunctionDecl) NSRetu…  /Applications/Xcode.app/Contents…\n",
       " 22293 │ CLCursor (CLFunctionDecl) NSCoun…  /Applications/Xcode.app/Contents…\n",
       " 22294 │ CLCursor (CLObjCCategoryDecl) NS…  /Applications/Xcode.app/Contents…\n",
       " 22295 │ CLCursor (CLVarDecl) NSKeepAlloc…  /Applications/Xcode.app/Contents…\n",
       " 22296 │ CLCursor (CLFunctionDecl) NSReco…  /Applications/Xcode.app/Contents…\n",
       " 22297 │ CLCursor (CLModuleImportDecl) Fo…  /Users/nehal/src/ObjectiveC.jl/e…\n",
       "\u001b[36m                                                            22282 rows omitted\u001b[0m"
      ]
     },
     "metadata": {},
     "output_type": "display_data"
    }
   ],
   "source": [
    "df.file = df.cursor .|> file .|> name\n",
    "df\n"
   ]
  },
  {
   "cell_type": "code",
   "execution_count": 20,
   "metadata": {},
   "outputs": [
    {
     "data": {
      "text/html": [
       "<div><div style = \"float: left;\"><span>22297×3 DataFrame</span></div><div style = \"float: right;\"><span style = \"font-style: italic;\">22272 rows omitted</span></div><div style = \"clear: both;\"></div></div><div class = \"data-frame\" style = \"overflow-x: scroll;\"><table class = \"data-frame\" style = \"margin-bottom: 6px;\"><thead><tr class = \"header\"><th class = \"rowNumber\" style = \"font-weight: bold; text-align: right;\">Row</th><th style = \"text-align: left;\">cursor</th><th style = \"text-align: left;\">file</th><th style = \"text-align: left;\">mod</th></tr><tr class = \"subheader headerLastRow\"><th class = \"rowNumber\" style = \"font-weight: bold; text-align: right;\"></th><th title = \"CLCursor\" style = \"text-align: left;\">CLCursor</th><th title = \"String\" style = \"text-align: left;\">String</th><th title = \"String\" style = \"text-align: left;\">String</th></tr></thead><tbody><tr><td class = \"rowNumber\" style = \"font-weight: bold; text-align: right;\">1</td><td style = \"text-align: left;\">CLCursor (CLObjCClassRef) Protocol</td><td style = \"text-align: left;\"></td><td style = \"text-align: left;\"></td></tr><tr><td class = \"rowNumber\" style = \"font-weight: bold; text-align: right;\">2</td><td style = \"text-align: left;\">CLCursor (CLTypedefDecl) max_align_t</td><td style = \"text-align: left;\">/Users/nehal/.julia/artifacts/c9828f0ef0f967487ce376a3d8b4c8a646d38ace/lib/clang/13.0.1/include/__stddef_max_align_t.h</td><td style = \"text-align: left;\">_Builtin_stddef_max_align_t</td></tr><tr><td class = \"rowNumber\" style = \"font-weight: bold; text-align: right;\">3</td><td style = \"text-align: left;\">CLCursor (CLFunctionDecl) cacosf(_Complex float)</td><td style = \"text-align: left;\">/Applications/Xcode.app/Contents/Developer/Platforms/MacOSX.platform/Developer/SDKs/MacOSX.sdk/usr/include/complex.h</td><td style = \"text-align: left;\">Darwin.C.complex</td></tr><tr><td class = \"rowNumber\" style = \"font-weight: bold; text-align: right;\">4</td><td style = \"text-align: left;\">CLCursor (CLFunctionDecl) cacos(_Complex double)</td><td style = \"text-align: left;\">/Applications/Xcode.app/Contents/Developer/Platforms/MacOSX.platform/Developer/SDKs/MacOSX.sdk/usr/include/complex.h</td><td style = \"text-align: left;\">Darwin.C.complex</td></tr><tr><td class = \"rowNumber\" style = \"font-weight: bold; text-align: right;\">5</td><td style = \"text-align: left;\">CLCursor (CLFunctionDecl) cacosl(_Complex long double)</td><td style = \"text-align: left;\">/Applications/Xcode.app/Contents/Developer/Platforms/MacOSX.platform/Developer/SDKs/MacOSX.sdk/usr/include/complex.h</td><td style = \"text-align: left;\">Darwin.C.complex</td></tr><tr><td class = \"rowNumber\" style = \"font-weight: bold; text-align: right;\">6</td><td style = \"text-align: left;\">CLCursor (CLFunctionDecl) casinf(_Complex float)</td><td style = \"text-align: left;\">/Applications/Xcode.app/Contents/Developer/Platforms/MacOSX.platform/Developer/SDKs/MacOSX.sdk/usr/include/complex.h</td><td style = \"text-align: left;\">Darwin.C.complex</td></tr><tr><td class = \"rowNumber\" style = \"font-weight: bold; text-align: right;\">7</td><td style = \"text-align: left;\">CLCursor (CLFunctionDecl) casin(_Complex double)</td><td style = \"text-align: left;\">/Applications/Xcode.app/Contents/Developer/Platforms/MacOSX.platform/Developer/SDKs/MacOSX.sdk/usr/include/complex.h</td><td style = \"text-align: left;\">Darwin.C.complex</td></tr><tr><td class = \"rowNumber\" style = \"font-weight: bold; text-align: right;\">8</td><td style = \"text-align: left;\">CLCursor (CLFunctionDecl) casinl(_Complex long double)</td><td style = \"text-align: left;\">/Applications/Xcode.app/Contents/Developer/Platforms/MacOSX.platform/Developer/SDKs/MacOSX.sdk/usr/include/complex.h</td><td style = \"text-align: left;\">Darwin.C.complex</td></tr><tr><td class = \"rowNumber\" style = \"font-weight: bold; text-align: right;\">9</td><td style = \"text-align: left;\">CLCursor (CLFunctionDecl) catanf(_Complex float)</td><td style = \"text-align: left;\">/Applications/Xcode.app/Contents/Developer/Platforms/MacOSX.platform/Developer/SDKs/MacOSX.sdk/usr/include/complex.h</td><td style = \"text-align: left;\">Darwin.C.complex</td></tr><tr><td class = \"rowNumber\" style = \"font-weight: bold; text-align: right;\">10</td><td style = \"text-align: left;\">CLCursor (CLFunctionDecl) catan(_Complex double)</td><td style = \"text-align: left;\">/Applications/Xcode.app/Contents/Developer/Platforms/MacOSX.platform/Developer/SDKs/MacOSX.sdk/usr/include/complex.h</td><td style = \"text-align: left;\">Darwin.C.complex</td></tr><tr><td class = \"rowNumber\" style = \"font-weight: bold; text-align: right;\">11</td><td style = \"text-align: left;\">CLCursor (CLFunctionDecl) catanl(_Complex long double)</td><td style = \"text-align: left;\">/Applications/Xcode.app/Contents/Developer/Platforms/MacOSX.platform/Developer/SDKs/MacOSX.sdk/usr/include/complex.h</td><td style = \"text-align: left;\">Darwin.C.complex</td></tr><tr><td class = \"rowNumber\" style = \"font-weight: bold; text-align: right;\">12</td><td style = \"text-align: left;\">CLCursor (CLFunctionDecl) ccosf(_Complex float)</td><td style = \"text-align: left;\">/Applications/Xcode.app/Contents/Developer/Platforms/MacOSX.platform/Developer/SDKs/MacOSX.sdk/usr/include/complex.h</td><td style = \"text-align: left;\">Darwin.C.complex</td></tr><tr><td class = \"rowNumber\" style = \"font-weight: bold; text-align: right;\">13</td><td style = \"text-align: left;\">CLCursor (CLFunctionDecl) ccos(_Complex double)</td><td style = \"text-align: left;\">/Applications/Xcode.app/Contents/Developer/Platforms/MacOSX.platform/Developer/SDKs/MacOSX.sdk/usr/include/complex.h</td><td style = \"text-align: left;\">Darwin.C.complex</td></tr><tr><td style = \"text-align: right;\">&vellip;</td><td style = \"text-align: right;\">&vellip;</td><td style = \"text-align: right;\">&vellip;</td><td style = \"text-align: right;\">&vellip;</td></tr><tr><td class = \"rowNumber\" style = \"font-weight: bold; text-align: right;\">22286</td><td style = \"text-align: left;\">CLCursor (CLTypedefDecl) NSUserAutomatorTaskCompletionHandler</td><td style = \"text-align: left;\">/Applications/Xcode.app/Contents/Developer/Platforms/MacOSX.platform/Developer/SDKs/MacOSX.sdk/System/Library/Frameworks/Foundation.framework/Headers/NSUserScriptTask.h</td><td style = \"text-align: left;\">Foundation.NSUserScriptTask</td></tr><tr><td class = \"rowNumber\" style = \"font-weight: bold; text-align: right;\">22287</td><td style = \"text-align: left;\">CLCursor (CLVarDecl) NSDebugEnabled</td><td style = \"text-align: left;\">/Applications/Xcode.app/Contents/Developer/Platforms/MacOSX.platform/Developer/SDKs/MacOSX.sdk/System/Library/Frameworks/Foundation.framework/Headers/NSDebug.h</td><td style = \"text-align: left;\">Foundation.NSDebug</td></tr><tr><td class = \"rowNumber\" style = \"font-weight: bold; text-align: right;\">22288</td><td style = \"text-align: left;\">CLCursor (CLVarDecl) NSZombieEnabled</td><td style = \"text-align: left;\">/Applications/Xcode.app/Contents/Developer/Platforms/MacOSX.platform/Developer/SDKs/MacOSX.sdk/System/Library/Frameworks/Foundation.framework/Headers/NSDebug.h</td><td style = \"text-align: left;\">Foundation.NSDebug</td></tr><tr><td class = \"rowNumber\" style = \"font-weight: bold; text-align: right;\">22289</td><td style = \"text-align: left;\">CLCursor (CLVarDecl) NSDeallocateZombies</td><td style = \"text-align: left;\">/Applications/Xcode.app/Contents/Developer/Platforms/MacOSX.platform/Developer/SDKs/MacOSX.sdk/System/Library/Frameworks/Foundation.framework/Headers/NSDebug.h</td><td style = \"text-align: left;\">Foundation.NSDebug</td></tr><tr><td class = \"rowNumber\" style = \"font-weight: bold; text-align: right;\">22290</td><td style = \"text-align: left;\">CLCursor (CLFunctionDecl) NSIsFreedObject(id)</td><td style = \"text-align: left;\">/Applications/Xcode.app/Contents/Developer/Platforms/MacOSX.platform/Developer/SDKs/MacOSX.sdk/System/Library/Frameworks/Foundation.framework/Headers/NSDebug.h</td><td style = \"text-align: left;\">Foundation.NSDebug</td></tr><tr><td class = \"rowNumber\" style = \"font-weight: bold; text-align: right;\">22291</td><td style = \"text-align: left;\">CLCursor (CLFunctionDecl) NSFrameAddress(NSUInteger)</td><td style = \"text-align: left;\">/Applications/Xcode.app/Contents/Developer/Platforms/MacOSX.platform/Developer/SDKs/MacOSX.sdk/System/Library/Frameworks/Foundation.framework/Headers/NSDebug.h</td><td style = \"text-align: left;\">Foundation.NSDebug</td></tr><tr><td class = \"rowNumber\" style = \"font-weight: bold; text-align: right;\">22292</td><td style = \"text-align: left;\">CLCursor (CLFunctionDecl) NSReturnAddress(NSUInteger)</td><td style = \"text-align: left;\">/Applications/Xcode.app/Contents/Developer/Platforms/MacOSX.platform/Developer/SDKs/MacOSX.sdk/System/Library/Frameworks/Foundation.framework/Headers/NSDebug.h</td><td style = \"text-align: left;\">Foundation.NSDebug</td></tr><tr><td class = \"rowNumber\" style = \"font-weight: bold; text-align: right;\">22293</td><td style = \"text-align: left;\">CLCursor (CLFunctionDecl) NSCountFrames()</td><td style = \"text-align: left;\">/Applications/Xcode.app/Contents/Developer/Platforms/MacOSX.platform/Developer/SDKs/MacOSX.sdk/System/Library/Frameworks/Foundation.framework/Headers/NSDebug.h</td><td style = \"text-align: left;\">Foundation.NSDebug</td></tr><tr><td class = \"rowNumber\" style = \"font-weight: bold; text-align: right;\">22294</td><td style = \"text-align: left;\">CLCursor (CLObjCCategoryDecl) NSAutoreleasePoolDebugging</td><td style = \"text-align: left;\">/Applications/Xcode.app/Contents/Developer/Platforms/MacOSX.platform/Developer/SDKs/MacOSX.sdk/System/Library/Frameworks/Foundation.framework/Headers/NSDebug.h</td><td style = \"text-align: left;\">Foundation.NSDebug</td></tr><tr><td class = \"rowNumber\" style = \"font-weight: bold; text-align: right;\">22295</td><td style = \"text-align: left;\">CLCursor (CLVarDecl) NSKeepAllocationStatistics</td><td style = \"text-align: left;\">/Applications/Xcode.app/Contents/Developer/Platforms/MacOSX.platform/Developer/SDKs/MacOSX.sdk/System/Library/Frameworks/Foundation.framework/Headers/NSDebug.h</td><td style = \"text-align: left;\">Foundation.NSDebug</td></tr><tr><td class = \"rowNumber\" style = \"font-weight: bold; text-align: right;\">22296</td><td style = \"text-align: left;\">CLCursor (CLFunctionDecl) NSRecordAllocationEvent(int, id)</td><td style = \"text-align: left;\">/Applications/Xcode.app/Contents/Developer/Platforms/MacOSX.platform/Developer/SDKs/MacOSX.sdk/System/Library/Frameworks/Foundation.framework/Headers/NSDebug.h</td><td style = \"text-align: left;\">Foundation.NSDebug</td></tr><tr><td class = \"rowNumber\" style = \"font-weight: bold; text-align: right;\">22297</td><td style = \"text-align: left;\">CLCursor (CLModuleImportDecl) Foundation</td><td style = \"text-align: left;\">/Users/nehal/src/ObjectiveC.jl/exploration/050_import_module.h</td><td style = \"text-align: left;\"></td></tr></tbody></table></div>"
      ],
      "text/latex": [
       "\\begin{tabular}{r|ccc}\n",
       "\t& cursor & file & \\\\\n",
       "\t\\hline\n",
       "\t& CLCursor & String & \\\\\n",
       "\t\\hline\n",
       "\t1 & CLCursor (CLObjCClassRef) Protocol &  & $\\dots$ \\\\\n",
       "\t2 & CLCursor (CLTypedefDecl) max\\_align\\_t & /Users/nehal/.julia/artifacts/c9828f0ef0f967487ce376a3d8b4c8a646d38ace/lib/clang/13.0.1/include/\\_\\_stddef\\_max\\_align\\_t.h & $\\dots$ \\\\\n",
       "\t3 & CLCursor (CLFunctionDecl) cacosf(\\_Complex float) & /Applications/Xcode.app/Contents/Developer/Platforms/MacOSX.platform/Developer/SDKs/MacOSX.sdk/usr/include/complex.h & $\\dots$ \\\\\n",
       "\t4 & CLCursor (CLFunctionDecl) cacos(\\_Complex double) & /Applications/Xcode.app/Contents/Developer/Platforms/MacOSX.platform/Developer/SDKs/MacOSX.sdk/usr/include/complex.h & $\\dots$ \\\\\n",
       "\t5 & CLCursor (CLFunctionDecl) cacosl(\\_Complex long double) & /Applications/Xcode.app/Contents/Developer/Platforms/MacOSX.platform/Developer/SDKs/MacOSX.sdk/usr/include/complex.h & $\\dots$ \\\\\n",
       "\t6 & CLCursor (CLFunctionDecl) casinf(\\_Complex float) & /Applications/Xcode.app/Contents/Developer/Platforms/MacOSX.platform/Developer/SDKs/MacOSX.sdk/usr/include/complex.h & $\\dots$ \\\\\n",
       "\t7 & CLCursor (CLFunctionDecl) casin(\\_Complex double) & /Applications/Xcode.app/Contents/Developer/Platforms/MacOSX.platform/Developer/SDKs/MacOSX.sdk/usr/include/complex.h & $\\dots$ \\\\\n",
       "\t8 & CLCursor (CLFunctionDecl) casinl(\\_Complex long double) & /Applications/Xcode.app/Contents/Developer/Platforms/MacOSX.platform/Developer/SDKs/MacOSX.sdk/usr/include/complex.h & $\\dots$ \\\\\n",
       "\t9 & CLCursor (CLFunctionDecl) catanf(\\_Complex float) & /Applications/Xcode.app/Contents/Developer/Platforms/MacOSX.platform/Developer/SDKs/MacOSX.sdk/usr/include/complex.h & $\\dots$ \\\\\n",
       "\t10 & CLCursor (CLFunctionDecl) catan(\\_Complex double) & /Applications/Xcode.app/Contents/Developer/Platforms/MacOSX.platform/Developer/SDKs/MacOSX.sdk/usr/include/complex.h & $\\dots$ \\\\\n",
       "\t11 & CLCursor (CLFunctionDecl) catanl(\\_Complex long double) & /Applications/Xcode.app/Contents/Developer/Platforms/MacOSX.platform/Developer/SDKs/MacOSX.sdk/usr/include/complex.h & $\\dots$ \\\\\n",
       "\t12 & CLCursor (CLFunctionDecl) ccosf(\\_Complex float) & /Applications/Xcode.app/Contents/Developer/Platforms/MacOSX.platform/Developer/SDKs/MacOSX.sdk/usr/include/complex.h & $\\dots$ \\\\\n",
       "\t13 & CLCursor (CLFunctionDecl) ccos(\\_Complex double) & /Applications/Xcode.app/Contents/Developer/Platforms/MacOSX.platform/Developer/SDKs/MacOSX.sdk/usr/include/complex.h & $\\dots$ \\\\\n",
       "\t14 & CLCursor (CLFunctionDecl) ccosl(\\_Complex long double) & /Applications/Xcode.app/Contents/Developer/Platforms/MacOSX.platform/Developer/SDKs/MacOSX.sdk/usr/include/complex.h & $\\dots$ \\\\\n",
       "\t15 & CLCursor (CLFunctionDecl) csinf(\\_Complex float) & /Applications/Xcode.app/Contents/Developer/Platforms/MacOSX.platform/Developer/SDKs/MacOSX.sdk/usr/include/complex.h & $\\dots$ \\\\\n",
       "\t16 & CLCursor (CLFunctionDecl) csin(\\_Complex double) & /Applications/Xcode.app/Contents/Developer/Platforms/MacOSX.platform/Developer/SDKs/MacOSX.sdk/usr/include/complex.h & $\\dots$ \\\\\n",
       "\t17 & CLCursor (CLFunctionDecl) csinl(\\_Complex long double) & /Applications/Xcode.app/Contents/Developer/Platforms/MacOSX.platform/Developer/SDKs/MacOSX.sdk/usr/include/complex.h & $\\dots$ \\\\\n",
       "\t18 & CLCursor (CLFunctionDecl) ctanf(\\_Complex float) & /Applications/Xcode.app/Contents/Developer/Platforms/MacOSX.platform/Developer/SDKs/MacOSX.sdk/usr/include/complex.h & $\\dots$ \\\\\n",
       "\t19 & CLCursor (CLFunctionDecl) ctan(\\_Complex double) & /Applications/Xcode.app/Contents/Developer/Platforms/MacOSX.platform/Developer/SDKs/MacOSX.sdk/usr/include/complex.h & $\\dots$ \\\\\n",
       "\t20 & CLCursor (CLFunctionDecl) ctanl(\\_Complex long double) & /Applications/Xcode.app/Contents/Developer/Platforms/MacOSX.platform/Developer/SDKs/MacOSX.sdk/usr/include/complex.h & $\\dots$ \\\\\n",
       "\t21 & CLCursor (CLFunctionDecl) cacoshf(\\_Complex float) & /Applications/Xcode.app/Contents/Developer/Platforms/MacOSX.platform/Developer/SDKs/MacOSX.sdk/usr/include/complex.h & $\\dots$ \\\\\n",
       "\t22 & CLCursor (CLFunctionDecl) cacosh(\\_Complex double) & /Applications/Xcode.app/Contents/Developer/Platforms/MacOSX.platform/Developer/SDKs/MacOSX.sdk/usr/include/complex.h & $\\dots$ \\\\\n",
       "\t23 & CLCursor (CLFunctionDecl) cacoshl(\\_Complex long double) & /Applications/Xcode.app/Contents/Developer/Platforms/MacOSX.platform/Developer/SDKs/MacOSX.sdk/usr/include/complex.h & $\\dots$ \\\\\n",
       "\t24 & CLCursor (CLFunctionDecl) casinhf(\\_Complex float) & /Applications/Xcode.app/Contents/Developer/Platforms/MacOSX.platform/Developer/SDKs/MacOSX.sdk/usr/include/complex.h & $\\dots$ \\\\\n",
       "\t$\\dots$ & $\\dots$ & $\\dots$ &  \\\\\n",
       "\\end{tabular}\n"
      ],
      "text/plain": [
       "\u001b[1m22297×3 DataFrame\u001b[0m\n",
       "\u001b[1m   Row \u001b[0m│\u001b[1m cursor                            \u001b[0m\u001b[1m file                              \u001b[0m\u001b[1m\u001b[0m ⋯\n",
       "       │\u001b[90m CLCursor                          \u001b[0m\u001b[90m String                            \u001b[0m\u001b[90m\u001b[0m ⋯\n",
       "───────┼────────────────────────────────────────────────────────────────────────\n",
       "     1 │ CLCursor (CLObjCClassRef) Protoc…                                     ⋯\n",
       "     2 │ CLCursor (CLTypedefDecl) max_ali…  /Users/nehal/.julia/artifacts/c9…\n",
       "     3 │ CLCursor (CLFunctionDecl) cacosf…  /Applications/Xcode.app/Contents…\n",
       "     4 │ CLCursor (CLFunctionDecl) cacos(…  /Applications/Xcode.app/Contents…\n",
       "     5 │ CLCursor (CLFunctionDecl) cacosl…  /Applications/Xcode.app/Contents…  ⋯\n",
       "     6 │ CLCursor (CLFunctionDecl) casinf…  /Applications/Xcode.app/Contents…\n",
       "     7 │ CLCursor (CLFunctionDecl) casin(…  /Applications/Xcode.app/Contents…\n",
       "     8 │ CLCursor (CLFunctionDecl) casinl…  /Applications/Xcode.app/Contents…\n",
       "   ⋮   │                 ⋮                                  ⋮                  ⋱\n",
       " 22291 │ CLCursor (CLFunctionDecl) NSFram…  /Applications/Xcode.app/Contents…  ⋯\n",
       " 22292 │ CLCursor (CLFunctionDecl) NSRetu…  /Applications/Xcode.app/Contents…\n",
       " 22293 │ CLCursor (CLFunctionDecl) NSCoun…  /Applications/Xcode.app/Contents…\n",
       " 22294 │ CLCursor (CLObjCCategoryDecl) NS…  /Applications/Xcode.app/Contents…\n",
       " 22295 │ CLCursor (CLVarDecl) NSKeepAlloc…  /Applications/Xcode.app/Contents…  ⋯\n",
       " 22296 │ CLCursor (CLFunctionDecl) NSReco…  /Applications/Xcode.app/Contents…\n",
       " 22297 │ CLCursor (CLModuleImportDecl) Fo…  /Users/nehal/src/ObjectiveC.jl/e…\n",
       "\u001b[36m                                                 1 column and 22282 rows omitted\u001b[0m"
      ]
     },
     "metadata": {},
     "output_type": "display_data"
    }
   ],
   "source": [
    "df.mod = df.cursor .|> file .|> (f -> get_module(tu, f)) .|> full_name \n",
    "df"
   ]
  },
  {
   "cell_type": "code",
   "execution_count": 21,
   "metadata": {},
   "outputs": [
    {
     "data": {
      "text/plain": [
       "22297-element Vector{String}:\n",
       " \"\"\n",
       " \"_Builtin_stddef_max_align_t\"\n",
       " \"Darwin\"\n",
       " \"Darwin\"\n",
       " \"Darwin\"\n",
       " \"Darwin\"\n",
       " \"Darwin\"\n",
       " \"Darwin\"\n",
       " \"Darwin\"\n",
       " \"Darwin\"\n",
       " ⋮\n",
       " \"Foundation\"\n",
       " \"Foundation\"\n",
       " \"Foundation\"\n",
       " \"Foundation\"\n",
       " \"Foundation\"\n",
       " \"Foundation\"\n",
       " \"Foundation\"\n",
       " \"Foundation\"\n",
       " \"\""
      ]
     },
     "metadata": {},
     "output_type": "display_data"
    }
   ],
   "source": [
    "df.topmod = df.cursor .|> file .|> (f -> get_module(tu, f)) .|> toplevel_module .|> full_name "
   ]
  },
  {
   "cell_type": "code",
   "execution_count": 24,
   "metadata": {},
   "outputs": [
    {
     "data": {
      "text/html": [
       "<div><div style = \"float: left;\"><span>20×2 DataFrame</span></div><div style = \"clear: both;\"></div></div><div class = \"data-frame\" style = \"overflow-x: scroll;\"><table class = \"data-frame\" style = \"margin-bottom: 6px;\"><thead><tr class = \"header\"><th class = \"rowNumber\" style = \"font-weight: bold; text-align: right;\">Row</th><th style = \"text-align: left;\">topmod</th><th style = \"text-align: left;\">nrow</th></tr><tr class = \"subheader headerLastRow\"><th class = \"rowNumber\" style = \"font-weight: bold; text-align: right;\"></th><th title = \"String\" style = \"text-align: left;\">String</th><th title = \"Int64\" style = \"text-align: left;\">Int64</th></tr></thead><tbody><tr><td class = \"rowNumber\" style = \"font-weight: bold; text-align: right;\">1</td><td style = \"text-align: left;\">Darwin</td><td style = \"text-align: right;\">6316</td></tr><tr><td class = \"rowNumber\" style = \"font-weight: bold; text-align: right;\">2</td><td style = \"text-align: left;\">CoreServices</td><td style = \"text-align: right;\">3732</td></tr><tr><td class = \"rowNumber\" style = \"font-weight: bold; text-align: right;\">3</td><td style = \"text-align: left;\">Security</td><td style = \"text-align: right;\">3003</td></tr><tr><td class = \"rowNumber\" style = \"font-weight: bold; text-align: right;\">4</td><td style = \"text-align: left;\">Foundation</td><td style = \"text-align: right;\">2624</td></tr><tr><td class = \"rowNumber\" style = \"font-weight: bold; text-align: right;\">5</td><td style = \"text-align: left;\">IOKit</td><td style = \"text-align: right;\">2096</td></tr><tr><td class = \"rowNumber\" style = \"font-weight: bold; text-align: right;\">6</td><td style = \"text-align: left;\">CoreFoundation</td><td style = \"text-align: right;\">1661</td></tr><tr><td class = \"rowNumber\" style = \"font-weight: bold; text-align: right;\">7</td><td style = \"text-align: left;\">CoreGraphics</td><td style = \"text-align: right;\">1127</td></tr><tr><td class = \"rowNumber\" style = \"font-weight: bold; text-align: right;\">8</td><td style = \"text-align: left;\"></td><td style = \"text-align: right;\">355</td></tr><tr><td class = \"rowNumber\" style = \"font-weight: bold; text-align: right;\">9</td><td style = \"text-align: left;\">CFNetwork</td><td style = \"text-align: right;\">286</td></tr><tr><td class = \"rowNumber\" style = \"font-weight: bold; text-align: right;\">10</td><td style = \"text-align: left;\">ObjectiveC</td><td style = \"text-align: right;\">258</td></tr><tr><td class = \"rowNumber\" style = \"font-weight: bold; text-align: right;\">11</td><td style = \"text-align: left;\">MachO</td><td style = \"text-align: right;\">229</td></tr><tr><td class = \"rowNumber\" style = \"font-weight: bold; text-align: right;\">12</td><td style = \"text-align: left;\">XPC</td><td style = \"text-align: right;\">199</td></tr><tr><td class = \"rowNumber\" style = \"font-weight: bold; text-align: right;\">13</td><td style = \"text-align: left;\">Dispatch</td><td style = \"text-align: right;\">185</td></tr><tr><td class = \"rowNumber\" style = \"font-weight: bold; text-align: right;\">14</td><td style = \"text-align: left;\">DiskArbitration</td><td style = \"text-align: right;\">118</td></tr><tr><td class = \"rowNumber\" style = \"font-weight: bold; text-align: right;\">15</td><td style = \"text-align: left;\">launch</td><td style = \"text-align: right;\">43</td></tr><tr><td class = \"rowNumber\" style = \"font-weight: bold; text-align: right;\">16</td><td style = \"text-align: left;\">os_workgroup</td><td style = \"text-align: right;\">40</td></tr><tr><td class = \"rowNumber\" style = \"font-weight: bold; text-align: right;\">17</td><td style = \"text-align: left;\">libkern</td><td style = \"text-align: right;\">11</td></tr><tr><td class = \"rowNumber\" style = \"font-weight: bold; text-align: right;\">18</td><td style = \"text-align: left;\">libDER</td><td style = \"text-align: right;\">9</td></tr><tr><td class = \"rowNumber\" style = \"font-weight: bold; text-align: right;\">19</td><td style = \"text-align: left;\">os_object</td><td style = \"text-align: right;\">4</td></tr><tr><td class = \"rowNumber\" style = \"font-weight: bold; text-align: right;\">20</td><td style = \"text-align: left;\">_Builtin_stddef_max_align_t</td><td style = \"text-align: right;\">1</td></tr></tbody></table></div>"
      ],
      "text/latex": [
       "\\begin{tabular}{r|cc}\n",
       "\t& topmod & nrow\\\\\n",
       "\t\\hline\n",
       "\t& String & Int64\\\\\n",
       "\t\\hline\n",
       "\t1 & Darwin & 6316 \\\\\n",
       "\t2 & CoreServices & 3732 \\\\\n",
       "\t3 & Security & 3003 \\\\\n",
       "\t4 & Foundation & 2624 \\\\\n",
       "\t5 & IOKit & 2096 \\\\\n",
       "\t6 & CoreFoundation & 1661 \\\\\n",
       "\t7 & CoreGraphics & 1127 \\\\\n",
       "\t8 &  & 355 \\\\\n",
       "\t9 & CFNetwork & 286 \\\\\n",
       "\t10 & ObjectiveC & 258 \\\\\n",
       "\t11 & MachO & 229 \\\\\n",
       "\t12 & XPC & 199 \\\\\n",
       "\t13 & Dispatch & 185 \\\\\n",
       "\t14 & DiskArbitration & 118 \\\\\n",
       "\t15 & launch & 43 \\\\\n",
       "\t16 & os\\_workgroup & 40 \\\\\n",
       "\t17 & libkern & 11 \\\\\n",
       "\t18 & libDER & 9 \\\\\n",
       "\t19 & os\\_object & 4 \\\\\n",
       "\t20 & \\_Builtin\\_stddef\\_max\\_align\\_t & 1 \\\\\n",
       "\\end{tabular}\n"
      ],
      "text/plain": [
       "\u001b[1m20×2 DataFrame\u001b[0m\n",
       "\u001b[1m Row \u001b[0m│\u001b[1m topmod                      \u001b[0m\u001b[1m nrow  \u001b[0m\n",
       "     │\u001b[90m String                      \u001b[0m\u001b[90m Int64 \u001b[0m\n",
       "─────┼────────────────────────────────────\n",
       "   1 │ Darwin                        6316\n",
       "   2 │ CoreServices                  3732\n",
       "   3 │ Security                      3003\n",
       "   4 │ Foundation                    2624\n",
       "   5 │ IOKit                         2096\n",
       "   6 │ CoreFoundation                1661\n",
       "   7 │ CoreGraphics                  1127\n",
       "   8 │                                355\n",
       "  ⋮  │              ⋮                 ⋮\n",
       "  14 │ DiskArbitration                118\n",
       "  15 │ launch                          43\n",
       "  16 │ os_workgroup                    40\n",
       "  17 │ libkern                         11\n",
       "  18 │ libDER                           9\n",
       "  19 │ os_object                        4\n",
       "  20 │ _Builtin_stddef_max_align_t      1\n",
       "\u001b[36m                            5 rows omitted\u001b[0m"
      ]
     },
     "metadata": {},
     "output_type": "display_data"
    }
   ],
   "source": [
    "sort!(combine(groupby(df, :topmod), nrow),:nrow, rev=true)"
   ]
  },
  {
   "cell_type": "code",
   "execution_count": 26,
   "metadata": {},
   "outputs": [
    {
     "data": {
      "text/plain": [
       "\"FunctionDecl\""
      ]
     },
     "metadata": {},
     "output_type": "display_data"
    }
   ],
   "source": [
    "toplevel[3] |> kind |> spelling"
   ]
  },
  {
   "cell_type": "code",
   "execution_count": 27,
   "metadata": {},
   "outputs": [
    {
     "data": {
      "text/plain": [
       "22297-element Vector{String}:\n",
       " \"ObjCClassRef\"\n",
       " \"TypedefDecl\"\n",
       " \"FunctionDecl\"\n",
       " \"FunctionDecl\"\n",
       " \"FunctionDecl\"\n",
       " \"FunctionDecl\"\n",
       " \"FunctionDecl\"\n",
       " \"FunctionDecl\"\n",
       " \"FunctionDecl\"\n",
       " \"FunctionDecl\"\n",
       " ⋮\n",
       " \"VarDecl\"\n",
       " \"FunctionDecl\"\n",
       " \"FunctionDecl\"\n",
       " \"FunctionDecl\"\n",
       " \"FunctionDecl\"\n",
       " \"ObjCCategoryDecl\"\n",
       " \"VarDecl\"\n",
       " \"FunctionDecl\"\n",
       " \"ModuleImport\""
      ]
     },
     "metadata": {},
     "output_type": "display_data"
    }
   ],
   "source": [
    "df.kind = df.cursor .|> kind .|> spelling"
   ]
  },
  {
   "cell_type": "code",
   "execution_count": 29,
   "metadata": {},
   "outputs": [
    {
     "data": {
      "text/plain": [
       "CLCursor (CLModuleImportDecl) Foundation"
      ]
     },
     "metadata": {},
     "output_type": "display_data"
    }
   ],
   "source": [
    "toplevel[end]"
   ]
  },
  {
   "cell_type": "code",
   "execution_count": 28,
   "metadata": {},
   "outputs": [
    {
     "data": {
      "text/html": [
       "<div><div style = \"float: left;\"><span>13×2 DataFrame</span></div><div style = \"clear: both;\"></div></div><div class = \"data-frame\" style = \"overflow-x: scroll;\"><table class = \"data-frame\" style = \"margin-bottom: 6px;\"><thead><tr class = \"header\"><th class = \"rowNumber\" style = \"font-weight: bold; text-align: right;\">Row</th><th style = \"text-align: left;\">kind</th><th style = \"text-align: left;\">nrow</th></tr><tr class = \"subheader headerLastRow\"><th class = \"rowNumber\" style = \"font-weight: bold; text-align: right;\"></th><th title = \"String\" style = \"text-align: left;\">String</th><th title = \"Int64\" style = \"text-align: left;\">Int64</th></tr></thead><tbody><tr><td class = \"rowNumber\" style = \"font-weight: bold; text-align: right;\">1</td><td style = \"text-align: left;\">FunctionDecl</td><td style = \"text-align: right;\">8206</td></tr><tr><td class = \"rowNumber\" style = \"font-weight: bold; text-align: right;\">2</td><td style = \"text-align: left;\">TypedefDecl</td><td style = \"text-align: right;\">4716</td></tr><tr><td class = \"rowNumber\" style = \"font-weight: bold; text-align: right;\">3</td><td style = \"text-align: left;\">VarDecl</td><td style = \"text-align: right;\">3261</td></tr><tr><td class = \"rowNumber\" style = \"font-weight: bold; text-align: right;\">4</td><td style = \"text-align: left;\">StructDecl</td><td style = \"text-align: right;\">2596</td></tr><tr><td class = \"rowNumber\" style = \"font-weight: bold; text-align: right;\">5</td><td style = \"text-align: left;\">EnumDecl</td><td style = \"text-align: right;\">2327</td></tr><tr><td class = \"rowNumber\" style = \"font-weight: bold; text-align: right;\">6</td><td style = \"text-align: left;\">ObjCClassRef</td><td style = \"text-align: right;\">575</td></tr><tr><td class = \"rowNumber\" style = \"font-weight: bold; text-align: right;\">7</td><td style = \"text-align: left;\">ObjCInterfaceDecl</td><td style = \"text-align: right;\">274</td></tr><tr><td class = \"rowNumber\" style = \"font-weight: bold; text-align: right;\">8</td><td style = \"text-align: left;\">ObjCCategoryDecl</td><td style = \"text-align: right;\">181</td></tr><tr><td class = \"rowNumber\" style = \"font-weight: bold; text-align: right;\">9</td><td style = \"text-align: left;\">ObjCProtocolDecl</td><td style = \"text-align: right;\">66</td></tr><tr><td class = \"rowNumber\" style = \"font-weight: bold; text-align: right;\">10</td><td style = \"text-align: left;\">UnionDecl</td><td style = \"text-align: right;\">58</td></tr><tr><td class = \"rowNumber\" style = \"font-weight: bold; text-align: right;\">11</td><td style = \"text-align: left;\">ObjCProtocolRef</td><td style = \"text-align: right;\">22</td></tr><tr><td class = \"rowNumber\" style = \"font-weight: bold; text-align: right;\">12</td><td style = \"text-align: left;\">UnexposedDecl</td><td style = \"text-align: right;\">14</td></tr><tr><td class = \"rowNumber\" style = \"font-weight: bold; text-align: right;\">13</td><td style = \"text-align: left;\">ModuleImport</td><td style = \"text-align: right;\">1</td></tr></tbody></table></div>"
      ],
      "text/latex": [
       "\\begin{tabular}{r|cc}\n",
       "\t& kind & nrow\\\\\n",
       "\t\\hline\n",
       "\t& String & Int64\\\\\n",
       "\t\\hline\n",
       "\t1 & FunctionDecl & 8206 \\\\\n",
       "\t2 & TypedefDecl & 4716 \\\\\n",
       "\t3 & VarDecl & 3261 \\\\\n",
       "\t4 & StructDecl & 2596 \\\\\n",
       "\t5 & EnumDecl & 2327 \\\\\n",
       "\t6 & ObjCClassRef & 575 \\\\\n",
       "\t7 & ObjCInterfaceDecl & 274 \\\\\n",
       "\t8 & ObjCCategoryDecl & 181 \\\\\n",
       "\t9 & ObjCProtocolDecl & 66 \\\\\n",
       "\t10 & UnionDecl & 58 \\\\\n",
       "\t11 & ObjCProtocolRef & 22 \\\\\n",
       "\t12 & UnexposedDecl & 14 \\\\\n",
       "\t13 & ModuleImport & 1 \\\\\n",
       "\\end{tabular}\n"
      ],
      "text/plain": [
       "\u001b[1m13×2 DataFrame\u001b[0m\n",
       "\u001b[1m Row \u001b[0m│\u001b[1m kind              \u001b[0m\u001b[1m nrow  \u001b[0m\n",
       "     │\u001b[90m String            \u001b[0m\u001b[90m Int64 \u001b[0m\n",
       "─────┼──────────────────────────\n",
       "   1 │ FunctionDecl        8206\n",
       "   2 │ TypedefDecl         4716\n",
       "   3 │ VarDecl             3261\n",
       "   4 │ StructDecl          2596\n",
       "   5 │ EnumDecl            2327\n",
       "   6 │ ObjCClassRef         575\n",
       "   7 │ ObjCInterfaceDecl    274\n",
       "   8 │ ObjCCategoryDecl     181\n",
       "   9 │ ObjCProtocolDecl      66\n",
       "  10 │ UnionDecl             58\n",
       "  11 │ ObjCProtocolRef       22\n",
       "  12 │ UnexposedDecl         14\n",
       "  13 │ ModuleImport           1"
      ]
     },
     "metadata": {},
     "output_type": "display_data"
    }
   ],
   "source": [
    "sort!(combine(groupby(df, :kind), nrow),:nrow, rev=true)"
   ]
  },
  {
   "attachments": {},
   "cell_type": "markdown",
   "metadata": {},
   "source": [
    "Next Steps\n",
    "======================\n",
    "- All cursors\n",
    "- Look for annotations\n",
    "- language\n",
    "- outliers \n",
    "  - Unexposed\n",
    "- How to extract data (Clang Api)\n",
    "  - documents\n",
    "  - annotations\n",
    "  - etc\n",
    "- unions\n",
    "- void * typedefs  "
   ]
  },
  {
   "cell_type": "code",
   "execution_count": null,
   "metadata": {},
   "outputs": [],
   "source": []
  }
 ],
 "metadata": {
  "kernelspec": {
   "display_name": "Julia 1.8.5",
   "language": "julia",
   "name": "julia-1.8"
  },
  "language_info": {
   "file_extension": ".jl",
   "mimetype": "application/julia",
   "name": "julia",
   "version": "1.8.5"
  },
  "orig_nbformat": 4
 },
 "nbformat": 4,
 "nbformat_minor": 2
}
