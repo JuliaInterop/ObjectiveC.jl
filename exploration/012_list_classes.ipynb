{
 "cells": [
  {
   "attachments": {},
   "cell_type": "markdown",
   "metadata": {},
   "source": [
    "List Classes\n",
    "====================\n",
    "A julia version of `list_classes.mm`"
   ]
  },
  {
   "cell_type": "code",
   "execution_count": 1,
   "metadata": {},
   "outputs": [],
   "source": [
    "using ObjectiveC\n"
   ]
  },
  {
   "cell_type": "code",
   "execution_count": 2,
   "metadata": {},
   "outputs": [
    {
     "data": {
      "text/plain": [
       "true"
      ]
     },
     "metadata": {},
     "output_type": "display_data"
    }
   ],
   "source": [
    "ObjectiveC.load_framework(\"Foundation\")\n"
   ]
  },
  {
   "cell_type": "code",
   "execution_count": 3,
   "metadata": {},
   "outputs": [
    {
     "data": {
      "text/plain": [
       "2131"
      ]
     },
     "metadata": {},
     "output_type": "display_data"
    }
   ],
   "source": [
    "num_classes = ccall(:objc_getClassList, Cint, (Ptr{Cvoid}, Cint), C_NULL, 0)\n"
   ]
  },
  {
   "cell_type": "code",
   "execution_count": 4,
   "metadata": {},
   "outputs": [
    {
     "data": {
      "text/plain": [
       "2131"
      ]
     },
     "metadata": {},
     "output_type": "display_data"
    }
   ],
   "source": [
    "classes = Array{Ptr{Cvoid}}(undef, num_classes)\n",
    "num_classes = ccall(:objc_getClassList, Cint, (Ptr{Cvoid}, Cint), classes, num_classes)\n"
   ]
  },
  {
   "cell_type": "code",
   "execution_count": 5,
   "metadata": {},
   "outputs": [
    {
     "data": {
      "text/plain": [
       "2131-element Vector{String}:\n",
       " \"__NSGenericDeallocHandler\"\n",
       " \"__NSAtom\"\n",
       " \"_NSZombie_\"\n",
       " \"__NSMessageBuilder\"\n",
       " \"NSProxy\"\n",
       " \"_LSCoreTypesRecordProxy\"\n",
       " \"NSUndoManagerProxy\"\n",
       " \"NSProtocolChecker\"\n",
       " \"NSConcreteProtocolChecker\"\n",
       " \"NSAutoContentAccessingProxy\"\n",
       " ⋮\n",
       " \"OS_xpc_double\"\n",
       " \"OS_xpc_bool\"\n",
       " \"OS_xpc_null\"\n",
       " \"OS_xpc_session\"\n",
       " \"OS_xpc_service\"\n",
       " \"OS_xpc_connection\"\n",
       " \"__NSUnrecognizedTaggedPointer\"\n",
       " \"Protocol\"\n",
       " \"__IncompleteProtocol\""
      ]
     },
     "metadata": {},
     "output_type": "display_data"
    }
   ],
   "source": [
    "names = [ccall(:class_getName, Ptr{Cchar}, (Ptr{Cvoid},),c) |> unsafe_string for c in classes] \n"
   ]
  },
  {
   "cell_type": "code",
   "execution_count": 6,
   "metadata": {},
   "outputs": [
    {
     "data": {
      "text/plain": [
       "2131-element Vector{String}:\n",
       " \"/System/Library/Frameworks/CoreFoundation.framework/Versions/A/CoreFoundation\"\n",
       " \"/System/Library/Frameworks/CoreFoundation.framework/Versions/A/CoreFoundation\"\n",
       " \"/System/Library/Frameworks/CoreFoundation.framework/Versions/A/CoreFoundation\"\n",
       " \"/System/Library/Frameworks/CoreFoundation.framework/Versions/A/CoreFoundation\"\n",
       " \"/System/Library/Frameworks/Foundation.framework/Versions/C/Foundation\"\n",
       " \"/System/Library/Frameworks/Core\" ⋯ 60 bytes ⋯ \"ework/Versions/A/LaunchServices\"\n",
       " \"/System/Library/Frameworks/Foundation.framework/Versions/C/Foundation\"\n",
       " \"/System/Library/Frameworks/Foundation.framework/Versions/C/Foundation\"\n",
       " \"/System/Library/Frameworks/Foundation.framework/Versions/C/Foundation\"\n",
       " \"/System/Library/Frameworks/Foundation.framework/Versions/C/Foundation\"\n",
       " ⋮\n",
       " \"/usr/lib/system/libxpc.dylib\"\n",
       " \"/usr/lib/system/libxpc.dylib\"\n",
       " \"/usr/lib/system/libxpc.dylib\"\n",
       " \"/usr/lib/system/libxpc.dylib\"\n",
       " \"/usr/lib/system/libxpc.dylib\"\n",
       " \"/usr/lib/system/libxpc.dylib\"\n",
       " \"/usr/lib/libobjc.A.dylib\"\n",
       " \"/usr/lib/libobjc.A.dylib\"\n",
       " \"/usr/lib/libobjc.A.dylib\""
      ]
     },
     "metadata": {},
     "output_type": "display_data"
    }
   ],
   "source": [
    "images = [ccall(:class_getImageName, Ptr{Cchar}, (Ptr{Cvoid},),c) |> unsafe_string for c in classes] \n"
   ]
  },
  {
   "cell_type": "code",
   "execution_count": 7,
   "metadata": {},
   "outputs": [
    {
     "name": "stdout",
     "output_type": "stream",
     "text": [
      "Lookup by name: 10132.416us Total, 4754.77053026748ns per Class"
     ]
    }
   ],
   "source": [
    "class = C_NULL\n",
    "start = time_ns()\n",
    "for n in names\n",
    "    class = ccall(:objc_getClass, Ptr{Cvoid}, (Ptr{Cchar},),n)\n",
    "end\n",
    "fin = time_ns()\n",
    "\n",
    "print(\"Lookup by name: $((fin-start)/1000)us Total, $((fin-start)/num_classes)ns per Class\")\n"
   ]
  },
  {
   "cell_type": "code",
   "execution_count": 8,
   "metadata": {},
   "outputs": [],
   "source": [
    "using BenchmarkTools\n"
   ]
  },
  {
   "cell_type": "code",
   "execution_count": 9,
   "metadata": {},
   "outputs": [
    {
     "data": {
      "text/plain": [
       "BenchmarkTools.Trial: 10000 samples with 986 evaluations.\n",
       " Range \u001b[90m(\u001b[39m\u001b[36m\u001b[1mmin\u001b[22m\u001b[39m … \u001b[35mmax\u001b[39m\u001b[90m):  \u001b[39m\u001b[36m\u001b[1m52.865 ns\u001b[22m\u001b[39m … \u001b[35m86.165 ns\u001b[39m  \u001b[90m┊\u001b[39m GC \u001b[90m(\u001b[39mmin … max\u001b[90m): \u001b[39m0.00% … 0.00%\n",
       " Time  \u001b[90m(\u001b[39m\u001b[34m\u001b[1mmedian\u001b[22m\u001b[39m\u001b[90m):     \u001b[39m\u001b[34m\u001b[1m53.034 ns              \u001b[22m\u001b[39m\u001b[90m┊\u001b[39m GC \u001b[90m(\u001b[39mmedian\u001b[90m):    \u001b[39m0.00%\n",
       " Time  \u001b[90m(\u001b[39m\u001b[32m\u001b[1mmean\u001b[22m\u001b[39m ± \u001b[32mσ\u001b[39m\u001b[90m):   \u001b[39m\u001b[32m\u001b[1m53.585 ns\u001b[22m\u001b[39m ± \u001b[32m 1.837 ns\u001b[39m  \u001b[90m┊\u001b[39m GC \u001b[90m(\u001b[39mmean ± σ\u001b[90m):  \u001b[39m0.00% ± 0.00%\n",
       "\n",
       "  \u001b[39m█\u001b[34m█\u001b[39m\u001b[39m▃\u001b[39m \u001b[32m \u001b[39m\u001b[39m \u001b[39m \u001b[39m \u001b[39m \u001b[39m \u001b[39m▃\u001b[39m▂\u001b[39m \u001b[39m \u001b[39m \u001b[39m \u001b[39m \u001b[39m \u001b[39m▁\u001b[39m \u001b[39m▁\u001b[39m▁\u001b[39m▁\u001b[39m▁\u001b[39m \u001b[39m \u001b[39m▁\u001b[39m \u001b[39m \u001b[39m \u001b[39m \u001b[39m \u001b[39m \u001b[39m \u001b[39m \u001b[39m \u001b[39m \u001b[39m \u001b[39m \u001b[39m \u001b[39m \u001b[39m \u001b[39m \u001b[39m \u001b[39m \u001b[39m \u001b[39m \u001b[39m \u001b[39m \u001b[39m \u001b[39m \u001b[39m \u001b[39m \u001b[39m \u001b[39m \u001b[39m \u001b[39m \u001b[39m \u001b[39m \u001b[39m \u001b[39m▂\n",
       "  \u001b[39m█\u001b[34m█\u001b[39m\u001b[39m█\u001b[39m█\u001b[32m█\u001b[39m\u001b[39m█\u001b[39m█\u001b[39m█\u001b[39m▇\u001b[39m▇\u001b[39m█\u001b[39m█\u001b[39m█\u001b[39m█\u001b[39m█\u001b[39m█\u001b[39m█\u001b[39m█\u001b[39m█\u001b[39m█\u001b[39m█\u001b[39m█\u001b[39m█\u001b[39m█\u001b[39m█\u001b[39m█\u001b[39m█\u001b[39m▇\u001b[39m▇\u001b[39m▇\u001b[39m▇\u001b[39m▆\u001b[39m▆\u001b[39m▆\u001b[39m▅\u001b[39m▅\u001b[39m▅\u001b[39m▆\u001b[39m▆\u001b[39m▅\u001b[39m▆\u001b[39m▅\u001b[39m▅\u001b[39m▅\u001b[39m▅\u001b[39m▁\u001b[39m▄\u001b[39m▄\u001b[39m▅\u001b[39m▄\u001b[39m▃\u001b[39m▁\u001b[39m▃\u001b[39m▃\u001b[39m▁\u001b[39m▅\u001b[39m▄\u001b[39m▁\u001b[39m▄\u001b[39m \u001b[39m█\n",
       "  52.9 ns\u001b[90m      \u001b[39m\u001b[90mHistogram: \u001b[39m\u001b[90m\u001b[1mlog(\u001b[22m\u001b[39m\u001b[90mfrequency\u001b[39m\u001b[90m\u001b[1m)\u001b[22m\u001b[39m\u001b[90m by time\u001b[39m      62.5 ns \u001b[0m\u001b[1m<\u001b[22m\n",
       "\n",
       " Memory estimate\u001b[90m: \u001b[39m\u001b[33m0 bytes\u001b[39m, allocs estimate\u001b[90m: \u001b[39m\u001b[33m0\u001b[39m."
      ]
     },
     "metadata": {},
     "output_type": "display_data"
    }
   ],
   "source": [
    "@benchmark ccall(:objc_getClass, Ptr{Cvoid}, (Ptr{Cchar},),$(names[10]))"
   ]
  },
  {
   "cell_type": "code",
   "execution_count": 11,
   "metadata": {},
   "outputs": [
    {
     "name": "stdout",
     "output_type": "stream",
     "text": [
      "Lookup by name: 364.792us Total, 171.18348193336462ns per Class"
     ]
    }
   ],
   "source": [
    "## wrap lookup in function\n",
    "function lookup(names::Vector{String})\n",
    "    class = C_NULL\n",
    "    start = time_ns()\n",
    "    for n in names\n",
    "        class = ccall(:objc_getClass, Ptr{Cvoid}, (Ptr{Cchar},),n)\n",
    "    end\n",
    "    fin = time_ns()\n",
    "    return start, fin\n",
    "end\n",
    "start, fin = lookup(names)\n",
    "\n",
    "print(\"Lookup by name: $((fin-start)/1000)us Total, $((fin-start)/num_classes)ns per Class\")"
   ]
  },
  {
   "cell_type": "code",
   "execution_count": 15,
   "metadata": {},
   "outputs": [
    {
     "name": "stdout",
     "output_type": "stream",
     "text": [
      "961ffcd Julia version of list_classes\n"
     ]
    }
   ],
   "source": [
    "run(`git show --oneline -s`)\n",
    "nothing"
   ]
  }
 ],
 "metadata": {
  "kernelspec": {
   "display_name": "Julia 1.8.5",
   "language": "julia",
   "name": "julia-1.8"
  },
  "language_info": {
   "file_extension": ".jl",
   "mimetype": "application/julia",
   "name": "julia",
   "version": "1.8.5"
  },
  "orig_nbformat": 4
 },
 "nbformat": 4,
 "nbformat_minor": 2
}
