{
 "cells": [
  {
   "attachments": {},
   "cell_type": "markdown",
   "metadata": {},
   "source": [
    "List Classes\n",
    "====================\n",
    "A julia version of `list_classes.mm`"
   ]
  },
  {
   "cell_type": "code",
   "execution_count": 1,
   "metadata": {},
   "outputs": [],
   "source": [
    "using ObjectiveC\n"
   ]
  },
  {
   "cell_type": "code",
   "execution_count": null,
   "metadata": {},
   "outputs": [
    {
     "name": "stdout",
     "output_type": "stream",
     "text": [
      "0ae5145 use notebooks, begin look at structure of frameworks\n"
     ]
    }
   ],
   "source": [
    "run(`git show --oneline -s`)\n",
    "nothing"
   ]
  },
  {
   "cell_type": "code",
   "execution_count": 2,
   "metadata": {},
   "outputs": [
    {
     "data": {
      "text/plain": [
       "true"
      ]
     },
     "metadata": {},
     "output_type": "display_data"
    }
   ],
   "source": [
    "ObjectiveC.load_framework(\"Foundation\")\n"
   ]
  },
  {
   "cell_type": "code",
   "execution_count": 3,
   "metadata": {},
   "outputs": [
    {
     "data": {
      "text/plain": [
       "2131"
      ]
     },
     "metadata": {},
     "output_type": "display_data"
    }
   ],
   "source": [
    "num_classes = ccall(:objc_getClassList, Cint, (Ptr{Cvoid}, Cint), C_NULL, 0)\n"
   ]
  },
  {
   "cell_type": "code",
   "execution_count": 4,
   "metadata": {},
   "outputs": [
    {
     "data": {
      "text/plain": [
       "2131"
      ]
     },
     "metadata": {},
     "output_type": "display_data"
    }
   ],
   "source": [
    "classes = Array{Ptr{Cvoid}}(undef, num_classes)\n",
    "num_classes = ccall(:objc_getClassList, Cint, (Ptr{Cvoid}, Cint), classes, num_classes)\n"
   ]
  },
  {
   "cell_type": "code",
   "execution_count": 5,
   "metadata": {},
   "outputs": [
    {
     "data": {
      "text/plain": [
       "2131-element Vector{String}:\n",
       " \"__NSGenericDeallocHandler\"\n",
       " \"__NSAtom\"\n",
       " \"_NSZombie_\"\n",
       " \"__NSMessageBuilder\"\n",
       " \"NSProxy\"\n",
       " \"_LSCoreTypesRecordProxy\"\n",
       " \"NSUndoManagerProxy\"\n",
       " \"NSProtocolChecker\"\n",
       " \"NSConcreteProtocolChecker\"\n",
       " \"NSAutoContentAccessingProxy\"\n",
       " ⋮\n",
       " \"OS_xpc_double\"\n",
       " \"OS_xpc_bool\"\n",
       " \"OS_xpc_null\"\n",
       " \"OS_xpc_session\"\n",
       " \"OS_xpc_service\"\n",
       " \"OS_xpc_connection\"\n",
       " \"__NSUnrecognizedTaggedPointer\"\n",
       " \"Protocol\"\n",
       " \"__IncompleteProtocol\""
      ]
     },
     "metadata": {},
     "output_type": "display_data"
    }
   ],
   "source": [
    "names = [ccall(:class_getName, Ptr{Cchar}, (Ptr{Cvoid},),c) |> unsafe_string for c in classes] \n"
   ]
  },
  {
   "cell_type": "code",
   "execution_count": 6,
   "metadata": {},
   "outputs": [
    {
     "data": {
      "text/plain": [
       "2131-element Vector{String}:\n",
       " \"/System/Library/Frameworks/CoreFoundation.framework/Versions/A/CoreFoundation\"\n",
       " \"/System/Library/Frameworks/CoreFoundation.framework/Versions/A/CoreFoundation\"\n",
       " \"/System/Library/Frameworks/CoreFoundation.framework/Versions/A/CoreFoundation\"\n",
       " \"/System/Library/Frameworks/CoreFoundation.framework/Versions/A/CoreFoundation\"\n",
       " \"/System/Library/Frameworks/Foundation.framework/Versions/C/Foundation\"\n",
       " \"/System/Library/Frameworks/Core\" ⋯ 60 bytes ⋯ \"ework/Versions/A/LaunchServices\"\n",
       " \"/System/Library/Frameworks/Foundation.framework/Versions/C/Foundation\"\n",
       " \"/System/Library/Frameworks/Foundation.framework/Versions/C/Foundation\"\n",
       " \"/System/Library/Frameworks/Foundation.framework/Versions/C/Foundation\"\n",
       " \"/System/Library/Frameworks/Foundation.framework/Versions/C/Foundation\"\n",
       " ⋮\n",
       " \"/usr/lib/system/libxpc.dylib\"\n",
       " \"/usr/lib/system/libxpc.dylib\"\n",
       " \"/usr/lib/system/libxpc.dylib\"\n",
       " \"/usr/lib/system/libxpc.dylib\"\n",
       " \"/usr/lib/system/libxpc.dylib\"\n",
       " \"/usr/lib/system/libxpc.dylib\"\n",
       " \"/usr/lib/libobjc.A.dylib\"\n",
       " \"/usr/lib/libobjc.A.dylib\"\n",
       " \"/usr/lib/libobjc.A.dylib\""
      ]
     },
     "metadata": {},
     "output_type": "display_data"
    }
   ],
   "source": [
    "images = [ccall(:class_getImageName, Ptr{Cchar}, (Ptr{Cvoid},),c) |> unsafe_string for c in classes] \n"
   ]
  },
  {
   "cell_type": "code",
   "execution_count": 7,
   "metadata": {},
   "outputs": [
    {
     "name": "stdout",
     "output_type": "stream",
     "text": [
      "Lookup by name: 10000.833us Total, 4693.023463162835ns per Class"
     ]
    }
   ],
   "source": [
    "class = C_NULL\n",
    "start = time_ns()\n",
    "for n in names\n",
    "    class = ccall(:objc_getClass, Ptr{Cvoid}, (Ptr{Cchar},),n)\n",
    "end\n",
    "fin = time_ns()\n",
    "\n",
    "print(\"Lookup by name: $((fin-start)/1000)us Total, $((fin-start)/num_classes)ns per Class\")\n"
   ]
  },
  {
   "cell_type": "code",
   "execution_count": 8,
   "metadata": {},
   "outputs": [],
   "source": [
    "using BenchmarkTools\n"
   ]
  },
  {
   "cell_type": "code",
   "execution_count": 9,
   "metadata": {},
   "outputs": [
    {
     "data": {
      "text/plain": [
       "BenchmarkTools.Trial: 10000 samples with 985 evaluations.\n",
       " Range \u001b[90m(\u001b[39m\u001b[36m\u001b[1mmin\u001b[22m\u001b[39m … \u001b[35mmax\u001b[39m\u001b[90m):  \u001b[39m\u001b[36m\u001b[1m52.834 ns\u001b[22m\u001b[39m … \u001b[35m169.289 ns\u001b[39m  \u001b[90m┊\u001b[39m GC \u001b[90m(\u001b[39mmin … max\u001b[90m): \u001b[39m0.00% … 0.00%\n",
       " Time  \u001b[90m(\u001b[39m\u001b[34m\u001b[1mmedian\u001b[22m\u001b[39m\u001b[90m):     \u001b[39m\u001b[34m\u001b[1m54.611 ns               \u001b[22m\u001b[39m\u001b[90m┊\u001b[39m GC \u001b[90m(\u001b[39mmedian\u001b[90m):    \u001b[39m0.00%\n",
       " Time  \u001b[90m(\u001b[39m\u001b[32m\u001b[1mmean\u001b[22m\u001b[39m ± \u001b[32mσ\u001b[39m\u001b[90m):   \u001b[39m\u001b[32m\u001b[1m55.192 ns\u001b[22m\u001b[39m ± \u001b[32m  2.418 ns\u001b[39m  \u001b[90m┊\u001b[39m GC \u001b[90m(\u001b[39mmean ± σ\u001b[90m):  \u001b[39m0.00% ± 0.00%\n",
       "\n",
       "  \u001b[39m▄\u001b[39m▂\u001b[39m \u001b[39m \u001b[39m \u001b[39m \u001b[39m \u001b[39m \u001b[39m▆\u001b[34m█\u001b[39m\u001b[39m▄\u001b[39m▁\u001b[39m \u001b[32m \u001b[39m\u001b[39m \u001b[39m▁\u001b[39m \u001b[39m▂\u001b[39m▅\u001b[39m▄\u001b[39m▂\u001b[39m▁\u001b[39m \u001b[39m \u001b[39m▂\u001b[39m \u001b[39m \u001b[39m \u001b[39m \u001b[39m \u001b[39m \u001b[39m \u001b[39m \u001b[39m \u001b[39m \u001b[39m \u001b[39m \u001b[39m \u001b[39m \u001b[39m \u001b[39m \u001b[39m \u001b[39m \u001b[39m \u001b[39m \u001b[39m \u001b[39m \u001b[39m \u001b[39m \u001b[39m \u001b[39m \u001b[39m \u001b[39m \u001b[39m \u001b[39m \u001b[39m \u001b[39m \u001b[39m \u001b[39m \u001b[39m \u001b[39m \u001b[39m▁\n",
       "  \u001b[39m█\u001b[39m█\u001b[39m▆\u001b[39m▄\u001b[39m▅\u001b[39m▅\u001b[39m▅\u001b[39m▅\u001b[39m█\u001b[34m█\u001b[39m\u001b[39m█\u001b[39m█\u001b[39m▇\u001b[32m█\u001b[39m\u001b[39m█\u001b[39m█\u001b[39m█\u001b[39m█\u001b[39m█\u001b[39m█\u001b[39m█\u001b[39m█\u001b[39m█\u001b[39m█\u001b[39m█\u001b[39m█\u001b[39m▆\u001b[39m▅\u001b[39m▆\u001b[39m▄\u001b[39m▆\u001b[39m▅\u001b[39m▆\u001b[39m▆\u001b[39m▄\u001b[39m▅\u001b[39m▄\u001b[39m▄\u001b[39m▄\u001b[39m▅\u001b[39m▄\u001b[39m▄\u001b[39m▃\u001b[39m▃\u001b[39m▃\u001b[39m▃\u001b[39m▃\u001b[39m▃\u001b[39m▅\u001b[39m▄\u001b[39m▃\u001b[39m▅\u001b[39m▃\u001b[39m▃\u001b[39m▃\u001b[39m▄\u001b[39m▃\u001b[39m▃\u001b[39m▃\u001b[39m▃\u001b[39m \u001b[39m█\n",
       "  52.8 ns\u001b[90m       \u001b[39m\u001b[90mHistogram: \u001b[39m\u001b[90m\u001b[1mlog(\u001b[22m\u001b[39m\u001b[90mfrequency\u001b[39m\u001b[90m\u001b[1m)\u001b[22m\u001b[39m\u001b[90m by time\u001b[39m      64.1 ns \u001b[0m\u001b[1m<\u001b[22m\n",
       "\n",
       " Memory estimate\u001b[90m: \u001b[39m\u001b[33m0 bytes\u001b[39m, allocs estimate\u001b[90m: \u001b[39m\u001b[33m0\u001b[39m."
      ]
     },
     "metadata": {},
     "output_type": "display_data"
    }
   ],
   "source": [
    "@benchmark ccall(:objc_getClass, Ptr{Cvoid}, (Ptr{Cchar},),$(names[10]))"
   ]
  },
  {
   "cell_type": "code",
   "execution_count": 10,
   "metadata": {},
   "outputs": [
    {
     "name": "stdout",
     "output_type": "stream",
     "text": [
      "Lookup by name: 387.0us Total, 181.60488033786953ns per Class"
     ]
    }
   ],
   "source": [
    "## wrap lookup in function\n",
    "function lookup(names::Vector{String})\n",
    "    class = C_NULL\n",
    "    start = time_ns()\n",
    "    for n in names\n",
    "        class = ccall(:objc_getClass, Ptr{Cvoid}, (Ptr{Cchar},),n)\n",
    "    end\n",
    "    fin = time_ns()\n",
    "    return start, fin\n",
    "end\n",
    "start, fin = lookup(names)\n",
    "\n",
    "print(\"Lookup by name: $((fin-start)/1000)us Total, $((fin-start)/num_classes)ns per Class\")"
   ]
  },
  {
   "cell_type": "code",
   "execution_count": 12,
   "metadata": {},
   "outputs": [],
   "source": [
    "using DataFrames"
   ]
  },
  {
   "cell_type": "code",
   "execution_count": 13,
   "metadata": {},
   "outputs": [
    {
     "data": {
      "text/html": [
       "<div><div style = \"float: left;\"><span>2131×2 DataFrame</span></div><div style = \"float: right;\"><span style = \"font-style: italic;\">2106 rows omitted</span></div><div style = \"clear: both;\"></div></div><div class = \"data-frame\" style = \"overflow-x: scroll;\"><table class = \"data-frame\" style = \"margin-bottom: 6px;\"><thead><tr class = \"header\"><th class = \"rowNumber\" style = \"font-weight: bold; text-align: right;\">Row</th><th style = \"text-align: left;\">name</th><th style = \"text-align: left;\">image</th></tr><tr class = \"subheader headerLastRow\"><th class = \"rowNumber\" style = \"font-weight: bold; text-align: right;\"></th><th title = \"String\" style = \"text-align: left;\">String</th><th title = \"String\" style = \"text-align: left;\">String</th></tr></thead><tbody><tr><td class = \"rowNumber\" style = \"font-weight: bold; text-align: right;\">1</td><td style = \"text-align: left;\">__NSGenericDeallocHandler</td><td style = \"text-align: left;\">/System/Library/Frameworks/CoreFoundation.framework/Versions/A/CoreFoundation</td></tr><tr><td class = \"rowNumber\" style = \"font-weight: bold; text-align: right;\">2</td><td style = \"text-align: left;\">__NSAtom</td><td style = \"text-align: left;\">/System/Library/Frameworks/CoreFoundation.framework/Versions/A/CoreFoundation</td></tr><tr><td class = \"rowNumber\" style = \"font-weight: bold; text-align: right;\">3</td><td style = \"text-align: left;\">_NSZombie_</td><td style = \"text-align: left;\">/System/Library/Frameworks/CoreFoundation.framework/Versions/A/CoreFoundation</td></tr><tr><td class = \"rowNumber\" style = \"font-weight: bold; text-align: right;\">4</td><td style = \"text-align: left;\">__NSMessageBuilder</td><td style = \"text-align: left;\">/System/Library/Frameworks/CoreFoundation.framework/Versions/A/CoreFoundation</td></tr><tr><td class = \"rowNumber\" style = \"font-weight: bold; text-align: right;\">5</td><td style = \"text-align: left;\">NSProxy</td><td style = \"text-align: left;\">/System/Library/Frameworks/Foundation.framework/Versions/C/Foundation</td></tr><tr><td class = \"rowNumber\" style = \"font-weight: bold; text-align: right;\">6</td><td style = \"text-align: left;\">_LSCoreTypesRecordProxy</td><td style = \"text-align: left;\">/System/Library/Frameworks/CoreServices.framework/Versions/A/Frameworks/LaunchServices.framework/Versions/A/LaunchServices</td></tr><tr><td class = \"rowNumber\" style = \"font-weight: bold; text-align: right;\">7</td><td style = \"text-align: left;\">NSUndoManagerProxy</td><td style = \"text-align: left;\">/System/Library/Frameworks/Foundation.framework/Versions/C/Foundation</td></tr><tr><td class = \"rowNumber\" style = \"font-weight: bold; text-align: right;\">8</td><td style = \"text-align: left;\">NSProtocolChecker</td><td style = \"text-align: left;\">/System/Library/Frameworks/Foundation.framework/Versions/C/Foundation</td></tr><tr><td class = \"rowNumber\" style = \"font-weight: bold; text-align: right;\">9</td><td style = \"text-align: left;\">NSConcreteProtocolChecker</td><td style = \"text-align: left;\">/System/Library/Frameworks/Foundation.framework/Versions/C/Foundation</td></tr><tr><td class = \"rowNumber\" style = \"font-weight: bold; text-align: right;\">10</td><td style = \"text-align: left;\">NSAutoContentAccessingProxy</td><td style = \"text-align: left;\">/System/Library/Frameworks/Foundation.framework/Versions/C/Foundation</td></tr><tr><td class = \"rowNumber\" style = \"font-weight: bold; text-align: right;\">11</td><td style = \"text-align: left;\">NSDistantObject</td><td style = \"text-align: left;\">/System/Library/Frameworks/Foundation.framework/Versions/C/Foundation</td></tr><tr><td class = \"rowNumber\" style = \"font-weight: bold; text-align: right;\">12</td><td style = \"text-align: left;\">NSMutableStringProxy</td><td style = \"text-align: left;\">/System/Library/Frameworks/Foundation.framework/Versions/C/Foundation</td></tr><tr><td class = \"rowNumber\" style = \"font-weight: bold; text-align: right;\">13</td><td style = \"text-align: left;\">_TtCs12_SwiftObject</td><td style = \"text-align: left;\">/usr/lib/swift/libswiftCore.dylib</td></tr><tr><td style = \"text-align: right;\">&vellip;</td><td style = \"text-align: right;\">&vellip;</td><td style = \"text-align: right;\">&vellip;</td></tr><tr><td class = \"rowNumber\" style = \"font-weight: bold; text-align: right;\">2120</td><td style = \"text-align: left;\">OS_xpc_data</td><td style = \"text-align: left;\">/usr/lib/system/libxpc.dylib</td></tr><tr><td class = \"rowNumber\" style = \"font-weight: bold; text-align: right;\">2121</td><td style = \"text-align: left;\">OS_xpc_date</td><td style = \"text-align: left;\">/usr/lib/system/libxpc.dylib</td></tr><tr><td class = \"rowNumber\" style = \"font-weight: bold; text-align: right;\">2122</td><td style = \"text-align: left;\">OS_xpc_pointer</td><td style = \"text-align: left;\">/usr/lib/system/libxpc.dylib</td></tr><tr><td class = \"rowNumber\" style = \"font-weight: bold; text-align: right;\">2123</td><td style = \"text-align: left;\">OS_xpc_double</td><td style = \"text-align: left;\">/usr/lib/system/libxpc.dylib</td></tr><tr><td class = \"rowNumber\" style = \"font-weight: bold; text-align: right;\">2124</td><td style = \"text-align: left;\">OS_xpc_bool</td><td style = \"text-align: left;\">/usr/lib/system/libxpc.dylib</td></tr><tr><td class = \"rowNumber\" style = \"font-weight: bold; text-align: right;\">2125</td><td style = \"text-align: left;\">OS_xpc_null</td><td style = \"text-align: left;\">/usr/lib/system/libxpc.dylib</td></tr><tr><td class = \"rowNumber\" style = \"font-weight: bold; text-align: right;\">2126</td><td style = \"text-align: left;\">OS_xpc_session</td><td style = \"text-align: left;\">/usr/lib/system/libxpc.dylib</td></tr><tr><td class = \"rowNumber\" style = \"font-weight: bold; text-align: right;\">2127</td><td style = \"text-align: left;\">OS_xpc_service</td><td style = \"text-align: left;\">/usr/lib/system/libxpc.dylib</td></tr><tr><td class = \"rowNumber\" style = \"font-weight: bold; text-align: right;\">2128</td><td style = \"text-align: left;\">OS_xpc_connection</td><td style = \"text-align: left;\">/usr/lib/system/libxpc.dylib</td></tr><tr><td class = \"rowNumber\" style = \"font-weight: bold; text-align: right;\">2129</td><td style = \"text-align: left;\">__NSUnrecognizedTaggedPointer</td><td style = \"text-align: left;\">/usr/lib/libobjc.A.dylib</td></tr><tr><td class = \"rowNumber\" style = \"font-weight: bold; text-align: right;\">2130</td><td style = \"text-align: left;\">Protocol</td><td style = \"text-align: left;\">/usr/lib/libobjc.A.dylib</td></tr><tr><td class = \"rowNumber\" style = \"font-weight: bold; text-align: right;\">2131</td><td style = \"text-align: left;\">__IncompleteProtocol</td><td style = \"text-align: left;\">/usr/lib/libobjc.A.dylib</td></tr></tbody></table></div>"
      ],
      "text/latex": [
       "\\begin{tabular}{r|cc}\n",
       "\t& name & \\\\\n",
       "\t\\hline\n",
       "\t& String & \\\\\n",
       "\t\\hline\n",
       "\t1 & \\_\\_NSGenericDeallocHandler & $\\dots$ \\\\\n",
       "\t2 & \\_\\_NSAtom & $\\dots$ \\\\\n",
       "\t3 & \\_NSZombie\\_ & $\\dots$ \\\\\n",
       "\t4 & \\_\\_NSMessageBuilder & $\\dots$ \\\\\n",
       "\t5 & NSProxy & $\\dots$ \\\\\n",
       "\t6 & \\_LSCoreTypesRecordProxy & $\\dots$ \\\\\n",
       "\t7 & NSUndoManagerProxy & $\\dots$ \\\\\n",
       "\t8 & NSProtocolChecker & $\\dots$ \\\\\n",
       "\t9 & NSConcreteProtocolChecker & $\\dots$ \\\\\n",
       "\t10 & NSAutoContentAccessingProxy & $\\dots$ \\\\\n",
       "\t11 & NSDistantObject & $\\dots$ \\\\\n",
       "\t12 & NSMutableStringProxy & $\\dots$ \\\\\n",
       "\t13 & \\_TtCs12\\_SwiftObject & $\\dots$ \\\\\n",
       "\t14 & \\_TtC10FoundationP33\\_12768CA107A31EF2DCE034FD75B541C913\\_\\_JSONDecoder & $\\dots$ \\\\\n",
       "\t15 & Foundation.\\_\\_JSONDecoder & $\\dots$ \\\\\n",
       "\t16 & \\_TtC10FoundationP33\\_12768CA107A31EF2DCE034FD75B541C913\\_\\_JSONEncoder & $\\dots$ \\\\\n",
       "\t17 & \\_TtC10FoundationP33\\_12768CA107A31EF2DCE034FD75B541C924\\_\\_JSONReferencingEncoder & $\\dots$ \\\\\n",
       "\t18 & Foundation.\\_\\_JSONEncoder & $\\dots$ \\\\\n",
       "\t19 & \\_TtCV10Foundation16AttributedString4Guts & $\\dots$ \\\\\n",
       "\t20 & \\_TtCE10FoundationCSo7NSTimer14TimerPublisher & $\\dots$ \\\\\n",
       "\t21 & \\_TtCV10Foundation4Data14RangeReference & $\\dots$ \\\\\n",
       "\t22 & Foundation.\\_\\_DataStorage & $\\dots$ \\\\\n",
       "\t23 & \\_TtCV10Foundation3URL21UnicodeLookalikeTable & $\\dots$ \\\\\n",
       "\t24 & \\_TtCE10FoundationCSo12NSDictionary9\\_Iterator & $\\dots$ \\\\\n",
       "\t$\\dots$ & $\\dots$ &  \\\\\n",
       "\\end{tabular}\n"
      ],
      "text/plain": [
       "\u001b[1m2131×2 DataFrame\u001b[0m\n",
       "\u001b[1m  Row \u001b[0m│\u001b[1m name                          \u001b[0m\u001b[1m image                             \u001b[0m\n",
       "      │\u001b[90m String                        \u001b[0m\u001b[90m String                            \u001b[0m\n",
       "──────┼──────────────────────────────────────────────────────────────────\n",
       "    1 │ __NSGenericDeallocHandler      /System/Library/Frameworks/CoreF…\n",
       "    2 │ __NSAtom                       /System/Library/Frameworks/CoreF…\n",
       "    3 │ _NSZombie_                     /System/Library/Frameworks/CoreF…\n",
       "    4 │ __NSMessageBuilder             /System/Library/Frameworks/CoreF…\n",
       "    5 │ NSProxy                        /System/Library/Frameworks/Found…\n",
       "    6 │ _LSCoreTypesRecordProxy        /System/Library/Frameworks/CoreS…\n",
       "    7 │ NSUndoManagerProxy             /System/Library/Frameworks/Found…\n",
       "    8 │ NSProtocolChecker              /System/Library/Frameworks/Found…\n",
       "  ⋮   │               ⋮                                ⋮\n",
       " 2125 │ OS_xpc_null                    /usr/lib/system/libxpc.dylib\n",
       " 2126 │ OS_xpc_session                 /usr/lib/system/libxpc.dylib\n",
       " 2127 │ OS_xpc_service                 /usr/lib/system/libxpc.dylib\n",
       " 2128 │ OS_xpc_connection              /usr/lib/system/libxpc.dylib\n",
       " 2129 │ __NSUnrecognizedTaggedPointer  /usr/lib/libobjc.A.dylib\n",
       " 2130 │ Protocol                       /usr/lib/libobjc.A.dylib\n",
       " 2131 │ __IncompleteProtocol           /usr/lib/libobjc.A.dylib\n",
       "\u001b[36m                                                        2116 rows omitted\u001b[0m"
      ]
     },
     "metadata": {},
     "output_type": "display_data"
    }
   ],
   "source": [
    "df = DataFrame(;name=names, image=images)"
   ]
  },
  {
   "cell_type": "code",
   "execution_count": 24,
   "metadata": {},
   "outputs": [
    {
     "data": {
      "text/plain": [
       "f (generic function with 1 method)"
      ]
     },
     "metadata": {},
     "output_type": "display_data"
    }
   ],
   "source": [
    "f(fu) = (args...; kw...) -> x -> fu(x, args...; kw...\n",
    ")"
   ]
  },
  {
   "cell_type": "code",
   "execution_count": 28,
   "metadata": {},
   "outputs": [
    {
     "data": {
      "text/html": [
       "<div><div style = \"float: left;\"><span>42×2 DataFrame</span></div><div style = \"float: right;\"><span style = \"font-style: italic;\">17 rows omitted</span></div><div style = \"clear: both;\"></div></div><div class = \"data-frame\" style = \"overflow-x: scroll;\"><table class = \"data-frame\" style = \"margin-bottom: 6px;\"><thead><tr class = \"header\"><th class = \"rowNumber\" style = \"font-weight: bold; text-align: right;\">Row</th><th style = \"text-align: left;\">image</th><th style = \"text-align: left;\">nrow</th></tr><tr class = \"subheader headerLastRow\"><th class = \"rowNumber\" style = \"font-weight: bold; text-align: right;\"></th><th title = \"String\" style = \"text-align: left;\">String</th><th title = \"Int64\" style = \"text-align: left;\">Int64</th></tr></thead><tbody><tr><td class = \"rowNumber\" style = \"font-weight: bold; text-align: right;\">1</td><td style = \"text-align: left;\">/System/Library/Frameworks/Foundation.framework/Versions/C/Foundation</td><td style = \"text-align: right;\">796</td></tr><tr><td class = \"rowNumber\" style = \"font-weight: bold; text-align: right;\">2</td><td style = \"text-align: left;\">/System/Library/Frameworks/Network.framework/Versions/A/Network</td><td style = \"text-align: right;\">241</td></tr><tr><td class = \"rowNumber\" style = \"font-weight: bold; text-align: right;\">3</td><td style = \"text-align: left;\">/System/Library/Frameworks/CoreServices.framework/Versions/A/Frameworks/LaunchServices.framework/Versions/A/LaunchServices</td><td style = \"text-align: right;\">176</td></tr><tr><td class = \"rowNumber\" style = \"font-weight: bold; text-align: right;\">4</td><td style = \"text-align: left;\">/System/Library/Frameworks/SecurityFoundation.framework/Versions/A/SecurityFoundation</td><td style = \"text-align: right;\">161</td></tr><tr><td class = \"rowNumber\" style = \"font-weight: bold; text-align: right;\">5</td><td style = \"text-align: left;\">/System/Library/Frameworks/CFNetwork.framework/Versions/A/CFNetwork</td><td style = \"text-align: right;\">159</td></tr><tr><td class = \"rowNumber\" style = \"font-weight: bold; text-align: right;\">6</td><td style = \"text-align: left;\">/System/Library/Frameworks/CoreFoundation.framework/Versions/A/CoreFoundation</td><td style = \"text-align: right;\">157</td></tr><tr><td class = \"rowNumber\" style = \"font-weight: bold; text-align: right;\">7</td><td style = \"text-align: left;\">/System/Library/Frameworks/Security.framework/Versions/A/Security</td><td style = \"text-align: right;\">66</td></tr><tr><td class = \"rowNumber\" style = \"font-weight: bold; text-align: right;\">8</td><td style = \"text-align: left;\">/System/Library/PrivateFrameworks/CoreAutoLayout.framework/Versions/A/CoreAutoLayout</td><td style = \"text-align: right;\">49</td></tr><tr><td class = \"rowNumber\" style = \"font-weight: bold; text-align: right;\">9</td><td style = \"text-align: left;\">/usr/lib/swift/libswiftCore.dylib</td><td style = \"text-align: right;\">41</td></tr><tr><td class = \"rowNumber\" style = \"font-weight: bold; text-align: right;\">10</td><td style = \"text-align: left;\">/System/Library/PrivateFrameworks/InstalledContentLibrary.framework/Versions/A/InstalledContentLibrary</td><td style = \"text-align: right;\">41</td></tr><tr><td class = \"rowNumber\" style = \"font-weight: bold; text-align: right;\">11</td><td style = \"text-align: left;\">/usr/lib/system/libxpc.dylib</td><td style = \"text-align: right;\">33</td></tr><tr><td class = \"rowNumber\" style = \"font-weight: bold; text-align: right;\">12</td><td style = \"text-align: left;\">/usr/lib/system/libdispatch.dylib</td><td style = \"text-align: right;\">29</td></tr><tr><td class = \"rowNumber\" style = \"font-weight: bold; text-align: right;\">13</td><td style = \"text-align: left;\">/System/Library/PrivateFrameworks/MessageSecurity.framework/Versions/A/MessageSecurity</td><td style = \"text-align: right;\">22</td></tr><tr><td style = \"text-align: right;\">&vellip;</td><td style = \"text-align: right;\">&vellip;</td><td style = \"text-align: right;\">&vellip;</td></tr><tr><td class = \"rowNumber\" style = \"font-weight: bold; text-align: right;\">31</td><td style = \"text-align: left;\">/usr/lib/libmis.dylib</td><td style = \"text-align: right;\">3</td></tr><tr><td class = \"rowNumber\" style = \"font-weight: bold; text-align: right;\">32</td><td style = \"text-align: left;\">/usr/lib/libTLE.dylib</td><td style = \"text-align: right;\">3</td></tr><tr><td class = \"rowNumber\" style = \"font-weight: bold; text-align: right;\">33</td><td style = \"text-align: left;\">/usr/lib/system/libsystem_trace.dylib</td><td style = \"text-align: right;\">3</td></tr><tr><td class = \"rowNumber\" style = \"font-weight: bold; text-align: right;\">34</td><td style = \"text-align: left;\">/usr/lib/libMobileGestalt.dylib</td><td style = \"text-align: right;\">2</td></tr><tr><td class = \"rowNumber\" style = \"font-weight: bold; text-align: right;\">35</td><td style = \"text-align: left;\">/System/Library/PrivateFrameworks/CoreAnalytics.framework/Versions/A/CoreAnalytics</td><td style = \"text-align: right;\">2</td></tr><tr><td class = \"rowNumber\" style = \"font-weight: bold; text-align: right;\">36</td><td style = \"text-align: left;\">/System/Library/PrivateFrameworks/LanguageModeling.framework/Versions/A/LanguageModeling</td><td style = \"text-align: right;\">2</td></tr><tr><td class = \"rowNumber\" style = \"font-weight: bold; text-align: right;\">37</td><td style = \"text-align: left;\">/usr/lib/swift/libswiftDispatch.dylib</td><td style = \"text-align: right;\">1</td></tr><tr><td class = \"rowNumber\" style = \"font-weight: bold; text-align: right;\">38</td><td style = \"text-align: left;\">/usr/lib/swift/libswiftObjectiveC.dylib</td><td style = \"text-align: right;\">1</td></tr><tr><td class = \"rowNumber\" style = \"font-weight: bold; text-align: right;\">39</td><td style = \"text-align: left;\">/usr/lib/swift/libswift_StringProcessing.dylib</td><td style = \"text-align: right;\">1</td></tr><tr><td class = \"rowNumber\" style = \"font-weight: bold; text-align: right;\">40</td><td style = \"text-align: left;\">/usr/lib/swift/libswiftos.dylib</td><td style = \"text-align: right;\">1</td></tr><tr><td class = \"rowNumber\" style = \"font-weight: bold; text-align: right;\">41</td><td style = \"text-align: left;\">/System/Library/PrivateFrameworks/MobileSystemServices.framework/Versions/A/MobileSystemServices</td><td style = \"text-align: right;\">1</td></tr><tr><td class = \"rowNumber\" style = \"font-weight: bold; text-align: right;\">42</td><td style = \"text-align: left;\">/System/Library/Frameworks/Accelerate.framework/Versions/A/Frameworks/vecLib.framework/Versions/A/libLinearAlgebra.dylib</td><td style = \"text-align: right;\">1</td></tr></tbody></table></div>"
      ],
      "text/latex": [
       "\\begin{tabular}{r|cc}\n",
       "\t& image & \\\\\n",
       "\t\\hline\n",
       "\t& String & \\\\\n",
       "\t\\hline\n",
       "\t1 & /System/Library/Frameworks/Foundation.framework/Versions/C/Foundation & $\\dots$ \\\\\n",
       "\t2 & /System/Library/Frameworks/Network.framework/Versions/A/Network & $\\dots$ \\\\\n",
       "\t3 & /System/Library/Frameworks/CoreServices.framework/Versions/A/Frameworks/LaunchServices.framework/Versions/A/LaunchServices & $\\dots$ \\\\\n",
       "\t4 & /System/Library/Frameworks/SecurityFoundation.framework/Versions/A/SecurityFoundation & $\\dots$ \\\\\n",
       "\t5 & /System/Library/Frameworks/CFNetwork.framework/Versions/A/CFNetwork & $\\dots$ \\\\\n",
       "\t6 & /System/Library/Frameworks/CoreFoundation.framework/Versions/A/CoreFoundation & $\\dots$ \\\\\n",
       "\t7 & /System/Library/Frameworks/Security.framework/Versions/A/Security & $\\dots$ \\\\\n",
       "\t8 & /System/Library/PrivateFrameworks/CoreAutoLayout.framework/Versions/A/CoreAutoLayout & $\\dots$ \\\\\n",
       "\t9 & /usr/lib/swift/libswiftCore.dylib & $\\dots$ \\\\\n",
       "\t10 & /System/Library/PrivateFrameworks/InstalledContentLibrary.framework/Versions/A/InstalledContentLibrary & $\\dots$ \\\\\n",
       "\t11 & /usr/lib/system/libxpc.dylib & $\\dots$ \\\\\n",
       "\t12 & /usr/lib/system/libdispatch.dylib & $\\dots$ \\\\\n",
       "\t13 & /System/Library/PrivateFrameworks/MessageSecurity.framework/Versions/A/MessageSecurity & $\\dots$ \\\\\n",
       "\t14 & /System/Library/Frameworks/CoreServices.framework/Versions/A/Frameworks/SharedFileList.framework/Versions/A/SharedFileList & $\\dots$ \\\\\n",
       "\t15 & /System/Library/Frameworks/OpenDirectory.framework/Versions/A/OpenDirectory & $\\dots$ \\\\\n",
       "\t16 & /System/Library/PrivateFrameworks/ProtocolBuffer.framework/Versions/A/ProtocolBuffer & $\\dots$ \\\\\n",
       "\t17 & /System/Library/PrivateFrameworks/TCC.framework/Versions/A/TCC & $\\dots$ \\\\\n",
       "\t18 & /System/Library/Frameworks/CoreServices.framework/Versions/A/Frameworks/Metadata.framework/Versions/A/Metadata & $\\dots$ \\\\\n",
       "\t19 & /System/Library/Frameworks/IOSurface.framework/Versions/A/IOSurface & $\\dots$ \\\\\n",
       "\t20 & /System/Library/PrivateFrameworks/BackgroundTaskManagement.framework/Versions/A/BackgroundTaskManagement & $\\dots$ \\\\\n",
       "\t21 & /System/Library/Frameworks/IOKit.framework/Versions/A/IOKit & $\\dots$ \\\\\n",
       "\t22 & /System/Library/PrivateFrameworks/CoreServicesStore.framework/Versions/A/CoreServicesStore & $\\dots$ \\\\\n",
       "\t23 & /usr/lib/system/libsystem\\_blocks.dylib & $\\dots$ \\\\\n",
       "\t24 & /usr/lib/libobjc.A.dylib & $\\dots$ \\\\\n",
       "\t$\\dots$ & $\\dots$ &  \\\\\n",
       "\\end{tabular}\n"
      ],
      "text/plain": [
       "\u001b[1m42×2 DataFrame\u001b[0m\n",
       "\u001b[1m Row \u001b[0m│\u001b[1m image                             \u001b[0m\u001b[1m nrow  \u001b[0m\n",
       "     │\u001b[90m String                            \u001b[0m\u001b[90m Int64 \u001b[0m\n",
       "─────┼──────────────────────────────────────────\n",
       "   1 │ /System/Library/Frameworks/Found…    796\n",
       "   2 │ /System/Library/Frameworks/Netwo…    241\n",
       "   3 │ /System/Library/Frameworks/CoreS…    176\n",
       "   4 │ /System/Library/Frameworks/Secur…    161\n",
       "   5 │ /System/Library/Frameworks/CFNet…    159\n",
       "   6 │ /System/Library/Frameworks/CoreF…    157\n",
       "   7 │ /System/Library/Frameworks/Secur…     66\n",
       "   8 │ /System/Library/PrivateFramework…     49\n",
       "  ⋮  │                 ⋮                    ⋮\n",
       "  36 │ /System/Library/PrivateFramework…      2\n",
       "  37 │ /usr/lib/swift/libswiftDispatch.…      1\n",
       "  38 │ /usr/lib/swift/libswiftObjective…      1\n",
       "  39 │ /usr/lib/swift/libswift_StringPr…      1\n",
       "  40 │ /usr/lib/swift/libswiftos.dylib        1\n",
       "  41 │ /System/Library/PrivateFramework…      1\n",
       "  42 │ /System/Library/Frameworks/Accel…      1\n",
       "\u001b[36m                                 27 rows omitted\u001b[0m"
      ]
     },
     "metadata": {},
     "output_type": "display_data"
    }
   ],
   "source": [
    "image = df |> f(groupby)(:image) |> f(combine)(nrow) |> f(sort)(order(:nrow, rev=true))"
   ]
  },
  {
   "cell_type": "code",
   "execution_count": 30,
   "metadata": {},
   "outputs": [
    {
     "data": {
      "text/plain": [
       "true"
      ]
     },
     "metadata": {},
     "output_type": "display_data"
    }
   ],
   "source": [
    "\"/System/Library/Frameworks/Foundation.framework/Versions/C/Foundation\" ∈ image[:, :image]"
   ]
  },
  {
   "cell_type": "code",
   "execution_count": 31,
   "metadata": {},
   "outputs": [
    {
     "data": {
      "text/plain": [
       "false"
      ]
     },
     "metadata": {},
     "output_type": "display_data"
    }
   ],
   "source": [
    "\"/usr/lib/libSystem.B.dylib\" ∈ image[:,:image]"
   ]
  },
  {
   "cell_type": "code",
   "execution_count": null,
   "metadata": {},
   "outputs": [],
   "source": []
  }
 ],
 "metadata": {
  "kernelspec": {
   "display_name": "Julia 1.8.5",
   "language": "julia",
   "name": "julia-1.8"
  },
  "language_info": {
   "file_extension": ".jl",
   "mimetype": "application/julia",
   "name": "julia",
   "version": "1.8.5"
  },
  "orig_nbformat": 4
 },
 "nbformat": 4,
 "nbformat_minor": 2
}
