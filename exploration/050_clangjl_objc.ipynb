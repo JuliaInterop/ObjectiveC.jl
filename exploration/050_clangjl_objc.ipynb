{
 "cells": [
  {
   "cell_type": "code",
   "execution_count": 3,
   "metadata": {},
   "outputs": [],
   "source": [
    "using Clang"
   ]
  },
  {
   "cell_type": "code",
   "execution_count": 12,
   "metadata": {},
   "outputs": [
    {
     "data": {
      "text/plain": [
       "\"/Applications/Xcode.app/Contents/Developer/Platforms/MacOSX.platform/Developer/SDKs/MacOSX.sdk\""
      ]
     },
     "metadata": {},
     "output_type": "display_data"
    }
   ],
   "source": [
    "sdk_dir = `xcrun --show-sdk-path` |> open |> readchomp |> String"
   ]
  },
  {
   "cell_type": "code",
   "execution_count": 16,
   "metadata": {},
   "outputs": [
    {
     "data": {
      "text/plain": [
       "TranslationUnit(Ptr{Clang.LibClang.CXTranslationUnitImpl} @0x000000013de2eff0, Index(Ptr{Nothing} @0x000000013de57040, 0, 1))"
      ]
     },
     "metadata": {},
     "output_type": "display_data"
    }
   ],
   "source": [
    "trans_unit = Clang.parse_header(Index(), \"050_test.h\", [\"-x\",\"objective-c\",\"-fmodules\", \"-isysroot\", sdk_dir])"
   ]
  },
  {
   "cell_type": "code",
   "execution_count": 17,
   "metadata": {},
   "outputs": [
    {
     "data": {
      "text/plain": [
       "CLCursor (CLTranslationUnit) 050_test.h"
      ]
     },
     "metadata": {},
     "output_type": "display_data"
    }
   ],
   "source": [
    "root_cursor = Clang.getTranslationUnitCursor(trans_unit)"
   ]
  },
  {
   "cell_type": "code",
   "execution_count": 23,
   "metadata": {},
   "outputs": [
    {
     "data": {
      "text/plain": [
       "printobj (generic function with 7 methods)"
      ]
     },
     "metadata": {},
     "output_type": "display_data"
    }
   ],
   "source": [
    "printind(ind::Int, st...) = println(join([repeat(\" \", 2*ind), st...]))\n",
    "\n",
    "printobj(cursor::CLCursor) = printobj(0, cursor)\n",
    "printobj(t::CLType) = \"$(typeof(t)) $(spelling(t))\"\n",
    "printobj(t::CLInt) = t\n",
    "printobj(t::CLPointer) = Clang.getPointeeType(t)\n",
    "printobj(ind::Int, t::CLType) = printind(ind, printobj(t))\n",
    "\n",
    "function printobj(ind::Int, cursor::Union{CLFieldDecl, CLParmDecl})\n",
    "    printind(ind+1, typeof(cursor), \" \", printobj(Clang.getCursorType(cursor)), \" \", name(cursor))\n",
    "end\n",
    "\n",
    "function printobj(ind::Int, node::Union{CLCursor, CLStructDecl, CLCompoundStmt,\n",
    "                                        CLFunctionDecl, CLBinaryOperator})\n",
    "    printind(ind, \" \", typeof(node), \" \", name(node))\n",
    "    for c in children(node)\n",
    "        printobj(ind + 1, c)\n",
    "    end\n",
    "end"
   ]
  },
  {
   "cell_type": "code",
   "execution_count": 24,
   "metadata": {},
   "outputs": [
    {
     "name": "stdout",
     "output_type": "stream",
     "text": [
      " CLTranslationUnit 050_test.h\n",
      "   CLObjCClassRef Protocol\n",
      "   CLStructDecl \n",
      "      CLFieldDecl CLType (CLInt)  a\n",
      "      CLFieldDecl CLType (CLInt)  b\n",
      "   CLTypedefDecl Bar\n",
      "     CLStructDecl \n",
      "        CLFieldDecl CLType (CLInt)  a\n",
      "        CLFieldDecl CLType (CLInt)  b\n",
      "   CLFunctionDecl m1(Bar)\n",
      "      CLParmDecl CLTypedef Bar in\n",
      "     CLCompoundStmt \n"
     ]
    },
    {
     "name": "stdout",
     "output_type": "stream",
     "text": [
      "       CLReturnStmt \n",
      "         CLBinaryOperator \n",
      "           CLUnexposedExpr a\n",
      "             CLMemberRefExpr a\n",
      "               CLDeclRefExpr in\n",
      "           CLUnexposedExpr b\n",
      "             CLMemberRefExpr b\n",
      "               CLDeclRefExpr in\n",
      "   CLFunctionDecl m2(Bar)\n",
      "     CLTypeRef Bar\n",
      "      CLParmDecl CLTypedef Bar in\n",
      "     CLCompoundStmt \n",
      "       CLCompoundAssignOperator \n",
      "         CLMemberRefExpr a\n",
      "           CLDeclRefExpr in\n",
      "         CLIntegerLiteral \n",
      "       CLCompoundAssignOperator \n",
      "         CLMemberRefExpr b\n",
      "           CLDeclRefExpr in\n",
      "         CLIntegerLiteral \n",
      "       CLReturnStmt \n",
      "         CLUnexposedExpr in\n",
      "           CLDeclRefExpr in\n"
     ]
    },
    {
     "name": "stdout",
     "output_type": "stream",
     "text": [
      "   CLObjCInterfaceDecl Foo\n",
      "     CLObjCInstanceMethodDecl m0:\n",
      "        CLParmDecl CLType (CLInt)  x\n",
      "     CLObjCInstanceMethodDecl m1:\n",
      "        CLParmDecl CLTypedef Bar x\n",
      "     CLObjCInstanceMethodDecl m2:\n",
      "       CLTypeRef Bar\n",
      "        CLParmDecl CLTypedef Bar x\n",
      "   CLObjCImplementationDecl Foo\n",
      "     CLObjCInstanceMethodDecl m0:\n",
      "        CLParmDecl CLType (CLInt)  x\n",
      "       CLCompoundStmt \n",
      "         CLReturnStmt \n",
      "           CLBinaryOperator \n",
      "             CLIntegerLiteral \n",
      "             CLUnexposedExpr x\n",
      "               CLDeclRefExpr x\n",
      "     CLObjCInstanceMethodDecl m1:\n",
      "        CLParmDecl CLTypedef Bar x\n",
      "       CLCompoundStmt \n",
      "         CLReturnStmt \n",
      "           CLBinaryOperator \n",
      "             CLUnexposedExpr a\n",
      "               CLMemberRefExpr a\n",
      "                 CLDeclRefExpr x\n",
      "             CLUnexposedExpr b\n",
      "               CLMemberRefExpr b\n",
      "                 CLDeclRefExpr x\n",
      "     CLObjCInstanceMethodDecl m2:\n",
      "       CLTypeRef Bar\n",
      "        CLParmDecl CLTypedef Bar x\n",
      "       CLCompoundStmt \n",
      "         CLCompoundAssignOperator \n",
      "           CLMemberRefExpr a\n",
      "             CLDeclRefExpr x\n",
      "           CLIntegerLiteral \n",
      "         CLCompoundAssignOperator \n",
      "           CLMemberRefExpr b\n",
      "             CLDeclRefExpr x\n",
      "           CLIntegerLiteral \n",
      "         CLReturnStmt \n",
      "           CLUnexposedExpr x\n",
      "             CLDeclRefExpr x\n"
     ]
    }
   ],
   "source": [
    "printobj(root_cursor)"
   ]
  },
  {
   "cell_type": "code",
   "execution_count": null,
   "metadata": {},
   "outputs": [],
   "source": []
  }
 ],
 "metadata": {
  "kernelspec": {
   "display_name": "Julia 1.8.5",
   "language": "julia",
   "name": "julia-1.8"
  },
  "language_info": {
   "file_extension": ".jl",
   "mimetype": "application/julia",
   "name": "julia",
   "version": "1.8.5"
  },
  "orig_nbformat": 4
 },
 "nbformat": 4,
 "nbformat_minor": 2
}
