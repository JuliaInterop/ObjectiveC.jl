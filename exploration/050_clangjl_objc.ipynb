{
 "cells": [
  {
   "cell_type": "code",
   "execution_count": 1,
   "metadata": {},
   "outputs": [],
   "source": [
    "using Revise\n",
    "using Clang, Clang_jll"
   ]
  },
  {
   "cell_type": "code",
   "execution_count": 9,
   "metadata": {},
   "outputs": [
    {
     "data": {
      "text/plain": [
       "63048"
      ]
     },
     "metadata": {},
     "output_type": "display_data"
    }
   ],
   "source": [
    "## for attaching lldb\n",
    "getpid()"
   ]
  },
  {
   "cell_type": "code",
   "execution_count": 2,
   "metadata": {},
   "outputs": [
    {
     "data": {
      "text/plain": [
       "\"/Users/nehal/src/exploration/llvm-project/llvm/cmake-build-debug/lib/libclang.dylib\""
      ]
     },
     "metadata": {},
     "output_type": "display_data"
    }
   ],
   "source": [
    "## check custom libclang is loaded from LocalPreferences\n",
    "Clang_jll.libclang"
   ]
  },
  {
   "cell_type": "code",
   "execution_count": 3,
   "metadata": {},
   "outputs": [
    {
     "data": {
      "text/plain": [
       "\"/Applications/Xcode.app/Contents/Developer/Platforms/MacOSX.platform/Developer/SDKs/MacOSX.sdk\""
      ]
     },
     "metadata": {},
     "output_type": "display_data"
    }
   ],
   "source": [
    "sdk_dir = `xcrun --show-sdk-path` |> open |> readchomp |> String"
   ]
  },
  {
   "cell_type": "code",
   "execution_count": 4,
   "metadata": {},
   "outputs": [
    {
     "data": {
      "text/plain": [
       "Index(Ptr{Nothing} @0x0000000102fd5530, 0, 1)"
      ]
     },
     "metadata": {},
     "output_type": "display_data"
    }
   ],
   "source": [
    "index = Index()"
   ]
  },
  {
   "cell_type": "code",
   "execution_count": 5,
   "metadata": {},
   "outputs": [],
   "source": [
    "## needs patched clang.jl and patched libclang (due to typo, deletes file immediately after operation)\n",
    "Clang.setInvocationEmissionPath(index,pwd())"
   ]
  },
  {
   "cell_type": "code",
   "execution_count": 7,
   "metadata": {},
   "outputs": [
    {
     "data": {
      "text/plain": [
       "TranslationUnit(Ptr{Clang.LibClang.CXTranslationUnitImpl} @0x00000001267fecb0, Index(Ptr{Nothing} @0x0000000102fd5530, 0, 1))"
      ]
     },
     "metadata": {},
     "output_type": "display_data"
    }
   ],
   "source": [
    "trans_unit = Clang.parse_header(index, \"050_test.h\", [\"-x\",\"objective-c\",\"-fmodules\", \"-isysroot\", sdk_dir])"
   ]
  },
  {
   "attachments": {},
   "cell_type": "markdown",
   "metadata": {},
   "source": [
    "Invocation Log\n",
    "------------------\n",
    "```\n",
    "{\n",
    "    \"toolchain\": \"/Users/nehal/src/exploration/llvm-project/llvm/cmake-build-debug\",\n",
    "    \"libclang.operation\": \"parse\",\n",
    "    \"libclang.opts\": 0,\n",
    "    \"args\": [\n",
    "        \"clang\",\n",
    "        \"-fno-spell-checking\",\n",
    "        \"-x\",\n",
    "        \"objective-c\",\n",
    "        \"-fmodules\",\n",
    "        \"-isysroot\",\n",
    "        \"/Applications/Xcode.app/Contents/Developer/Platforms/MacOSX.platform/Developer/SDKs/MacOSX.sdk\",\n",
    "        \"050_test.h\",\n",
    "        \"-fallow-editor-placeholders\"\n",
    "    ]\n",
    "}\n",
    "```"
   ]
  },
  {
   "cell_type": "code",
   "execution_count": 14,
   "metadata": {},
   "outputs": [
    {
     "data": {
      "text/plain": [
       "CLCursor (CLTranslationUnit) 050_test.h"
      ]
     },
     "metadata": {},
     "output_type": "display_data"
    }
   ],
   "source": [
    "root_cursor = Clang.getTranslationUnitCursor(trans_unit)"
   ]
  },
  {
   "cell_type": "code",
   "execution_count": 15,
   "metadata": {},
   "outputs": [
    {
     "name": "stdout",
     "output_type": "stream",
     "text": [
      " CLTranslationUnit 050_test.h\n",
      "   CLObjCClassRef Protocol\n",
      "   CLStructDecl \n",
      "      CLFieldDecl a CLInt int a\n",
      "      CLFieldDecl a CLInt int b\n",
      "   CLTypedefDecl Bar\n",
      "     CLStructDecl \n",
      "        CLFieldDecl a CLInt int a\n",
      "        CLFieldDecl a CLInt int b\n",
      "   CLFunctionDecl m1(Bar)\n",
      "      CLParmDecl a CLTypedef Bar in\n",
      "     CLCompoundStmt \n",
      "       CLReturnStmt \n",
      "         CLBinaryOperator \n",
      "           CLUnexposedExpr a\n",
      "             CLMemberRefExpr a\n",
      "               CLDeclRefExpr in\n",
      "           CLUnexposedExpr b\n",
      "             CLMemberRefExpr b\n",
      "               CLDeclRefExpr in\n",
      "   CLFunctionDecl m2(Bar)\n",
      "     CLTypeRef Bar\n",
      "      CLParmDecl a CLTypedef Bar in\n",
      "     CLCompoundStmt \n",
      "       CLCompoundAssignOperator \n",
      "         CLMemberRefExpr a\n",
      "           CLDeclRefExpr in\n",
      "         CLIntegerLiteral \n",
      "       CLCompoundAssignOperator \n",
      "         CLMemberRefExpr b\n",
      "           CLDeclRefExpr in\n",
      "         CLIntegerLiteral \n",
      "       CLReturnStmt \n",
      "         CLUnexposedExpr in\n",
      "           CLDeclRefExpr in\n",
      "   CLObjCClassRef SomeClass\n",
      "   CLObjCProtocolRef SomeProtocol\n",
      "   CLObjCInterfaceDecl Foo\n",
      "     CLObjCInstanceMethodDecl m0:\n",
      "        CLParmDecl a CLInt int x\n",
      "     CLObjCInstanceMethodDecl m1:\n",
      "        CLParmDecl a CLTypedef Bar x\n",
      "     CLObjCInstanceMethodDecl m2:\n",
      "       CLTypeRef Bar\n",
      "        CLParmDecl a CLTypedef Bar x\n",
      "   CLObjCImplementationDecl Foo\n",
      "     CLObjCInstanceMethodDecl m0:\n",
      "        CLParmDecl a CLInt int x\n",
      "       CLCompoundStmt \n",
      "         CLReturnStmt \n",
      "           CLBinaryOperator \n",
      "             CLIntegerLiteral \n",
      "             CLUnexposedExpr x\n",
      "               CLDeclRefExpr x\n",
      "     CLObjCInstanceMethodDecl m1:\n",
      "        CLParmDecl a CLTypedef Bar x\n",
      "       CLCompoundStmt \n",
      "         CLReturnStmt \n",
      "           CLBinaryOperator \n",
      "             CLUnexposedExpr a\n",
      "               CLMemberRefExpr a\n",
      "                 CLDeclRefExpr x\n",
      "             CLUnexposedExpr b\n",
      "               CLMemberRefExpr b\n",
      "                 CLDeclRefExpr x\n",
      "     CLObjCInstanceMethodDecl m2:\n",
      "       CLTypeRef Bar\n",
      "        CLParmDecl a CLTypedef Bar x\n",
      "       CLCompoundStmt \n",
      "         CLCompoundAssignOperator \n",
      "           CLMemberRefExpr a\n",
      "             CLDeclRefExpr x\n",
      "           CLIntegerLiteral \n",
      "         CLCompoundAssignOperator \n",
      "           CLMemberRefExpr b\n",
      "             CLDeclRefExpr x\n",
      "           CLIntegerLiteral \n",
      "         CLReturnStmt \n",
      "           CLUnexposedExpr x\n",
      "             CLDeclRefExpr x\n"
     ]
    }
   ],
   "source": [
    "dumpobj(root_cursor)"
   ]
  },
  {
   "cell_type": "code",
   "execution_count": 7,
   "metadata": {},
   "outputs": [
    {
     "data": {
      "text/plain": [
       "setenv(`\u001b[4m/Users/nehal/.julia/artifacts/c9828f0ef0f967487ce376a3d8b4c8a646d38ace/tools/clang\u001b[24m`,[\"EDITOR=code\", \"PATH=/Users/nehal/.julia/artifacts/c9828f0ef0f967487ce376a3d8b4c8a646d38ace/tools:/Users/nehal/.juliaup/bin:/Users/nehal/micromamba/condabin:/Users/nehal/bin:/opt/homebrew/bin:/opt/homebrew/sbin:/usr/local/bin:/System/Cryptexes/App/usr/bin:/usr/bin:/bin:/usr/sbin:/sbin:/usr/local/go/bin:/usr/local/MacGPG2/bin:/usr/local/share/dotnet:~/.dotnet/tools:/Library/Apple/usr/bin:/Library/Frameworks/Mono.framework/Versions/Current/Commands:/Users/nehal/Library/Application Support/JetBrains/Toolbox/scripts:/opt/homebrew/opt/fzf/bin\", \"VSCODE_NLS_CONFIG={\\\"locale\\\":\\\"en-us\\\",\\\"availableLanguages\\\":{},\\\"_languagePackSupport\\\":true}\", \"MANPATH=/opt/homebrew/share/man::\", \"STARSHIP_SESSION_KEY=2986315598189502\", \"USER=nehal\", \"VSCODE_L10N_BUNDLE_LOCATION=\", \"SHELL=/bin/zsh\", \"TMPDIR=/var/folders/wr/5n6v6bvj6mxdxjcg5_5ss1ph0000gn/T/\", \"HOMEBREW_CELLAR=/opt/homebrew/Cellar\"  …  \"JULIA_NUM_THREADS=10\", \"VSCODE_CWD=/\", \"COMMAND_MODE=unix2003\", \"VSCODE_HANDLES_UNCAUGHT_ERRORS=true\", \"PWD=/\", \"VSCODE_AMD_ENTRYPOINT=vs/workbench/api/node/extensionHostProcess\", \"ORIGINAL_XDG_CURRENT_DESKTOP=undefined\", \"MAMBA_EXE=/opt/homebrew/bin/micromamba\", \"MallocNanoZone=0\", \"MAMBA_ROOT_PREFIX=/Users/nehal/micromamba\"])"
      ]
     },
     "metadata": {},
     "output_type": "display_data"
    }
   ],
   "source": [
    "clang()"
   ]
  },
  {
   "attachments": {},
   "cell_type": "markdown",
   "metadata": {},
   "source": [
    "## TODO\n",
    "-------------\n",
    "- Clang.jl\n",
    "  -- nested headers\n",
    "  -- add support to CLang.jl for\n",
    "    -- precompiled headers\n",
    "       --main file, localdefs --> understand precise definition\n",
    "  -- test precomiled header\n",
    "  "
   ]
  }
 ],
 "metadata": {
  "kernelspec": {
   "display_name": "Julia 1.8.5",
   "language": "julia",
   "name": "julia-1.8"
  },
  "language_info": {
   "file_extension": ".jl",
   "mimetype": "application/julia",
   "name": "julia",
   "version": "1.8.5"
  },
  "orig_nbformat": 4
 },
 "nbformat": 4,
 "nbformat_minor": 2
}
