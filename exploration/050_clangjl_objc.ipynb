{
 "cells": [
  {
   "cell_type": "code",
   "execution_count": 1,
   "metadata": {},
   "outputs": [],
   "source": [
    "using Revise\n",
    "using Clang, Clang_jll"
   ]
  },
  {
   "cell_type": "code",
   "execution_count": 2,
   "metadata": {},
   "outputs": [
    {
     "data": {
      "text/plain": [
       "79985"
      ]
     },
     "metadata": {},
     "output_type": "display_data"
    }
   ],
   "source": [
    "## for attaching lldb\n",
    "getpid()"
   ]
  },
  {
   "cell_type": "code",
   "execution_count": 4,
   "metadata": {},
   "outputs": [
    {
     "data": {
      "text/plain": [
       "\"/Users/nehal/src/exploration/llvm-project/llvm/cmake-build-debug/lib/libclang.dylib\""
      ]
     },
     "metadata": {},
     "output_type": "display_data"
    }
   ],
   "source": [
    "## check custom libclang is loaded from LocalPreferences\n",
    "Clang_jll.libclang"
   ]
  },
  {
   "cell_type": "code",
   "execution_count": 5,
   "metadata": {},
   "outputs": [
    {
     "data": {
      "text/plain": [
       "\"/Applications/Xcode.app/Contents/Developer/Platforms/MacOSX.platform/Developer/SDKs/MacOSX.sdk\""
      ]
     },
     "metadata": {},
     "output_type": "display_data"
    }
   ],
   "source": [
    "sdk_dir = `xcrun --show-sdk-path` |> open |> readchomp |> String"
   ]
  },
  {
   "cell_type": "code",
   "execution_count": 6,
   "metadata": {},
   "outputs": [
    {
     "data": {
      "text/plain": [
       "Index(Ptr{Nothing} @0x000000016761c600, 0, 1)"
      ]
     },
     "metadata": {},
     "output_type": "display_data"
    }
   ],
   "source": [
    "index = Index()"
   ]
  },
  {
   "cell_type": "code",
   "execution_count": 7,
   "metadata": {},
   "outputs": [],
   "source": [
    "## needs patched clang.jl and patched libclang (due to typo, deletes file immediately after operation)\n",
    "Clang.setInvocationEmissionPath(index,pwd())"
   ]
  },
  {
   "cell_type": "code",
   "execution_count": 7,
   "metadata": {},
   "outputs": [
    {
     "data": {
      "text/plain": [
       "TranslationUnit(Ptr{Clang.LibClang.CXTranslationUnitImpl} @0x000000015263b540, Index(Ptr{Nothing} @0x0000000116010e10, 0, 1))"
      ]
     },
     "metadata": {},
     "output_type": "display_data"
    }
   ],
   "source": [
    "trans_unit = Clang.parse_header(index, \"050_test.h\", [\"-x\",\"objective-c\",\"-fmodules\", \"-isysroot\", sdk_dir])"
   ]
  },
  {
   "cell_type": "code",
   "execution_count": 8,
   "metadata": {},
   "outputs": [
    {
     "data": {
      "text/plain": [
       "CLCursor (CLTranslationUnit) 050_test.h"
      ]
     },
     "metadata": {},
     "output_type": "display_data"
    }
   ],
   "source": [
    "root_cursor = Clang.getTranslationUnitCursor(trans_unit)"
   ]
  },
  {
   "cell_type": "code",
   "execution_count": null,
   "metadata": {},
   "outputs": [],
   "source": [
    "dumpobj(root_cursor)"
   ]
  },
  {
   "cell_type": "code",
   "execution_count": 10,
   "metadata": {},
   "outputs": [
    {
     "name": "stdout",
     "output_type": "stream",
     "text": [
      " CLTranslationUnit 050_testa.h\n",
      "   CLFunctionDecl c()\n",
      "   CLFunctionDecl b()\n",
      "   CLStructDecl \n",
      "      CLFieldDecl a CLInt int a\n",
      "      CLFieldDecl a CLInt int b\n",
      "   CLTypedefDecl Bar\n",
      "     CLStructDecl \n",
      "        CLFieldDecl a CLInt int a\n",
      "        CLFieldDecl a CLInt int b\n"
     ]
    }
   ],
   "source": [
    "Clang.parse_header(index, \"050_testa.h\") |>  Clang.getTranslationUnitCursor |> dumpobj"
   ]
  },
  {
   "cell_type": "code",
   "execution_count": 11,
   "metadata": {},
   "outputs": [
    {
     "data": {
      "text/plain": [
       "4-element Vector{CLCursor}:\n",
       " CLCursor (CLFunctionDecl) c()\n",
       " CLCursor (CLFunctionDecl) b()\n",
       " CLCursor (CLStructDecl) \n",
       " CLCursor (CLTypedefDecl) Bar"
      ]
     },
     "metadata": {},
     "output_type": "display_data"
    }
   ],
   "source": [
    "Clang.parse_header(index, \"050_testa.h\") |>  Clang.getTranslationUnitCursor |> children"
   ]
  },
  {
   "cell_type": "code",
   "execution_count": 16,
   "metadata": {},
   "outputs": [
    {
     "name": "stderr",
     "output_type": "stream",
     "text": [
      "clang version 13.0.1 (https://github.com/habemus-papadum/llvm-project.git 75e33f71c2dae584b13a7d1186ae0a038ba98838)\n",
      "Target: arm64-apple-darwin22.1.0\n",
      "Thread model: posix\n",
      "InstalledDir: \n",
      "ignoring nonexistent directory \"/Applications/Xcode.app/Contents/Developer/Platforms/MacOSX.platform/Developer/SDKs/MacOSX.sdk/usr/local/include\"\n",
      "ignoring nonexistent directory \"/Applications/Xcode.app/Contents/Developer/Platforms/MacOSX.platform/Developer/SDKs/MacOSX.sdk/Library/Frameworks\"\n",
      "#include \"...\" search starts here:\n",
      "#include <...> search starts here:\n",
      " /Users/nehal/.julia/artifacts/c9828f0ef0f967487ce376a3d8b4c8a646d38ace/lib/clang/13.0.1/include\n",
      " /Applications/Xcode.app/Contents/Developer/Platforms/MacOSX.platform/Developer/SDKs/MacOSX.sdk/usr/include\n",
      " /Applications/Xcode.app/Contents/Developer/Platforms/MacOSX.platform/Developer/SDKs/MacOSX.sdk/System/Library/Frameworks (framework directory)\n",
      "End of search list.\n"
     ]
    },
    {
     "data": {
      "text/plain": [
       "TranslationUnit(Ptr{Clang.LibClang.CXTranslationUnitImpl} @0x0000000137772090, Index(Ptr{Nothing} @0x000000016761c600, 0, 1))"
      ]
     },
     "metadata": {},
     "output_type": "display_data"
    }
   ],
   "source": [
    "args = [\n",
    "    \"-x\",\"objective-c\",\n",
    "    \"-isysroot\", sdk_dir,\n",
    "    # \"-fmodules\", \n",
    "    # \"-fmodules-cache-path=cache\",\n",
    "    # \"-fimplicit-module-maps\",\n",
    "    # #\"-fmodules-validate-system-headers\", \n",
    "    \"-fblocks\", \n",
    "    \"-fregister-global-dtors-with-atexit\",\n",
    "    \"-fgnuc-version=4.2.1\", \n",
    "    \"-fobjc-runtime=macosx-13.0.0\", \n",
    "    \"-fobjc-exceptions\", \n",
    "    \"-fexceptions\",\n",
    "    \"-fmax-type-align=16\",\n",
    "    \"-fcommon\", \n",
    "    \"-resource-dir\",\n",
    "    \"/Users/nehal/.julia/artifacts/c9828f0ef0f967487ce376a3d8b4c8a646d38ace/lib/clang/13.0.1\",\n",
    "    \"-DNS_FORMAT_ARGUMENT(A)=\",\n",
    "    \"-D__GCC_HAVE_DWARF2_CFI_ASM=1\",\n",
    "    \"-v\",\n",
    "    ]\n",
    "\n",
    "    \"\"\"\n",
    "    A bit of explanation on what is going on.\n",
    "    In Xcode 13 RC localizedAttributedStringForKey:value:table: method got NS_FORMAT_ARGUMENT(1) macro attribute. Previously, this attribute was applicable only to functions that return a C string, CFString or NSString. Recently, Apple added support in Clang for another type, NSAttributedString. Clang that ships with Kotlin/Native does not have this patch and fails to process localizedAttributedStringForKey:value:table: declaration.\n",
    "    What this workaround does is it makes NS_FORMAT_ARGUMENT(1) a no-op. It is perfectly fine in this case since cinterop does not take this attribute into account anyway.\n",
    "    https://github.com/apple/llvm-project/commit/2de0a18a8949f0235fb3a08dcc55ff3aa7d969e7\n",
    "    \n",
    "    \"\"\"\n",
    "\n",
    "trans_unit = Clang.parse_header(index, \"050_import.h\", args)"
   ]
  },
  {
   "cell_type": "code",
   "execution_count": 17,
   "metadata": {},
   "outputs": [
    {
     "data": {
      "text/plain": [
       "15539-element Vector{CLCursor}:\n",
       " CLCursor (CLObjCClassRef) Protocol\n",
       " CLCursor (CLTypedefDecl) __int8_t\n",
       " CLCursor (CLTypedefDecl) __uint8_t\n",
       " CLCursor (CLTypedefDecl) __int16_t\n",
       " CLCursor (CLTypedefDecl) __uint16_t\n",
       " CLCursor (CLTypedefDecl) __int32_t\n",
       " CLCursor (CLTypedefDecl) __uint32_t\n",
       " CLCursor (CLTypedefDecl) __int64_t\n",
       " CLCursor (CLTypedefDecl) __uint64_t\n",
       " CLCursor (CLTypedefDecl) __darwin_intptr_t\n",
       " ⋮\n",
       " CLCursor (CLObjCClassRef) NSXPCConnection\n",
       " CLCursor (CLObjCInterfaceDecl) NSUserScriptTask\n",
       " CLCursor (CLTypedefDecl) NSUserScriptTaskCompletionHandler\n",
       " CLCursor (CLObjCInterfaceDecl) NSUserUnixTask\n",
       " CLCursor (CLTypedefDecl) NSUserUnixTaskCompletionHandler\n",
       " CLCursor (CLObjCInterfaceDecl) NSUserAppleScriptTask\n",
       " CLCursor (CLTypedefDecl) NSUserAppleScriptTaskCompletionHandler\n",
       " CLCursor (CLObjCInterfaceDecl) NSUserAutomatorTask\n",
       " CLCursor (CLTypedefDecl) NSUserAutomatorTaskCompletionHandler"
      ]
     },
     "metadata": {},
     "output_type": "display_data"
    }
   ],
   "source": [
    "trans_unit |> Clang.getTranslationUnitCursor |> children"
   ]
  },
  {
   "cell_type": "code",
   "execution_count": null,
   "metadata": {},
   "outputs": [],
   "source": [
    "run(`$(clang()) -x objective-c 050_import.h -emit-ast -o test.pch -fmodules -isysroot $sdk_dir`);\n",
    "nothing\n",
    "#clang -x objective-c 050_import.h -emit-ast -o test.pch -fmodules"
   ]
  },
  {
   "attachments": {},
   "cell_type": "markdown",
   "metadata": {},
   "source": [
    "## TODO\n",
    "-------------\n",
    "- Clang.jl\n",
    "  - debug why @import works on executable but not libclang (need to debug executable)\n",
    "  - add module and file to cursor dump\n",
    "  - try to add back implicit-modules"
   ]
  },
  {
   "cell_type": "code",
   "execution_count": 17,
   "metadata": {},
   "outputs": [
    {
     "data": {
      "text/plain": [
       "\"/Users/nehal/src/ObjectiveC.jl/exploration\""
      ]
     },
     "metadata": {},
     "output_type": "display_data"
    }
   ],
   "source": [
    "pwd()"
   ]
  },
  {
   "cell_type": "code",
   "execution_count": 11,
   "metadata": {},
   "outputs": [
    {
     "data": {
      "text/plain": [
       "\"clang version 13.0.1 (/depot/downloads/clones/llvm-project.git-5a9787eb535c2edc5dea030cc221c1d60f38c9f42344f410e425ea2139e233aa 8a2ae8c8064a0544814c6fac7dd0c4a9aa29a7e6)\""
      ]
     },
     "metadata": {},
     "output_type": "display_data"
    }
   ],
   "source": [
    "Clang.version()"
   ]
  },
  {
   "cell_type": "code",
   "execution_count": 12,
   "metadata": {},
   "outputs": [
    {
     "data": {
      "text/plain": [
       "v\"13.0.1\""
      ]
     },
     "metadata": {},
     "output_type": "display_data"
    }
   ],
   "source": [
    "Base.libllvm_version"
   ]
  },
  {
   "cell_type": "code",
   "execution_count": null,
   "metadata": {},
   "outputs": [],
   "source": []
  },
  {
   "attachments": {},
   "cell_type": "markdown",
   "metadata": {},
   "source": [
    "Invocation Log\n",
    "------------------\n",
    "```\n",
    "{\n",
    "    \"toolchain\": \"/Users/nehal/src/exploration/llvm-project/llvm/cmake-build-debug\",\n",
    "    \"libclang.operation\": \"parse\",\n",
    "    \"libclang.opts\": 0,\n",
    "    \"args\": [\n",
    "        \"clang\",\n",
    "        \"-fno-spell-checking\",\n",
    "        \"-x\",\n",
    "        \"objective-c\",\n",
    "        \"-fmodules\",\n",
    "        \"-isysroot\",\n",
    "        \"/Applications/Xcode.app/Contents/Developer/Platforms/MacOSX.platform/Developer/SDKs/MacOSX.sdk\",\n",
    "        \"050_test.h\",\n",
    "        \"-fallow-editor-placeholders\"\n",
    "    ]\n",
    "}\n",
    "```"
   ]
  }
 ],
 "metadata": {
  "kernelspec": {
   "display_name": "Julia 1.8.5",
   "language": "julia",
   "name": "julia-1.8"
  },
  "language_info": {
   "file_extension": ".jl",
   "mimetype": "application/julia",
   "name": "julia",
   "version": "1.8.5"
  },
  "orig_nbformat": 4
 },
 "nbformat": 4,
 "nbformat_minor": 2
}
