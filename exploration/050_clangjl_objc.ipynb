{
 "cells": [
  {
   "cell_type": "code",
   "execution_count": 1,
   "metadata": {},
   "outputs": [],
   "source": [
    "using Revise\n",
    "using Clang, Clang_jll"
   ]
  },
  {
   "cell_type": "code",
   "execution_count": 22,
   "metadata": {},
   "outputs": [
    {
     "data": {
      "text/plain": [
       "79985"
      ]
     },
     "metadata": {},
     "output_type": "display_data"
    }
   ],
   "source": [
    "## for attaching lldb\n",
    "getpid()"
   ]
  },
  {
   "cell_type": "code",
   "execution_count": 4,
   "metadata": {},
   "outputs": [
    {
     "data": {
      "text/plain": [
       "\"/Users/nehal/src/exploration/llvm-project/llvm/cmake-build-debug/lib/libclang.dylib\""
      ]
     },
     "metadata": {},
     "output_type": "display_data"
    }
   ],
   "source": [
    "## check custom libclang is loaded from LocalPreferences\n",
    "Clang_jll.libclang"
   ]
  },
  {
   "cell_type": "code",
   "execution_count": 5,
   "metadata": {},
   "outputs": [
    {
     "data": {
      "text/plain": [
       "\"/Applications/Xcode.app/Contents/Developer/Platforms/MacOSX.platform/Developer/SDKs/MacOSX.sdk\""
      ]
     },
     "metadata": {},
     "output_type": "display_data"
    }
   ],
   "source": [
    "sdk_dir = `xcrun --show-sdk-path` |> open |> readchomp |> String"
   ]
  },
  {
   "cell_type": "code",
   "execution_count": 6,
   "metadata": {},
   "outputs": [
    {
     "data": {
      "text/plain": [
       "Index(Ptr{Nothing} @0x000000016761c600, 0, 1)"
      ]
     },
     "metadata": {},
     "output_type": "display_data"
    }
   ],
   "source": [
    "index = Index()"
   ]
  },
  {
   "cell_type": "code",
   "execution_count": 7,
   "metadata": {},
   "outputs": [],
   "source": [
    "## needs patched clang.jl and patched libclang (due to typo, deletes file immediately after operation)\n",
    "Clang.setInvocationEmissionPath(index,pwd())"
   ]
  },
  {
   "cell_type": "code",
   "execution_count": 7,
   "metadata": {},
   "outputs": [
    {
     "data": {
      "text/plain": [
       "TranslationUnit(Ptr{Clang.LibClang.CXTranslationUnitImpl} @0x000000015263b540, Index(Ptr{Nothing} @0x0000000116010e10, 0, 1))"
      ]
     },
     "metadata": {},
     "output_type": "display_data"
    }
   ],
   "source": [
    "trans_unit = Clang.parse_header(index, \"050_test.h\", [\"-x\",\"objective-c\",\"-fmodules\", \"-isysroot\", sdk_dir])"
   ]
  },
  {
   "cell_type": "code",
   "execution_count": 8,
   "metadata": {},
   "outputs": [
    {
     "data": {
      "text/plain": [
       "CLCursor (CLTranslationUnit) 050_test.h"
      ]
     },
     "metadata": {},
     "output_type": "display_data"
    }
   ],
   "source": [
    "root_cursor = Clang.getTranslationUnitCursor(trans_unit)"
   ]
  },
  {
   "cell_type": "code",
   "execution_count": null,
   "metadata": {},
   "outputs": [],
   "source": [
    "dumpobj(root_cursor)"
   ]
  },
  {
   "cell_type": "code",
   "execution_count": 10,
   "metadata": {},
   "outputs": [
    {
     "name": "stdout",
     "output_type": "stream",
     "text": [
      " CLTranslationUnit 050_testa.h\n",
      "   CLFunctionDecl c()\n",
      "   CLFunctionDecl b()\n",
      "   CLStructDecl \n",
      "      CLFieldDecl a CLInt int a\n",
      "      CLFieldDecl a CLInt int b\n",
      "   CLTypedefDecl Bar\n",
      "     CLStructDecl \n",
      "        CLFieldDecl a CLInt int a\n",
      "        CLFieldDecl a CLInt int b\n"
     ]
    }
   ],
   "source": [
    "Clang.parse_header(index, \"050_testa.h\") |>  Clang.getTranslationUnitCursor |> dumpobj"
   ]
  },
  {
   "cell_type": "code",
   "execution_count": 11,
   "metadata": {},
   "outputs": [
    {
     "data": {
      "text/plain": [
       "4-element Vector{CLCursor}:\n",
       " CLCursor (CLFunctionDecl) c()\n",
       " CLCursor (CLFunctionDecl) b()\n",
       " CLCursor (CLStructDecl) \n",
       " CLCursor (CLTypedefDecl) Bar"
      ]
     },
     "metadata": {},
     "output_type": "display_data"
    }
   ],
   "source": [
    "Clang.parse_header(index, \"050_testa.h\") |>  Clang.getTranslationUnitCursor |> children"
   ]
  },
  {
   "cell_type": "code",
   "execution_count": 16,
   "metadata": {},
   "outputs": [
    {
     "name": "stderr",
     "output_type": "stream",
     "text": [
      "clang version 13.0.1 (https://github.com/habemus-papadum/llvm-project.git 75e33f71c2dae584b13a7d1186ae0a038ba98838)\n",
      "Target: arm64-apple-darwin22.1.0\n",
      "Thread model: posix\n",
      "InstalledDir: \n",
      "ignoring nonexistent directory \"/Applications/Xcode.app/Contents/Developer/Platforms/MacOSX.platform/Developer/SDKs/MacOSX.sdk/usr/local/include\"\n",
      "ignoring nonexistent directory \"/Applications/Xcode.app/Contents/Developer/Platforms/MacOSX.platform/Developer/SDKs/MacOSX.sdk/Library/Frameworks\"\n",
      "#include \"...\" search starts here:\n",
      "#include <...> search starts here:\n",
      " /Users/nehal/.julia/artifacts/c9828f0ef0f967487ce376a3d8b4c8a646d38ace/lib/clang/13.0.1/include\n",
      " /Applications/Xcode.app/Contents/Developer/Platforms/MacOSX.platform/Developer/SDKs/MacOSX.sdk/usr/include\n",
      " /Applications/Xcode.app/Contents/Developer/Platforms/MacOSX.platform/Developer/SDKs/MacOSX.sdk/System/Library/Frameworks (framework directory)\n",
      "End of search list.\n"
     ]
    },
    {
     "data": {
      "text/plain": [
       "TranslationUnit(Ptr{Clang.LibClang.CXTranslationUnitImpl} @0x0000000137772090, Index(Ptr{Nothing} @0x000000016761c600, 0, 1))"
      ]
     },
     "metadata": {},
     "output_type": "display_data"
    }
   ],
   "source": [
    "args = [\n",
    "    \"-x\",\"objective-c\",\n",
    "    \"-isysroot\", sdk_dir,\n",
    "    # \"-fmodules\", \n",
    "    # \"-fmodules-cache-path=cache\",\n",
    "    # \"-fimplicit-module-maps\",\n",
    "    # #\"-fmodules-validate-system-headers\", \n",
    "    \"-fblocks\", \n",
    "    \"-fregister-global-dtors-with-atexit\",\n",
    "    \"-fgnuc-version=4.2.1\", \n",
    "    \"-fobjc-runtime=macosx-13.0.0\", \n",
    "    \"-fobjc-exceptions\", \n",
    "    \"-fexceptions\",\n",
    "    \"-fmax-type-align=16\",\n",
    "    \"-fcommon\", \n",
    "    \"-resource-dir\",\n",
    "    \"/Users/nehal/.julia/artifacts/c9828f0ef0f967487ce376a3d8b4c8a646d38ace/lib/clang/13.0.1\",\n",
    "    \"-DNS_FORMAT_ARGUMENT(A)=\",\n",
    "    \"-D__GCC_HAVE_DWARF2_CFI_ASM=1\",\n",
    "    \"-v\",\n",
    "    ]\n",
    "\n",
    "    \"\"\"\n",
    "    A bit of explanation on what is going on.\n",
    "    In Xcode 13 RC localizedAttributedStringForKey:value:table: method got NS_FORMAT_ARGUMENT(1) macro attribute. Previously, this attribute was applicable only to functions that return a C string, CFString or NSString. Recently, Apple added support in Clang for another type, NSAttributedString. Clang that ships with Kotlin/Native does not have this patch and fails to process localizedAttributedStringForKey:value:table: declaration.\n",
    "    What this workaround does is it makes NS_FORMAT_ARGUMENT(1) a no-op. It is perfectly fine in this case since cinterop does not take this attribute into account anyway.\n",
    "    https://github.com/apple/llvm-project/commit/2de0a18a8949f0235fb3a08dcc55ff3aa7d969e7\n",
    "    \n",
    "    \"\"\"\n",
    "\n",
    "trans_unit = Clang.parse_header(index, \"050_import.h\", args)"
   ]
  },
  {
   "cell_type": "code",
   "execution_count": 17,
   "metadata": {},
   "outputs": [
    {
     "data": {
      "text/plain": [
       "15539-element Vector{CLCursor}:\n",
       " CLCursor (CLObjCClassRef) Protocol\n",
       " CLCursor (CLTypedefDecl) __int8_t\n",
       " CLCursor (CLTypedefDecl) __uint8_t\n",
       " CLCursor (CLTypedefDecl) __int16_t\n",
       " CLCursor (CLTypedefDecl) __uint16_t\n",
       " CLCursor (CLTypedefDecl) __int32_t\n",
       " CLCursor (CLTypedefDecl) __uint32_t\n",
       " CLCursor (CLTypedefDecl) __int64_t\n",
       " CLCursor (CLTypedefDecl) __uint64_t\n",
       " CLCursor (CLTypedefDecl) __darwin_intptr_t\n",
       " ⋮\n",
       " CLCursor (CLObjCClassRef) NSXPCConnection\n",
       " CLCursor (CLObjCInterfaceDecl) NSUserScriptTask\n",
       " CLCursor (CLTypedefDecl) NSUserScriptTaskCompletionHandler\n",
       " CLCursor (CLObjCInterfaceDecl) NSUserUnixTask\n",
       " CLCursor (CLTypedefDecl) NSUserUnixTaskCompletionHandler\n",
       " CLCursor (CLObjCInterfaceDecl) NSUserAppleScriptTask\n",
       " CLCursor (CLTypedefDecl) NSUserAppleScriptTaskCompletionHandler\n",
       " CLCursor (CLObjCInterfaceDecl) NSUserAutomatorTask\n",
       " CLCursor (CLTypedefDecl) NSUserAutomatorTaskCompletionHandler"
      ]
     },
     "metadata": {},
     "output_type": "display_data"
    }
   ],
   "source": [
    "trans_unit |> Clang.getTranslationUnitCursor |> children"
   ]
  },
  {
   "cell_type": "code",
   "execution_count": null,
   "metadata": {},
   "outputs": [],
   "source": [
    "run(`$(clang()) -x objective-c 050_import.h -emit-ast -o test.pch -fmodules -isysroot $sdk_dir`);\n",
    "nothing\n",
    "#clang -x objective-c 050_import.h -emit-ast -o test.pch -fmodules"
   ]
  },
  {
   "attachments": {},
   "cell_type": "markdown",
   "metadata": {},
   "source": [
    "Precompiled Headers\n",
    "=======================\n",
    "- Try creating via clang and then loading via libclang (to work around module building problems) \n",
    "   "
   ]
  },
  {
   "cell_type": "code",
   "execution_count": 18,
   "metadata": {},
   "outputs": [],
   "source": [
    "# Simple c header \n",
    "run(`$(clang()) -x c 050_testa.h -emit-ast -o testa.pch -isysroot $sdk_dir`);"
   ]
  },
  {
   "cell_type": "code",
   "execution_count": 25,
   "metadata": {},
   "outputs": [
    {
     "data": {
      "text/plain": [
       "Ptr{Clang.LibClang.CXTranslationUnitImpl} @0x0000000000000000"
      ]
     },
     "metadata": {},
     "output_type": "display_data"
    }
   ],
   "source": [
    "ptr = Clang.clang_createTranslationUnit(index, \"testa.pch\")\n",
    "## fails -- Using a custom built libclang but jll clang has version mismatch due to git hash being different -- need to lldb to see this, there is flag that disables this\n",
    "## level of version compatibility checking but not sure how to pass it to libclang"
   ]
  },
  {
   "cell_type": "code",
   "execution_count": 26,
   "metadata": {},
   "outputs": [],
   "source": [
    "myclang = \"/Users/nehal/src/exploration/llvm-project/llvm/cmake-build-debug/bin/clang\"\n",
    "run(`$(myclang) -x c 050_testa.h -emit-ast -o testa.pch -isysroot $sdk_dir`);"
   ]
  },
  {
   "cell_type": "code",
   "execution_count": 27,
   "metadata": {},
   "outputs": [
    {
     "data": {
      "text/plain": [
       "Ptr{Clang.LibClang.CXTranslationUnitImpl} @0x0000000116805010"
      ]
     },
     "metadata": {},
     "output_type": "display_data"
    }
   ],
   "source": [
    "ptr = Clang.clang_createTranslationUnit(index, \"testa.pch\")"
   ]
  },
  {
   "cell_type": "code",
   "execution_count": null,
   "metadata": {},
   "outputs": [],
   "source": [
    "## works!"
   ]
  },
  {
   "cell_type": "code",
   "execution_count": 28,
   "metadata": {},
   "outputs": [
    {
     "data": {
      "text/plain": [
       "TranslationUnit(Ptr{Clang.LibClang.CXTranslationUnitImpl} @0x00000001176509c0, Index(Ptr{Nothing} @0x000000016761c600, 0, 1))"
      ]
     },
     "metadata": {},
     "output_type": "display_data"
    }
   ],
   "source": [
    "tu = parse_ast(index, \"testa.pch\")"
   ]
  },
  {
   "cell_type": "code",
   "execution_count": 35,
   "metadata": {},
   "outputs": [
    {
     "name": "stdout",
     "output_type": "stream",
     "text": [
      "CLCursor (CLFunctionDecl) c()\t/Users/nehal/src/ObjectiveC.jl/exploration/050_testc.h\n",
      "CLCursor (CLFunctionDecl) b()\t/Users/nehal/src/ObjectiveC.jl/exploration/050_testb.h\n",
      "CLCursor (CLStructDecl) \t/Users/nehal/src/ObjectiveC.jl/exploration/050_testa.h\n",
      "CLCursor (CLTypedefDecl) Bar\t/Users/nehal/src/ObjectiveC.jl/exploration/050_testa.h\n"
     ]
    }
   ],
   "source": [
    "for c in tu |> Clang.getTranslationUnitCursor |> children\n",
    "    println(\"$(c)\\t$(get_filename(c))\")\n",
    "end"
   ]
  },
  {
   "cell_type": "code",
   "execution_count": 38,
   "metadata": {},
   "outputs": [],
   "source": [
    "# pch with modules, #import\n",
    "run(`$(myclang) -x objective-c 050_import.h -emit-ast -o import.pch -fmodules -isysroot $sdk_dir \"-DNS_FORMAT_ARGUMENT(A)=\"`);"
   ]
  },
  {
   "cell_type": "code",
   "execution_count": 40,
   "metadata": {},
   "outputs": [
    {
     "name": "stdout",
     "output_type": "stream",
     "text": [
      "CLCursor (CLObjCClassRef) Protocol\t\n",
      "CLCursor (CLTypedefDecl) max_align_t\t/Users/nehal/src/exploration/llvm-project/llvm/cmake-build-debug/lib/clang/13.0.1/include/__stddef_max_align_t.h\n",
      "CLCursor (CLFunctionDecl) cacosf(_Complex float)\t/Applications/Xcode.app/Contents/Developer/Platforms/MacOSX.platform/Developer/SDKs/MacOSX.sdk/usr/include/complex.h\n",
      "CLCursor (CLFunctionDecl) cacos(_Complex double)\t/Applications/Xcode.app/Contents/Developer/Platforms/MacOSX.platform/Developer/SDKs/MacOSX.sdk/usr/include/complex.h\n",
      "CLCursor (CLFunctionDecl) cacosl(_Complex long double)\t/Applications/Xcode.app/Contents/Developer/Platforms/MacOSX.platform/Developer/SDKs/MacOSX.sdk/usr/include/complex.h\n",
      "CLCursor (CLFunctionDecl) casinf(_Complex float)\t/Applications/Xcode.app/Contents/Developer/Platforms/MacOSX.platform/Developer/SDKs/MacOSX.sdk/usr/include/complex.h\n",
      "CLCursor (CLFunctionDecl) casin(_Complex double)\t/Applications/Xcode.app/Contents/Developer/Platforms/MacOSX.platform/Developer/SDKs/MacOSX.sdk/usr/include/complex.h\n",
      "CLCursor (CLFunctionDecl) casinl(_Complex long double)\t/Applications/Xcode.app/Contents/Developer/Platforms/MacOSX.platform/Developer/SDKs/MacOSX.sdk/usr/include/complex.h\n",
      "CLCursor (CLFunctionDecl) catanf(_Complex float)\t/Applications/Xcode.app/Contents/Developer/Platforms/MacOSX.platform/Developer/SDKs/MacOSX.sdk/usr/include/complex.h\n",
      "CLCursor (CLFunctionDecl) catan(_Complex double)\t/Applications/Xcode.app/Contents/Developer/Platforms/MacOSX.platform/Developer/SDKs/MacOSX.sdk/usr/include/complex.h\n"
     ]
    }
   ],
   "source": [
    "for c in parse_ast(index, \"import.pch\") |> Clang.getTranslationUnitCursor |> children |> x -> Iterators.take(x,10)\n",
    "    println(\"$(c)\\t$(get_filename(c))\")\n",
    "end"
   ]
  },
  {
   "cell_type": "code",
   "execution_count": 41,
   "metadata": {},
   "outputs": [],
   "source": [
    "# pch with modules, @import\n",
    "run(`$(myclang) -x objective-c 050_import_module.h -emit-ast -o import_module.pch -fmodules -isysroot $sdk_dir \"-DNS_FORMAT_ARGUMENT(A)=\"`);"
   ]
  },
  {
   "cell_type": "code",
   "execution_count": 42,
   "metadata": {},
   "outputs": [
    {
     "name": "stdout",
     "output_type": "stream",
     "text": [
      "CLCursor (CLObjCClassRef) Protocol\t\n",
      "CLCursor (CLTypedefDecl) max_align_t\t/Users/nehal/src/exploration/llvm-project/llvm/cmake-build-debug/lib/clang/13.0.1/include/__stddef_max_align_t.h\n",
      "CLCursor (CLFunctionDecl) cacosf(_Complex float)\t/Applications/Xcode.app/Contents/Developer/Platforms/MacOSX.platform/Developer/SDKs/MacOSX.sdk/usr/include/complex.h\n",
      "CLCursor (CLFunctionDecl) cacos(_Complex double)\t/Applications/Xcode.app/Contents/Developer/Platforms/MacOSX.platform/Developer/SDKs/MacOSX.sdk/usr/include/complex.h\n",
      "CLCursor (CLFunctionDecl) cacosl(_Complex long double)\t/Applications/Xcode.app/Contents/Developer/Platforms/MacOSX.platform/Developer/SDKs/MacOSX.sdk/usr/include/complex.h\n",
      "CLCursor (CLFunctionDecl) casinf(_Complex float)\t/Applications/Xcode.app/Contents/Developer/Platforms/MacOSX.platform/Developer/SDKs/MacOSX.sdk/usr/include/complex.h\n",
      "CLCursor (CLFunctionDecl) casin(_Complex double)\t/Applications/Xcode.app/Contents/Developer/Platforms/MacOSX.platform/Developer/SDKs/MacOSX.sdk/usr/include/complex.h\n",
      "CLCursor (CLFunctionDecl) casinl(_Complex long double)\t/Applications/Xcode.app/Contents/Developer/Platforms/MacOSX.platform/Developer/SDKs/MacOSX.sdk/usr/include/complex.h\n",
      "CLCursor (CLFunctionDecl) catanf(_Complex float)\t/Applications/Xcode.app/Contents/Developer/Platforms/MacOSX.platform/Developer/SDKs/MacOSX.sdk/usr/include/complex.h\n",
      "CLCursor (CLFunctionDecl) catan(_Complex double)\t/Applications/Xcode.app/Contents/Developer/Platforms/MacOSX.platform/Developer/SDKs/MacOSX.sdk/usr/include/complex.h\n"
     ]
    }
   ],
   "source": [
    "for c in parse_ast(index, \"import_module.pch\") |> Clang.getTranslationUnitCursor |> children |> x -> Iterators.take(x,10)\n",
    "    println(\"$(c)\\t$(get_filename(c))\")\n",
    "end"
   ]
  },
  {
   "cell_type": "code",
   "execution_count": 47,
   "metadata": {},
   "outputs": [
    {
     "data": {
      "text/plain": [
       "CLCursor (CLFunctionDecl) cacosf(_Complex float)"
      ]
     },
     "metadata": {},
     "output_type": "display_data"
    }
   ],
   "source": [
    "tu = parse_ast(index, \"import_module.pch\")\n",
    "toplevel =  tu |> Clang.getTranslationUnitCursor |> children |> collect \n",
    "cu = toplevel[3]\n"
   ]
  },
  {
   "cell_type": "code",
   "execution_count": 55,
   "metadata": {},
   "outputs": [
    {
     "data": {
      "text/plain": [
       "\"Darwin.C.complex\""
      ]
     },
     "metadata": {},
     "output_type": "display_data"
    }
   ],
   "source": [
    "## modules\n",
    "file = Ref{Clang.CXFile}(C_NULL)\n",
    "location = Clang.clang_getCursorLocation(cu)\n",
    "Clang.clang_getExpansionLocation(location, file, Ref{Cuint}(0), Ref{Cuint}(0), Ref{Cuint}(0))\n",
    "mptr = Clang.clang_getModuleForFile(tu, file[])\n",
    "cxstr = Clang.clang_Module_getFullName(mptr)\n",
    "ptr = Clang.clang_getCString(cxstr)\n",
    "s = ptr == C_NULL ? \"\" : unsafe_string(ptr)\n",
    "Clang.clang_disposeString(cxstr)\n",
    "s"
   ]
  },
  {
   "attachments": {},
   "cell_type": "markdown",
   "metadata": {},
   "source": [
    "## TODO\n",
    "-------------\n",
    "- Clang.jl\n",
    "  - exploration\n",
    "    - @import\n",
    "    - module name\n",
    "    - dataframe analysis, number of modules, files, types\n",
    "\n",
    "  -admin\n",
    "    - debug why @import works on executable but not libclang (need to debug executable)\n",
    "    - clang.jl pull request\n",
    "      - documentation\n",
    "      - unit test\n",
    "\n",
    "  - add module and file to cursor dump\n",
    "  - try to add back implicit-modules"
   ]
  },
  {
   "cell_type": "code",
   "execution_count": 23,
   "metadata": {},
   "outputs": [
    {
     "data": {
      "text/plain": [
       "\"/Users/nehal/src/ObjectiveC.jl/exploration\""
      ]
     },
     "metadata": {},
     "output_type": "display_data"
    }
   ],
   "source": [
    "pwd()"
   ]
  },
  {
   "cell_type": "code",
   "execution_count": 11,
   "metadata": {},
   "outputs": [
    {
     "data": {
      "text/plain": [
       "\"clang version 13.0.1 (/depot/downloads/clones/llvm-project.git-5a9787eb535c2edc5dea030cc221c1d60f38c9f42344f410e425ea2139e233aa 8a2ae8c8064a0544814c6fac7dd0c4a9aa29a7e6)\""
      ]
     },
     "metadata": {},
     "output_type": "display_data"
    }
   ],
   "source": [
    "Clang.version()"
   ]
  },
  {
   "cell_type": "code",
   "execution_count": 12,
   "metadata": {},
   "outputs": [
    {
     "data": {
      "text/plain": [
       "v\"13.0.1\""
      ]
     },
     "metadata": {},
     "output_type": "display_data"
    }
   ],
   "source": [
    "Base.libllvm_version"
   ]
  },
  {
   "cell_type": "code",
   "execution_count": null,
   "metadata": {},
   "outputs": [],
   "source": []
  },
  {
   "attachments": {},
   "cell_type": "markdown",
   "metadata": {},
   "source": [
    "Invocation Log\n",
    "------------------\n",
    "```\n",
    "{\n",
    "    \"toolchain\": \"/Users/nehal/src/exploration/llvm-project/llvm/cmake-build-debug\",\n",
    "    \"libclang.operation\": \"parse\",\n",
    "    \"libclang.opts\": 0,\n",
    "    \"args\": [\n",
    "        \"clang\",\n",
    "        \"-fno-spell-checking\",\n",
    "        \"-x\",\n",
    "        \"objective-c\",\n",
    "        \"-fmodules\",\n",
    "        \"-isysroot\",\n",
    "        \"/Applications/Xcode.app/Contents/Developer/Platforms/MacOSX.platform/Developer/SDKs/MacOSX.sdk\",\n",
    "        \"050_test.h\",\n",
    "        \"-fallow-editor-placeholders\"\n",
    "    ]\n",
    "}\n",
    "```"
   ]
  }
 ],
 "metadata": {
  "kernelspec": {
   "display_name": "Julia 1.8.5",
   "language": "julia",
   "name": "julia-1.8"
  },
  "language_info": {
   "file_extension": ".jl",
   "mimetype": "application/julia",
   "name": "julia",
   "version": "1.8.5"
  },
  "orig_nbformat": 4
 },
 "nbformat": 4,
 "nbformat_minor": 2
}
