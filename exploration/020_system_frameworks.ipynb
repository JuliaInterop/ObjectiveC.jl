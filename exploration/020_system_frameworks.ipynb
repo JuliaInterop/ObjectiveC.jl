{
 "cells": [
  {
   "cell_type": "code",
   "execution_count": null,
   "metadata": {},
   "outputs": [],
   "source": [
    "using ObjectiveC"
   ]
  },
  {
   "cell_type": "code",
   "execution_count": 1,
   "metadata": {},
   "outputs": [
    {
     "data": {
      "text/plain": [
       "\"/System/Library/Frameworks\""
      ]
     },
     "metadata": {},
     "output_type": "display_data"
    }
   ],
   "source": [
    "framework_dir = \"/System/Library/Frameworks\""
   ]
  },
  {
   "cell_type": "code",
   "execution_count": 13,
   "metadata": {},
   "outputs": [],
   "source": [
    "isframework = r\"\\.framework$\"\n",
    "function (r::Regex)(s::AbstractString)\n",
    "    occursin(r, s)\n",
    "end"
   ]
  },
  {
   "cell_type": "code",
   "execution_count": 17,
   "metadata": {},
   "outputs": [
    {
     "data": {
      "text/plain": [
       "239-element Vector{String}:\n",
       " \"AGL.framework\"\n",
       " \"AVFAudio.framework\"\n",
       " \"AVFoundation.framework\"\n",
       " \"AVKit.framework\"\n",
       " \"AVRouting.framework\"\n",
       " \"Accelerate.framework\"\n",
       " \"Accessibility.framework\"\n",
       " \"Accounts.framework\"\n",
       " \"AdServices.framework\"\n",
       " \"AdSupport.framework\"\n",
       " ⋮\n",
       " \"_PassKit_SwiftUI.framework\"\n",
       " \"_PhotosUI_SwiftUI.framework\"\n",
       " \"_QuickLook_SwiftUI.framework\"\n",
       " \"_SceneKit_SwiftUI.framework\"\n",
       " \"_SpriteKit_SwiftUI.framework\"\n",
       " \"_StoreKit_SwiftUI.framework\"\n",
       " \"iTunesLibrary.framework\"\n",
       " \"vecLib.framework\"\n",
       " \"vmnet.framework\""
      ]
     },
     "metadata": {},
     "output_type": "display_data"
    }
   ],
   "source": [
    "files = [f for f in readdir(framework_dir) if occursin(isframework, f)] "
   ]
  },
  {
   "cell_type": "code",
   "execution_count": 11,
   "metadata": {},
   "outputs": [
    {
     "data": {
      "text/plain": [
       "true"
      ]
     },
     "metadata": {},
     "output_type": "display_data"
    }
   ],
   "source": [
    "isframework(files[1])"
   ]
  },
  {
   "cell_type": "code",
   "execution_count": null,
   "metadata": {},
   "outputs": [],
   "source": [
    "files "
   ]
  }
 ],
 "metadata": {
  "kernelspec": {
   "display_name": "Julia 1.8.5",
   "language": "julia",
   "name": "julia-1.8"
  },
  "language_info": {
   "file_extension": ".jl",
   "mimetype": "application/julia",
   "name": "julia",
   "version": "1.8.5"
  },
  "orig_nbformat": 4
 },
 "nbformat": 4,
 "nbformat_minor": 2
}
