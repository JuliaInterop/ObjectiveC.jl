{
 "cells": [
  {
   "cell_type": "code",
   "execution_count": 1,
   "metadata": {},
   "outputs": [],
   "source": [
    "using Revise\n",
    "using Clang, Clang_jll"
   ]
  },
  {
   "cell_type": "code",
   "execution_count": 2,
   "metadata": {},
   "outputs": [
    {
     "data": {
      "text/plain": [
       "\"/Applications/Xcode.app/Contents/Developer/Platforms/MacOSX.platform/Developer/SDKs/MacOSX.sdk\""
      ]
     },
     "metadata": {},
     "output_type": "display_data"
    }
   ],
   "source": [
    "sdk_dir = `xcrun --show-sdk-path` |> open |> readchomp |> String"
   ]
  },
  {
   "cell_type": "code",
   "execution_count": 3,
   "metadata": {},
   "outputs": [
    {
     "data": {
      "text/plain": [
       "Index(Ptr{Nothing} @0x0000000141f74210, 0, 1)"
      ]
     },
     "metadata": {},
     "output_type": "display_data"
    }
   ],
   "source": [
    "index = Index()"
   ]
  },
  {
   "cell_type": "code",
   "execution_count": 4,
   "metadata": {},
   "outputs": [
    {
     "data": {
      "text/plain": [
       "TranslationUnit(Ptr{Clang.LibClang.CXTranslationUnitImpl} @0x000000010340fc20, Index(Ptr{Nothing} @0x0000000141f74210, 0, 1))"
      ]
     },
     "metadata": {},
     "output_type": "display_data"
    }
   ],
   "source": [
    "tu = Clang.parse_header(index, \"048_testa.h\") \n"
   ]
  },
  {
   "cell_type": "code",
   "execution_count": 5,
   "metadata": {},
   "outputs": [
    {
     "data": {
      "text/plain": [
       "CLCursor (CLTranslationUnit) 048_testa.h"
      ]
     },
     "metadata": {},
     "output_type": "display_data"
    }
   ],
   "source": [
    "cu = Clang.getTranslationUnitCursor(tu)"
   ]
  },
  {
   "cell_type": "code",
   "execution_count": 6,
   "metadata": {},
   "outputs": [
    {
     "name": "stdout",
     "output_type": "stream",
     "text": [
      " CLTranslationUnit 048_testa.h\n",
      "   CLFunctionDecl c()\n",
      "   CLFunctionDecl b()\n",
      "   CLStructDecl \n",
      "      CLFieldDecl a CLInt int a\n",
      "      CLFieldDecl a CLInt int b\n",
      "   CLTypedefDecl Bar\n",
      "     CLStructDecl \n",
      "        CLFieldDecl a CLInt int a\n",
      "        CLFieldDecl a CLInt int b\n"
     ]
    }
   ],
   "source": [
    "dumpobj(cu)"
   ]
  },
  {
   "cell_type": "code",
   "execution_count": 7,
   "metadata": {},
   "outputs": [
    {
     "data": {
      "text/plain": [
       "4-element Vector{CLCursor}:\n",
       " CLCursor (CLFunctionDecl) c()\n",
       " CLCursor (CLFunctionDecl) b()\n",
       " CLCursor (CLStructDecl) \n",
       " CLCursor (CLTypedefDecl) Bar"
      ]
     },
     "metadata": {},
     "output_type": "display_data"
    }
   ],
   "source": [
    "children(cu)"
   ]
  },
  {
   "attachments": {},
   "cell_type": "markdown",
   "metadata": {},
   "source": [
    "Precompiled Headers\n",
    "=======================\n",
    "- Try creating via clang and then loading via libclang (to work around module building problems) \n",
    "   "
   ]
  },
  {
   "cell_type": "code",
   "execution_count": 8,
   "metadata": {},
   "outputs": [],
   "source": [
    "# Simple c header \n",
    "run(`$(clang()) -x c 048_testa.h -emit-ast -o testa.pch -isysroot $sdk_dir`);"
   ]
  },
  {
   "cell_type": "code",
   "execution_count": 9,
   "metadata": {},
   "outputs": [
    {
     "data": {
      "text/plain": [
       "Ptr{Clang.LibClang.CXTranslationUnitImpl} @0x0000000000000000"
      ]
     },
     "metadata": {},
     "output_type": "display_data"
    }
   ],
   "source": [
    "ptr = Clang.clang_createTranslationUnit(index, \"testa.pch\")\n",
    "## fails -- Using a custom built libclang but jll clang has version mismatch due to git hash being different -- need to lldb to see this, there is flag that disables this\n",
    "## level of version compatibility checking but not sure how to pass it to libclang"
   ]
  },
  {
   "cell_type": "code",
   "execution_count": 11,
   "metadata": {},
   "outputs": [],
   "source": [
    "myclang = \"/Users/nehal/src/exploration/llvm-project/llvm/cmake-build-debug/bin/clang\"\n",
    "run(`$(myclang) -x c 048_testa.h -emit-ast -o testa.pch -isysroot $sdk_dir`);"
   ]
  },
  {
   "cell_type": "code",
   "execution_count": 12,
   "metadata": {},
   "outputs": [
    {
     "data": {
      "text/plain": [
       "Ptr{Clang.LibClang.CXTranslationUnitImpl} @0x000000017753f610"
      ]
     },
     "metadata": {},
     "output_type": "display_data"
    }
   ],
   "source": [
    "ptr = Clang.clang_createTranslationUnit(index, \"testa.pch\")"
   ]
  },
  {
   "cell_type": "code",
   "execution_count": null,
   "metadata": {},
   "outputs": [],
   "source": [
    "## works!"
   ]
  },
  {
   "cell_type": "code",
   "execution_count": 13,
   "metadata": {},
   "outputs": [
    {
     "data": {
      "text/plain": [
       "TranslationUnit(Ptr{Clang.LibClang.CXTranslationUnitImpl} @0x00000001776d6ec0, Index(Ptr{Nothing} @0x0000000141f74210, 0, 1))"
      ]
     },
     "metadata": {},
     "output_type": "display_data"
    }
   ],
   "source": [
    "tu = parse_ast(index, \"testa.pch\")"
   ]
  },
  {
   "cell_type": "code",
   "execution_count": 14,
   "metadata": {},
   "outputs": [
    {
     "name": "stdout",
     "output_type": "stream",
     "text": [
      "CLCursor (CLFunctionDecl) c()\t/Users/nehal/src/ObjectiveC.jl/exploration/048_testc.h\n",
      "CLCursor (CLFunctionDecl) b()\t/Users/nehal/src/ObjectiveC.jl/exploration/048_testb.h\n",
      "CLCursor (CLStructDecl) \t/Users/nehal/src/ObjectiveC.jl/exploration/048_testa.h\n",
      "CLCursor (CLTypedefDecl) Bar\t/Users/nehal/src/ObjectiveC.jl/exploration/048_testa.h\n"
     ]
    }
   ],
   "source": [
    "for c in tu |> Clang.getTranslationUnitCursor |> children\n",
    "    println(\"$(c)\\t$(get_filename(c))\")\n",
    "end"
   ]
  }
 ],
 "metadata": {
  "kernelspec": {
   "display_name": "Julia 1.8.5",
   "language": "julia",
   "name": "julia-1.8"
  },
  "language_info": {
   "file_extension": ".jl",
   "mimetype": "application/julia",
   "name": "julia",
   "version": "1.8.5"
  },
  "orig_nbformat": 4
 },
 "nbformat": 4,
 "nbformat_minor": 2
}
